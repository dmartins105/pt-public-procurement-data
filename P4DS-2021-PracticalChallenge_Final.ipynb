{
 "cells": [
  {
   "cell_type": "markdown",
   "metadata": {},
   "source": [
    "# Programming for Data Science Practical Examination\n",
    "## Introduction \n",
    "\n",
    "The challenge of this pratical is to explore the public procurement data available in the portal www.base.gov.pt. <br>\n",
    "Public Procurements are contracts establish between a public institutions (the issuer of a procurement) and a third-party supplier. <br>\n",
    "Each contract is classified using the Common Procurement Vocabulary (CPV). The CPV classification aims at establishing a single classification system for public procurement in Europe, helping in comparative statistics and regulation. The CPV is a five level hierarchical classification encoded in a nine digit string. For instance the first two digits identify the division, the first three the groups, and so on. You can find more information about the CPVs at https://simap.ted.europa.eu/cpv\n",
    "\n",
    "\n",
    "We will use a sample dataset extracted from the portal BASE (www.base.gov.pt) that contains information on public procurements executed between 2012 and 2014. Below you can find a step-by-step instructions of what the tasks you need to perform in order to analyse this dataset. Each step indicates the amount of points you can score. Make sure you comment all your code and provide, when requested, a discussion about what you have done and the results obtained.\n",
    "\n",
    "This examination does not intend to test your ability to:<br>\n",
    ". perform complex data analysis;<br>\n",
    ". develop complex data-drive models; <br>\n",
    ". write optimal algorithmic solutions to a problem. <br>\n",
    "Instead, it aims at test your ability to implement a pre-planned step by step project in python.\n",
    "\n",
    "This is an individual activity and weights 40% (8 points) of your final mark.\n",
    "\n",
    "## Submission Details\n",
    "\n",
    "The deadline for the submission is May 30th at 23:59, and submission must be done through the corresponding activity in moodle. Your submission should consist of an archive (zip file) containing the following files: <br>\n",
    "1) A copy of this notebook with your answers; <br>\n",
    "2) A PDF/HTML version of the notebook with your answers (File -> Download As -> PDF/HTML); <br>\n",
    "\n",
    "**Submissions done in .rar archives will not be graded.** <br>\n",
    "**Submissions delivered that are not in a jupyter notebook format will not be graded.**\n",
    "\n",
    "Good Luck, and enjoy!"
   ]
  },
  {
   "cell_type": "markdown",
   "metadata": {},
   "source": [
    "## Boilerplate\n",
    "\n",
    "Before you start, let us make sure you have all the necessary packages in your working environment. To that end run the following cells to install and load all the necessary libraries."
   ]
  },
  {
   "cell_type": "code",
   "execution_count": 2,
   "metadata": {
    "scrolled": true
   },
   "outputs": [],
   "source": [
    "#import sys\n",
    "#!{sys.executable} -m pip install --upgrade pip --user\n",
    "#!{sys.executable} -m pip install xlrd\n",
    "#!{sys.executable} -m pip install requests\n",
    "#!{sys.executable} -m pip install seaborn"
   ]
  },
  {
   "cell_type": "markdown",
   "metadata": {},
   "source": [
    "Then we load the necessary libraries to execute each of the steps below."
   ]
  },
  {
   "cell_type": "code",
   "execution_count": 3,
   "metadata": {},
   "outputs": [],
   "source": [
    "import pandas as pd\n",
    "import numpy as np\n",
    "import scipy as sp\n",
    "import seaborn as sns\n",
    "import matplotlib.pyplot as plt\n",
    "import statsmodels as sm\n",
    "import os\n",
    "import shutil\n",
    "import requests\n",
    "from zipfile import ZipFile"
   ]
  },
  {
   "cell_type": "code",
   "execution_count": 4,
   "metadata": {
    "scrolled": true
   },
   "outputs": [
    {
     "name": "stdout",
     "output_type": "stream",
     "text": [
      "Pandas version  1.2.4\n",
      "Numpy version  1.19.5\n",
      "Scipy version  1.6.2\n",
      "Seaborn version  0.11.1\n",
      "StatsModels version  0.12.2\n"
     ]
    }
   ],
   "source": [
    "print('Pandas version ',pd.__version__)\n",
    "print('Numpy version ',np.__version__)\n",
    "print('Scipy version ',sp.__version__)\n",
    "print('Seaborn version ',sns.__version__)\n",
    "print('StatsModels version ',sm.__version__)"
   ]
  },
  {
   "cell_type": "markdown",
   "metadata": {},
   "source": [
    "In the following steps, please used the alias defined at this step. This will help us to correct your answers and track your steps. Students that fail to use the pre-defined aliases will be incur in a penalization. \n",
    "\n",
    "Finally, the following cell downloads the dataset for this project. <br>\n",
    "\n",
    "__Important: You only need to run this code once. After you have the files, you can comment this block__"
   ]
  },
  {
   "cell_type": "code",
   "execution_count": 5,
   "metadata": {},
   "outputs": [],
   "source": [
    "#r = requests.get('https://www.dropbox.com/s/n1b6k4pjja2rf5g/PDS_DATA_CSV.zip?dl=1', allow_redirects=True)\n",
    "#filename = 'Data.zip'\n",
    "#open(filename, 'wb').write(r.content);\n",
    "#with ZipFile(filename, 'r') as zipObj:\n",
    "#    zipObj.extractall('DATA')\n",
    "#os.remove(filename)\n",
    "#shutil.rmtree('DATA/__MACOSX')"
   ]
  },
  {
   "cell_type": "markdown",
   "metadata": {},
   "source": [
    "The above code will store the datafiles in a folder called \"DATA\" that is in the same filepath as this notebook. <br>\n",
    "The dataset consists of three xlsx files containing all contracts available in 2018 concerning the contracts issued in 2012, 2013, and 2014 that where available in BASE."
   ]
  },
  {
   "cell_type": "markdown",
   "metadata": {},
   "source": [
    "## Exercises (The action starts here)\n",
    "\n",
    "<b>[Step 1. | 0.5 points ]</b> <br>\n",
    "Load all the procurement datafiles (contratos2012.csv, contratos2013.csv, and contratos2014.csv) into a single dataframe named <i>data</i>.<br>\n",
    "Notes: This operation might take a while. When reading data from excel it is safer to always specify the Sheet you want to read. <br>\n",
    "\n",
    "You also might need to reset the indexes after having a single dataframe (beware of duplicate indexes)."
   ]
  },
  {
   "cell_type": "code",
   "execution_count": 6,
   "metadata": {},
   "outputs": [],
   "source": [
    "# importando os contratos, definindo 'idcontrato' como indice, e dropando os registros duplicados\n",
    "cont_2012 = pd.read_csv(r'.\\DATA\\contratos2012.csv', delimiter = ';', decimal=',')\n",
    "cont_2013 = pd.read_csv(r'.\\DATA\\contratos2013.csv', delimiter = ';', decimal=',')\n",
    "cont_2014 = pd.read_csv(r'.\\DATA\\contratos2014.csv', delimiter = ';', decimal=',')\n",
    "data = cont_2012.append(cont_2013.append(cont_2014, ignore_index=True), ignore_index=True)\n",
    "data.set_index('idcontrato', inplace = True)\n",
    "data.drop_duplicates(inplace = True)"
   ]
  },
  {
   "cell_type": "markdown",
   "metadata": {},
   "source": [
    "---"
   ]
  },
  {
   "cell_type": "markdown",
   "metadata": {},
   "source": [
    "<b>[Step 2. | 0.5 points ]</b><br>\n",
    "Perform some quick inspection of the data file in order to answer the following questions:\n",
    "1. How many records does the dataset include?"
   ]
  },
  {
   "cell_type": "code",
   "execution_count": 7,
   "metadata": {},
   "outputs": [
    {
     "data": {
      "text/plain": [
       "nAnuncio                   16724\n",
       "tipoContrato              249747\n",
       "tipoprocedimento          249747\n",
       "objectoContrato           249747\n",
       "adjudicantes              249747\n",
       "adjudicatarios            249741\n",
       "dataPublicacao            249747\n",
       "dataCelebracaoContrato    249747\n",
       "precoContratual           249747\n",
       "cpv                       249690\n",
       "prazoExecucao             249747\n",
       "localExecucao             249747\n",
       "fundamentacao             249747\n",
       "dtype: int64"
      ]
     },
     "execution_count": 7,
     "metadata": {},
     "output_type": "execute_result"
    }
   ],
   "source": [
    "data.count()"
   ]
  },
  {
   "cell_type": "markdown",
   "metadata": {},
   "source": [
    "2. How many features/fields does each record have? <br>"
   ]
  },
  {
   "cell_type": "code",
   "execution_count": 8,
   "metadata": {},
   "outputs": [
    {
     "data": {
      "text/plain": [
       "(249747, 13)"
      ]
     },
     "execution_count": 8,
     "metadata": {},
     "output_type": "execute_result"
    }
   ],
   "source": [
    "data.shape"
   ]
  },
  {
   "cell_type": "markdown",
   "metadata": {},
   "source": [
    "3. What are the names and datatypes of each field?"
   ]
  },
  {
   "cell_type": "code",
   "execution_count": 9,
   "metadata": {
    "scrolled": false
   },
   "outputs": [
    {
     "name": "stdout",
     "output_type": "stream",
     "text": [
      "<class 'pandas.core.frame.DataFrame'>\n",
      "Int64Index: 249747 entries, 85378 to 5642823\n",
      "Data columns (total 13 columns):\n",
      " #   Column                  Non-Null Count   Dtype  \n",
      "---  ------                  --------------   -----  \n",
      " 0   nAnuncio                16724 non-null   object \n",
      " 1   tipoContrato            249747 non-null  object \n",
      " 2   tipoprocedimento        249747 non-null  object \n",
      " 3   objectoContrato         249747 non-null  object \n",
      " 4   adjudicantes            249747 non-null  object \n",
      " 5   adjudicatarios          249741 non-null  object \n",
      " 6   dataPublicacao          249747 non-null  object \n",
      " 7   dataCelebracaoContrato  249747 non-null  object \n",
      " 8   precoContratual         249747 non-null  float64\n",
      " 9   cpv                     249690 non-null  object \n",
      " 10  prazoExecucao           249747 non-null  int64  \n",
      " 11  localExecucao           249747 non-null  object \n",
      " 12  fundamentacao           249747 non-null  object \n",
      "dtypes: float64(1), int64(1), object(11)\n",
      "memory usage: 26.7+ MB\n"
     ]
    }
   ],
   "source": [
    "data.info()"
   ]
  },
  {
   "cell_type": "markdown",
   "metadata": {},
   "source": [
    "Write all the necessary code in the above input cells bellow each respective question. Write here a short answer that discusses the results from all the four above questions. Note, don't just show the ouput of your code, try to write an answer that explains the outputs you have obtained. Understanding is about showing that you are able to communicate the results in a clear manner."
   ]
  },
  {
   "cell_type": "markdown",
   "metadata": {},
   "source": [
    "__Answer__ <br>\n",
    "<div class=\"alert alert-block alert-info\">\n",
    "    \n",
    "<b>Question 1:</b> The .shape property of a pandas dataframe is a tuple with two information: the number of rows and the number of attributes of that dataframe. The subject of that analysis has <b>249.747</b> rows.<br>\n",
    "    \n",
    "<b>Question 2:</b> The subject of this analysis has <b> 13 different attributes (columns)</b>, besides the “idcontrato”, witch is a index.<br>\n",
    "    \n",
    "<b>Question 3:</b> The method .info() also provides an summary of the dataframe, with the name and kind of each attribute.<br>\n",
    "</div>\n"
   ]
  },
  {
   "cell_type": "markdown",
   "metadata": {},
   "source": [
    "<b>[Step 3. | 3 points ]</b><br>\n",
    "As you have probably noticed our raw data is not exactly the cleanest dataset in the block. Indeed, we will need to perform some parsing in order to obtain a good working data. In that sense, write the necessary code to perform the following steps: <br>"
   ]
  },
  {
   "cell_type": "markdown",
   "metadata": {},
   "source": [
    "1. Convert any fields with dates to datetime objects;"
   ]
  },
  {
   "cell_type": "code",
   "execution_count": 10,
   "metadata": {},
   "outputs": [
    {
     "data": {
      "text/plain": [
       "nAnuncio                          object\n",
       "tipoContrato                      object\n",
       "tipoprocedimento                  object\n",
       "objectoContrato                   object\n",
       "adjudicantes                      object\n",
       "adjudicatarios                    object\n",
       "dataPublicacao            datetime64[ns]\n",
       "dataCelebracaoContrato    datetime64[ns]\n",
       "precoContratual                  float64\n",
       "cpv                               object\n",
       "prazoExecucao                      int64\n",
       "localExecucao                     object\n",
       "fundamentacao                     object\n",
       "dtype: object"
      ]
     },
     "execution_count": 10,
     "metadata": {},
     "output_type": "execute_result"
    }
   ],
   "source": [
    "# the .to_datetime method converts strings to the datetime64 format.\n",
    "# data.dtypes confirms that the change was effective.\n",
    "\n",
    "data['dataPublicacao'] = pd.to_datetime(data['dataPublicacao'])\n",
    "data['dataCelebracaoContrato'] = pd.to_datetime(data['dataCelebracaoContrato'])\n",
    "data.dtypes"
   ]
  },
  {
   "cell_type": "markdown",
   "metadata": {},
   "source": [
    "2. You will find that in some cases there are multiple entities in the fields fields `cpv`, `adjudicantes` (issuers) and `adjudicatarios` (suppliers), which are separated by ` | `. <br>\n",
    "How many contrats do we have that contain multiple `cpv`? How many contain multiple `adjudicantes`? How many contain multiple `adjudicatarios`?\n",
    "How many records would you have if you dropped the procurements where this happens?"
   ]
  },
  {
   "cell_type": "code",
   "execution_count": 11,
   "metadata": {},
   "outputs": [
    {
     "data": {
      "text/html": [
       "<div>\n",
       "<style scoped>\n",
       "    .dataframe tbody tr th:only-of-type {\n",
       "        vertical-align: middle;\n",
       "    }\n",
       "\n",
       "    .dataframe tbody tr th {\n",
       "        vertical-align: top;\n",
       "    }\n",
       "\n",
       "    .dataframe thead th {\n",
       "        text-align: right;\n",
       "    }\n",
       "</style>\n",
       "<table border=\"1\" class=\"dataframe\">\n",
       "  <thead>\n",
       "    <tr style=\"text-align: right;\">\n",
       "      <th>idcontrato</th>\n",
       "      <th>85378</th>\n",
       "      <th>1308086</th>\n",
       "      <th>115568</th>\n",
       "      <th>115569</th>\n",
       "      <th>115570</th>\n",
       "      <th>115571</th>\n",
       "      <th>115572</th>\n",
       "      <th>115573</th>\n",
       "      <th>115574</th>\n",
       "      <th>115575</th>\n",
       "      <th>...</th>\n",
       "      <th>4972136</th>\n",
       "      <th>4972814</th>\n",
       "      <th>5068023</th>\n",
       "      <th>5086051</th>\n",
       "      <th>5087538</th>\n",
       "      <th>5326806</th>\n",
       "      <th>5414071</th>\n",
       "      <th>5490660</th>\n",
       "      <th>5609840</th>\n",
       "      <th>5642823</th>\n",
       "    </tr>\n",
       "  </thead>\n",
       "  <tbody>\n",
       "    <tr>\n",
       "      <th>nAnuncio</th>\n",
       "      <td>4227/2009</td>\n",
       "      <td>4606/2009</td>\n",
       "      <td>NaN</td>\n",
       "      <td>NaN</td>\n",
       "      <td>NaN</td>\n",
       "      <td>NaN</td>\n",
       "      <td>NaN</td>\n",
       "      <td>NaN</td>\n",
       "      <td>NaN</td>\n",
       "      <td>NaN</td>\n",
       "      <td>...</td>\n",
       "      <td>NaN</td>\n",
       "      <td>NaN</td>\n",
       "      <td>NaN</td>\n",
       "      <td>NaN</td>\n",
       "      <td>NaN</td>\n",
       "      <td>NaN</td>\n",
       "      <td>NaN</td>\n",
       "      <td>NaN</td>\n",
       "      <td>NaN</td>\n",
       "      <td>NaN</td>\n",
       "    </tr>\n",
       "    <tr>\n",
       "      <th>tipoContrato</th>\n",
       "      <td>Aquisição de serviços</td>\n",
       "      <td>Empreitadas de obras públicas</td>\n",
       "      <td>Aquisição de serviços</td>\n",
       "      <td>Aquisição de serviços</td>\n",
       "      <td>Aquisição de serviços</td>\n",
       "      <td>Aquisição de serviços</td>\n",
       "      <td>Aquisição de serviços</td>\n",
       "      <td>Aquisição de serviços</td>\n",
       "      <td>Aquisição de serviços</td>\n",
       "      <td>Aquisição de serviços</td>\n",
       "      <td>...</td>\n",
       "      <td>Aquisição de bens móveis</td>\n",
       "      <td>Aquisição de bens móveis</td>\n",
       "      <td>Aquisição de bens móveis</td>\n",
       "      <td>Aquisição de serviços</td>\n",
       "      <td>Aquisição de serviços</td>\n",
       "      <td>Aquisição de serviços</td>\n",
       "      <td>Aquisição de bens móveis</td>\n",
       "      <td>Aquisição de serviços</td>\n",
       "      <td>Aquisição de serviços</td>\n",
       "      <td>Aquisição de serviços</td>\n",
       "    </tr>\n",
       "    <tr>\n",
       "      <th>tipoprocedimento</th>\n",
       "      <td>Concurso público</td>\n",
       "      <td>Concurso público</td>\n",
       "      <td>Ajuste Direto Regime Geral</td>\n",
       "      <td>Ajuste Direto Regime Geral</td>\n",
       "      <td>Ajuste Direto Regime Geral</td>\n",
       "      <td>Ajuste Direto Regime Geral</td>\n",
       "      <td>Ajuste Direto Regime Geral</td>\n",
       "      <td>Ajuste Direto Regime Geral</td>\n",
       "      <td>Ajuste Direto Regime Geral</td>\n",
       "      <td>Ajuste Direto Regime Geral</td>\n",
       "      <td>...</td>\n",
       "      <td>Ajuste Direto Regime Geral</td>\n",
       "      <td>Ajuste Direto Regime Geral</td>\n",
       "      <td>Ao abrigo de acordo-quadro (art.º 258.º)</td>\n",
       "      <td>Ajuste Direto Regime Geral</td>\n",
       "      <td>Ajuste Direto Regime Geral</td>\n",
       "      <td>Ao abrigo de acordo-quadro (art.º 258.º)</td>\n",
       "      <td>Ajuste Direto Regime Geral</td>\n",
       "      <td>Ajuste Direto Regime Geral</td>\n",
       "      <td>Ajuste Direto Regime Geral</td>\n",
       "      <td>Ajuste Direto Regime Geral</td>\n",
       "    </tr>\n",
       "    <tr>\n",
       "      <th>objectoContrato</th>\n",
       "      <td>Prestação de Serviços para Elaboração do Plano...</td>\n",
       "      <td>09EPS0073 - Empreitada de construção do novo e...</td>\n",
       "      <td>PROJECTO DO SISTEMA DE ADUÇÃO E ARMAZENAMENTO ...</td>\n",
       "      <td>O objecto principal é a contratação de serviço...</td>\n",
       "      <td>PROJECTO DO SISTEMA INTERCEPTOR DE VILA NOVA D...</td>\n",
       "      <td>PROJECTO DO SISTEMA INTERCEPTOR DE POCINHO / C...</td>\n",
       "      <td>LIGAÇÃO DAS REDES DE SANEAMENTO AO LONGO DA FR...</td>\n",
       "      <td>O objecto principal é a contratação de serviço...</td>\n",
       "      <td>LIGAÇÃO DAS REDES DE SANEAMENTO DA ZONA CENTRA...</td>\n",
       "      <td>PROJECTO DAS REDES DE DRENAGEM DE ÁGUAS RESIDU...</td>\n",
       "      <td>...</td>\n",
       "      <td>Aquisição de Máquina a Laser de Gravação e Mar...</td>\n",
       "      <td>Aquisição de gasóleo rodoviário para desenvolv...</td>\n",
       "      <td>AOV</td>\n",
       "      <td>Prestação de Serviços de Arquitetura e Especia...</td>\n",
       "      <td>Serviços móveis</td>\n",
       "      <td>Fornecimento de refeições aos doentes do HSEIT...</td>\n",
       "      <td>Aquisição de viaturaMarca Isuzo Modelo D-Max</td>\n",
       "      <td>Serviço de transporte escolar regular para o a...</td>\n",
       "      <td>AQUISIÇÃO DE SERVIÇOS DE SERVIÇOS DE ASSISTÊNC...</td>\n",
       "      <td>Prestação de serviços de fornecimento de energ...</td>\n",
       "    </tr>\n",
       "    <tr>\n",
       "      <th>adjudicantes</th>\n",
       "      <td>506579425 - Município de Faro</td>\n",
       "      <td>505587815 - INST GESTAO FINANC INFRA-ESTRUTURA...</td>\n",
       "      <td>508160570 - VRSA Sociedade de Gestão Urbana, E...</td>\n",
       "      <td>508160570 - VRSA Sociedade de Gestão Urbana, E...</td>\n",
       "      <td>508160570 - VRSA Sociedade de Gestão Urbana, E...</td>\n",
       "      <td>508160570 - VRSA Sociedade de Gestão Urbana, E...</td>\n",
       "      <td>508160570 - VRSA Sociedade de Gestão Urbana, E...</td>\n",
       "      <td>508160570 - VRSA Sociedade de Gestão Urbana, E...</td>\n",
       "      <td>508160570 - VRSA Sociedade de Gestão Urbana, E...</td>\n",
       "      <td>508160570 - VRSA Sociedade de Gestão Urbana, E...</td>\n",
       "      <td>...</td>\n",
       "      <td>504514547 - ASSOC. FORMAÇÃO PROF. E DESENV. DO...</td>\n",
       "      <td>504650939 - Centro Social de Santa Maria de Sa...</td>\n",
       "      <td>508203970 - Instituto Nacional de Medicina Leg...</td>\n",
       "      <td>503993506 - Centro Paroquial e Social de S. Jorge</td>\n",
       "      <td>503841560 - Fundação Aga Khan Portugal</td>\n",
       "      <td>512105030 - Hospital de Santo Espírito da Ilha...</td>\n",
       "      <td>510839959 - União das Freguesias de São Pedro ...</td>\n",
       "      <td>512048746 - Associação de Desenvolvimento da I...</td>\n",
       "      <td>600084264 - Agrupamento de Escolas Abade de Ba...</td>\n",
       "      <td>500745749 - Cruz Vermelha Portuguesa</td>\n",
       "    </tr>\n",
       "    <tr>\n",
       "      <th>adjudicatarios</th>\n",
       "      <td>507358830 - Land Design -Paisagismo e Ambiente...</td>\n",
       "      <td>508195985 - Ferreira Edinorte - Sul, ACE</td>\n",
       "      <td>505107929 - FTD, Consultores de Engenharia, Lda.</td>\n",
       "      <td>501453989 - Ecoserviços - Gestão de Sistemas E...</td>\n",
       "      <td>504959239 - Cota 200 - Projetos e Consultoria ...</td>\n",
       "      <td>504959239 - Cota 200 - Projetos e Consultoria ...</td>\n",
       "      <td>502305401 - Viés - Consultoria, Estudos e Proj...</td>\n",
       "      <td>501453989 - Ecoserviços - Gestão de Sistemas E...</td>\n",
       "      <td>502305401 - Viés - Consultoria, Estudos e Proj...</td>\n",
       "      <td>504959239 - Cota 200 - Projetos e Consultoria ...</td>\n",
       "      <td>...</td>\n",
       "      <td>500345821 - Tecmacal - Equipamentos Industriai...</td>\n",
       "      <td>504502425 - Irmãos Beleza - Comércio de Combus...</td>\n",
       "      <td>502167610 - Leaseplan Portugal , Lda</td>\n",
       "      <td>114671931 - Manuel Soares da Silva</td>\n",
       "      <td>502604751 - NOS - Comunicações S.A.</td>\n",
       "      <td>500347506 - EUREST (PORTUGAL) - Sociedade Euro...</td>\n",
       "      <td>509008380 - Freguesia de Carvalho</td>\n",
       "      <td>512001812 - Rumo à Natureza Unipessoal</td>\n",
       "      <td>506345564 - Solemp-Informática</td>\n",
       "      <td>503504564 - EDP Comercial, SA</td>\n",
       "    </tr>\n",
       "    <tr>\n",
       "      <th>dataPublicacao</th>\n",
       "      <td>2012-02-21 00:00:00</td>\n",
       "      <td>2014-11-24 00:00:00</td>\n",
       "      <td>2012-08-10 00:00:00</td>\n",
       "      <td>2012-09-14 00:00:00</td>\n",
       "      <td>2012-04-10 00:00:00</td>\n",
       "      <td>2012-04-10 00:00:00</td>\n",
       "      <td>2012-04-10 00:00:00</td>\n",
       "      <td>2012-09-14 00:00:00</td>\n",
       "      <td>2012-04-10 00:00:00</td>\n",
       "      <td>2012-04-10 00:00:00</td>\n",
       "      <td>...</td>\n",
       "      <td>2018-11-24 00:00:00</td>\n",
       "      <td>2018-11-26 00:00:00</td>\n",
       "      <td>2018-12-26 00:00:00</td>\n",
       "      <td>2019-02-01 00:00:00</td>\n",
       "      <td>2019-02-01 00:00:00</td>\n",
       "      <td>2019-08-03 00:00:00</td>\n",
       "      <td>2019-03-26 00:00:00</td>\n",
       "      <td>2019-04-15 00:00:00</td>\n",
       "      <td>2019-03-06 00:00:00</td>\n",
       "      <td>2019-06-18 00:00:00</td>\n",
       "    </tr>\n",
       "    <tr>\n",
       "      <th>dataCelebracaoContrato</th>\n",
       "      <td>2012-02-13 00:00:00</td>\n",
       "      <td>2012-11-14 00:00:00</td>\n",
       "      <td>2012-09-25 00:00:00</td>\n",
       "      <td>2012-08-29 00:00:00</td>\n",
       "      <td>2012-07-09 00:00:00</td>\n",
       "      <td>2012-07-09 00:00:00</td>\n",
       "      <td>2012-09-27 00:00:00</td>\n",
       "      <td>2012-08-29 00:00:00</td>\n",
       "      <td>2012-09-27 00:00:00</td>\n",
       "      <td>2012-07-09 00:00:00</td>\n",
       "      <td>...</td>\n",
       "      <td>2014-11-25 00:00:00</td>\n",
       "      <td>2014-12-18 00:00:00</td>\n",
       "      <td>2014-06-25 00:00:00</td>\n",
       "      <td>2014-06-13 00:00:00</td>\n",
       "      <td>2014-12-31 00:00:00</td>\n",
       "      <td>2014-01-12 00:00:00</td>\n",
       "      <td>2014-04-14 00:00:00</td>\n",
       "      <td>2014-03-11 00:00:00</td>\n",
       "      <td>2014-01-31 00:00:00</td>\n",
       "      <td>2014-11-17 00:00:00</td>\n",
       "    </tr>\n",
       "    <tr>\n",
       "      <th>precoContratual</th>\n",
       "      <td>103000.0</td>\n",
       "      <td>5771641.83</td>\n",
       "      <td>119700.0</td>\n",
       "      <td>40500.0</td>\n",
       "      <td>36600.0</td>\n",
       "      <td>65800.0</td>\n",
       "      <td>44500.0</td>\n",
       "      <td>31000.0</td>\n",
       "      <td>54800.0</td>\n",
       "      <td>31000.0</td>\n",
       "      <td>...</td>\n",
       "      <td>12345.0</td>\n",
       "      <td>74500.0</td>\n",
       "      <td>107599.16</td>\n",
       "      <td>25500.0</td>\n",
       "      <td>27806.4</td>\n",
       "      <td>43358.97</td>\n",
       "      <td>14500.0</td>\n",
       "      <td>92594.8</td>\n",
       "      <td>4020.0</td>\n",
       "      <td>8770.18</td>\n",
       "    </tr>\n",
       "    <tr>\n",
       "      <th>cpv</th>\n",
       "      <td>79421200-3 - Serviços de concepção de projecto...</td>\n",
       "      <td>45210000-2 - Construção de edifícios</td>\n",
       "      <td>71242000-6 - Preparação de projecto e concepçã...</td>\n",
       "      <td>71242000-6 - Preparação de projecto e concepçã...</td>\n",
       "      <td>71242000-6 - Preparação de projecto e concepçã...</td>\n",
       "      <td>71242000-6 - Preparação de projecto e concepçã...</td>\n",
       "      <td>71242000-6 - Preparação de projecto e concepçã...</td>\n",
       "      <td>71242000-6 - Preparação de projecto e concepçã...</td>\n",
       "      <td>71242000-6 - Preparação de projecto e concepçã...</td>\n",
       "      <td>71242000-6 - Preparação de projecto e concepçã...</td>\n",
       "      <td>...</td>\n",
       "      <td>22521000-8 - Equipamento de gravação em relevo</td>\n",
       "      <td>09134210-2 - Gasóleo ou combustível para motor...</td>\n",
       "      <td>34100000-8 - Veículos a motor</td>\n",
       "      <td>71240000-2 - Serviços de arquitectura, engenha...</td>\n",
       "      <td>64000000-6 - Serviços postais e de telecomunic...</td>\n",
       "      <td>55000000-0 - Serviços de hotelaria, restauraçã...</td>\n",
       "      <td>34113200-4 - Veículos 4X4</td>\n",
       "      <td>60000000-8 - Serviços de transporte (excl. tra...</td>\n",
       "      <td>72200000-7 - Serviços de consultoria e de prog...</td>\n",
       "      <td>65300000-6 - Serviços de distribuição de elect...</td>\n",
       "    </tr>\n",
       "    <tr>\n",
       "      <th>prazoExecucao</th>\n",
       "      <td>550</td>\n",
       "      <td>900</td>\n",
       "      <td>150</td>\n",
       "      <td>120</td>\n",
       "      <td>120</td>\n",
       "      <td>120</td>\n",
       "      <td>150</td>\n",
       "      <td>120</td>\n",
       "      <td>150</td>\n",
       "      <td>120</td>\n",
       "      <td>...</td>\n",
       "      <td>20</td>\n",
       "      <td>520</td>\n",
       "      <td>1460</td>\n",
       "      <td>90</td>\n",
       "      <td>730</td>\n",
       "      <td>30</td>\n",
       "      <td>30</td>\n",
       "      <td>350</td>\n",
       "      <td>365</td>\n",
       "      <td>365</td>\n",
       "    </tr>\n",
       "    <tr>\n",
       "      <th>localExecucao</th>\n",
       "      <td>Portugal, Faro, Faro</td>\n",
       "      <td>Portugal, Coimbra, Coimbra</td>\n",
       "      <td>Portugal, Faro, Vila Real Sto Antonio</td>\n",
       "      <td>Portugal, Faro, Vila Real Sto Antonio</td>\n",
       "      <td>Portugal, Faro, Vila Real Sto Antonio</td>\n",
       "      <td>Portugal, Faro, Vila Real Sto Antonio</td>\n",
       "      <td>Portugal, Faro, Vila Real Sto Antonio</td>\n",
       "      <td>Portugal, Faro, Vila Real Sto Antonio</td>\n",
       "      <td>Portugal, Faro, Vila Real Sto Antonio</td>\n",
       "      <td>Portugal, Faro, Vila Real Sto Antonio</td>\n",
       "      <td>...</td>\n",
       "      <td>Portugal, Setúbal, Montijo</td>\n",
       "      <td>Portugal, Aveiro, Castelo de Paiva</td>\n",
       "      <td>Portugal, Coimbra, Coimbra</td>\n",
       "      <td>Portugal, Viana do Castelo, Arcos de Valdevez</td>\n",
       "      <td>Portugal, Lisboa, Lisboa</td>\n",
       "      <td>Portugal, Região Autónoma dos Açores, Angra do...</td>\n",
       "      <td>Portugal, Coimbra, Penacova</td>\n",
       "      <td>Portugal, Região Autónoma dos Açores, Calheta ...</td>\n",
       "      <td>Portugal, Braganca, Bragança</td>\n",
       "      <td>Portugal, Coimbra, Figueira da Foz</td>\n",
       "    </tr>\n",
       "    <tr>\n",
       "      <th>fundamentacao</th>\n",
       "      <td>Artigo 20.º, n.º 1, alínea b) do Código dos Co...</td>\n",
       "      <td>Artigo 19.º, alínea b) do Código dos Contratos...</td>\n",
       "      <td>Artigo 20.º, n.º 1, alínea a) do Código dos Co...</td>\n",
       "      <td>Artigo 20.º, n.º 1, alínea a) do Código dos Co...</td>\n",
       "      <td>Artigo 20.º, n.º 1, alínea a) do Código dos Co...</td>\n",
       "      <td>Artigo 20.º, n.º 1, alínea a) do Código dos Co...</td>\n",
       "      <td>Artigo 20.º, n.º 1, alínea a) do Código dos Co...</td>\n",
       "      <td>Artigo 20.º, n.º 1, alínea a) do Código dos Co...</td>\n",
       "      <td>Artigo 20.º, n.º 1, alínea a) do Código dos Co...</td>\n",
       "      <td>Artigo 20.º, n.º 1, alínea a) do Código dos Co...</td>\n",
       "      <td>...</td>\n",
       "      <td>Artigo 20.º, n.º 1, alínea a) do Código dos Co...</td>\n",
       "      <td>Artigo 20.º, n.º 1, alínea a) do Código dos Co...</td>\n",
       "      <td>Artigo 20.º, n.º 1, alínea a) do Código dos Co...</td>\n",
       "      <td>Artigo 20.º, n.º 1, alínea a) do Código dos Co...</td>\n",
       "      <td>Artigo 20.º, n.º 1, alínea a) do Código dos Co...</td>\n",
       "      <td>Artigo 20.º, alínea a) do Decreto Legislativo ...</td>\n",
       "      <td>Artigo 20.º, n.º 1, alínea a) do Código dos Co...</td>\n",
       "      <td>Artigo 24.º, n.º 1, alínea e) do Código dos Co...</td>\n",
       "      <td>Artigo 20.º, n.º 1, alínea a) do Código dos Co...</td>\n",
       "      <td>Artigo 20.º, n.º 1, alínea a) do Código dos Co...</td>\n",
       "    </tr>\n",
       "  </tbody>\n",
       "</table>\n",
       "<p>13 rows × 249747 columns</p>\n",
       "</div>"
      ],
      "text/plain": [
       "idcontrato                                                        85378    \\\n",
       "nAnuncio                                                        4227/2009   \n",
       "tipoContrato                                        Aquisição de serviços   \n",
       "tipoprocedimento                                         Concurso público   \n",
       "objectoContrato         Prestação de Serviços para Elaboração do Plano...   \n",
       "adjudicantes                                506579425 - Município de Faro   \n",
       "adjudicatarios          507358830 - Land Design -Paisagismo e Ambiente...   \n",
       "dataPublicacao                                        2012-02-21 00:00:00   \n",
       "dataCelebracaoContrato                                2012-02-13 00:00:00   \n",
       "precoContratual                                                  103000.0   \n",
       "cpv                     79421200-3 - Serviços de concepção de projecto...   \n",
       "prazoExecucao                                                         550   \n",
       "localExecucao                                        Portugal, Faro, Faro   \n",
       "fundamentacao           Artigo 20.º, n.º 1, alínea b) do Código dos Co...   \n",
       "\n",
       "idcontrato                                                        1308086  \\\n",
       "nAnuncio                                                        4606/2009   \n",
       "tipoContrato                                Empreitadas de obras públicas   \n",
       "tipoprocedimento                                         Concurso público   \n",
       "objectoContrato         09EPS0073 - Empreitada de construção do novo e...   \n",
       "adjudicantes            505587815 - INST GESTAO FINANC INFRA-ESTRUTURA...   \n",
       "adjudicatarios                   508195985 - Ferreira Edinorte - Sul, ACE   \n",
       "dataPublicacao                                        2014-11-24 00:00:00   \n",
       "dataCelebracaoContrato                                2012-11-14 00:00:00   \n",
       "precoContratual                                                5771641.83   \n",
       "cpv                                  45210000-2 - Construção de edifícios   \n",
       "prazoExecucao                                                         900   \n",
       "localExecucao                                  Portugal, Coimbra, Coimbra   \n",
       "fundamentacao           Artigo 19.º, alínea b) do Código dos Contratos...   \n",
       "\n",
       "idcontrato                                                        115568   \\\n",
       "nAnuncio                                                              NaN   \n",
       "tipoContrato                                        Aquisição de serviços   \n",
       "tipoprocedimento                               Ajuste Direto Regime Geral   \n",
       "objectoContrato         PROJECTO DO SISTEMA DE ADUÇÃO E ARMAZENAMENTO ...   \n",
       "adjudicantes            508160570 - VRSA Sociedade de Gestão Urbana, E...   \n",
       "adjudicatarios           505107929 - FTD, Consultores de Engenharia, Lda.   \n",
       "dataPublicacao                                        2012-08-10 00:00:00   \n",
       "dataCelebracaoContrato                                2012-09-25 00:00:00   \n",
       "precoContratual                                                  119700.0   \n",
       "cpv                     71242000-6 - Preparação de projecto e concepçã...   \n",
       "prazoExecucao                                                         150   \n",
       "localExecucao                       Portugal, Faro, Vila Real Sto Antonio   \n",
       "fundamentacao           Artigo 20.º, n.º 1, alínea a) do Código dos Co...   \n",
       "\n",
       "idcontrato                                                        115569   \\\n",
       "nAnuncio                                                              NaN   \n",
       "tipoContrato                                        Aquisição de serviços   \n",
       "tipoprocedimento                               Ajuste Direto Regime Geral   \n",
       "objectoContrato         O objecto principal é a contratação de serviço...   \n",
       "adjudicantes            508160570 - VRSA Sociedade de Gestão Urbana, E...   \n",
       "adjudicatarios          501453989 - Ecoserviços - Gestão de Sistemas E...   \n",
       "dataPublicacao                                        2012-09-14 00:00:00   \n",
       "dataCelebracaoContrato                                2012-08-29 00:00:00   \n",
       "precoContratual                                                   40500.0   \n",
       "cpv                     71242000-6 - Preparação de projecto e concepçã...   \n",
       "prazoExecucao                                                         120   \n",
       "localExecucao                       Portugal, Faro, Vila Real Sto Antonio   \n",
       "fundamentacao           Artigo 20.º, n.º 1, alínea a) do Código dos Co...   \n",
       "\n",
       "idcontrato                                                        115570   \\\n",
       "nAnuncio                                                              NaN   \n",
       "tipoContrato                                        Aquisição de serviços   \n",
       "tipoprocedimento                               Ajuste Direto Regime Geral   \n",
       "objectoContrato         PROJECTO DO SISTEMA INTERCEPTOR DE VILA NOVA D...   \n",
       "adjudicantes            508160570 - VRSA Sociedade de Gestão Urbana, E...   \n",
       "adjudicatarios          504959239 - Cota 200 - Projetos e Consultoria ...   \n",
       "dataPublicacao                                        2012-04-10 00:00:00   \n",
       "dataCelebracaoContrato                                2012-07-09 00:00:00   \n",
       "precoContratual                                                   36600.0   \n",
       "cpv                     71242000-6 - Preparação de projecto e concepçã...   \n",
       "prazoExecucao                                                         120   \n",
       "localExecucao                       Portugal, Faro, Vila Real Sto Antonio   \n",
       "fundamentacao           Artigo 20.º, n.º 1, alínea a) do Código dos Co...   \n",
       "\n",
       "idcontrato                                                        115571   \\\n",
       "nAnuncio                                                              NaN   \n",
       "tipoContrato                                        Aquisição de serviços   \n",
       "tipoprocedimento                               Ajuste Direto Regime Geral   \n",
       "objectoContrato         PROJECTO DO SISTEMA INTERCEPTOR DE POCINHO / C...   \n",
       "adjudicantes            508160570 - VRSA Sociedade de Gestão Urbana, E...   \n",
       "adjudicatarios          504959239 - Cota 200 - Projetos e Consultoria ...   \n",
       "dataPublicacao                                        2012-04-10 00:00:00   \n",
       "dataCelebracaoContrato                                2012-07-09 00:00:00   \n",
       "precoContratual                                                   65800.0   \n",
       "cpv                     71242000-6 - Preparação de projecto e concepçã...   \n",
       "prazoExecucao                                                         120   \n",
       "localExecucao                       Portugal, Faro, Vila Real Sto Antonio   \n",
       "fundamentacao           Artigo 20.º, n.º 1, alínea a) do Código dos Co...   \n",
       "\n",
       "idcontrato                                                        115572   \\\n",
       "nAnuncio                                                              NaN   \n",
       "tipoContrato                                        Aquisição de serviços   \n",
       "tipoprocedimento                               Ajuste Direto Regime Geral   \n",
       "objectoContrato         LIGAÇÃO DAS REDES DE SANEAMENTO AO LONGO DA FR...   \n",
       "adjudicantes            508160570 - VRSA Sociedade de Gestão Urbana, E...   \n",
       "adjudicatarios          502305401 - Viés - Consultoria, Estudos e Proj...   \n",
       "dataPublicacao                                        2012-04-10 00:00:00   \n",
       "dataCelebracaoContrato                                2012-09-27 00:00:00   \n",
       "precoContratual                                                   44500.0   \n",
       "cpv                     71242000-6 - Preparação de projecto e concepçã...   \n",
       "prazoExecucao                                                         150   \n",
       "localExecucao                       Portugal, Faro, Vila Real Sto Antonio   \n",
       "fundamentacao           Artigo 20.º, n.º 1, alínea a) do Código dos Co...   \n",
       "\n",
       "idcontrato                                                        115573   \\\n",
       "nAnuncio                                                              NaN   \n",
       "tipoContrato                                        Aquisição de serviços   \n",
       "tipoprocedimento                               Ajuste Direto Regime Geral   \n",
       "objectoContrato         O objecto principal é a contratação de serviço...   \n",
       "adjudicantes            508160570 - VRSA Sociedade de Gestão Urbana, E...   \n",
       "adjudicatarios          501453989 - Ecoserviços - Gestão de Sistemas E...   \n",
       "dataPublicacao                                        2012-09-14 00:00:00   \n",
       "dataCelebracaoContrato                                2012-08-29 00:00:00   \n",
       "precoContratual                                                   31000.0   \n",
       "cpv                     71242000-6 - Preparação de projecto e concepçã...   \n",
       "prazoExecucao                                                         120   \n",
       "localExecucao                       Portugal, Faro, Vila Real Sto Antonio   \n",
       "fundamentacao           Artigo 20.º, n.º 1, alínea a) do Código dos Co...   \n",
       "\n",
       "idcontrato                                                        115574   \\\n",
       "nAnuncio                                                              NaN   \n",
       "tipoContrato                                        Aquisição de serviços   \n",
       "tipoprocedimento                               Ajuste Direto Regime Geral   \n",
       "objectoContrato         LIGAÇÃO DAS REDES DE SANEAMENTO DA ZONA CENTRA...   \n",
       "adjudicantes            508160570 - VRSA Sociedade de Gestão Urbana, E...   \n",
       "adjudicatarios          502305401 - Viés - Consultoria, Estudos e Proj...   \n",
       "dataPublicacao                                        2012-04-10 00:00:00   \n",
       "dataCelebracaoContrato                                2012-09-27 00:00:00   \n",
       "precoContratual                                                   54800.0   \n",
       "cpv                     71242000-6 - Preparação de projecto e concepçã...   \n",
       "prazoExecucao                                                         150   \n",
       "localExecucao                       Portugal, Faro, Vila Real Sto Antonio   \n",
       "fundamentacao           Artigo 20.º, n.º 1, alínea a) do Código dos Co...   \n",
       "\n",
       "idcontrato                                                        115575   \\\n",
       "nAnuncio                                                              NaN   \n",
       "tipoContrato                                        Aquisição de serviços   \n",
       "tipoprocedimento                               Ajuste Direto Regime Geral   \n",
       "objectoContrato         PROJECTO DAS REDES DE DRENAGEM DE ÁGUAS RESIDU...   \n",
       "adjudicantes            508160570 - VRSA Sociedade de Gestão Urbana, E...   \n",
       "adjudicatarios          504959239 - Cota 200 - Projetos e Consultoria ...   \n",
       "dataPublicacao                                        2012-04-10 00:00:00   \n",
       "dataCelebracaoContrato                                2012-07-09 00:00:00   \n",
       "precoContratual                                                   31000.0   \n",
       "cpv                     71242000-6 - Preparação de projecto e concepçã...   \n",
       "prazoExecucao                                                         120   \n",
       "localExecucao                       Portugal, Faro, Vila Real Sto Antonio   \n",
       "fundamentacao           Artigo 20.º, n.º 1, alínea a) do Código dos Co...   \n",
       "\n",
       "idcontrato              ...  \\\n",
       "nAnuncio                ...   \n",
       "tipoContrato            ...   \n",
       "tipoprocedimento        ...   \n",
       "objectoContrato         ...   \n",
       "adjudicantes            ...   \n",
       "adjudicatarios          ...   \n",
       "dataPublicacao          ...   \n",
       "dataCelebracaoContrato  ...   \n",
       "precoContratual         ...   \n",
       "cpv                     ...   \n",
       "prazoExecucao           ...   \n",
       "localExecucao           ...   \n",
       "fundamentacao           ...   \n",
       "\n",
       "idcontrato                                                        4972136  \\\n",
       "nAnuncio                                                              NaN   \n",
       "tipoContrato                                     Aquisição de bens móveis   \n",
       "tipoprocedimento                               Ajuste Direto Regime Geral   \n",
       "objectoContrato         Aquisição de Máquina a Laser de Gravação e Mar...   \n",
       "adjudicantes            504514547 - ASSOC. FORMAÇÃO PROF. E DESENV. DO...   \n",
       "adjudicatarios          500345821 - Tecmacal - Equipamentos Industriai...   \n",
       "dataPublicacao                                        2018-11-24 00:00:00   \n",
       "dataCelebracaoContrato                                2014-11-25 00:00:00   \n",
       "precoContratual                                                   12345.0   \n",
       "cpv                        22521000-8 - Equipamento de gravação em relevo   \n",
       "prazoExecucao                                                          20   \n",
       "localExecucao                                  Portugal, Setúbal, Montijo   \n",
       "fundamentacao           Artigo 20.º, n.º 1, alínea a) do Código dos Co...   \n",
       "\n",
       "idcontrato                                                        4972814  \\\n",
       "nAnuncio                                                              NaN   \n",
       "tipoContrato                                     Aquisição de bens móveis   \n",
       "tipoprocedimento                               Ajuste Direto Regime Geral   \n",
       "objectoContrato         Aquisição de gasóleo rodoviário para desenvolv...   \n",
       "adjudicantes            504650939 - Centro Social de Santa Maria de Sa...   \n",
       "adjudicatarios          504502425 - Irmãos Beleza - Comércio de Combus...   \n",
       "dataPublicacao                                        2018-11-26 00:00:00   \n",
       "dataCelebracaoContrato                                2014-12-18 00:00:00   \n",
       "precoContratual                                                   74500.0   \n",
       "cpv                     09134210-2 - Gasóleo ou combustível para motor...   \n",
       "prazoExecucao                                                         520   \n",
       "localExecucao                          Portugal, Aveiro, Castelo de Paiva   \n",
       "fundamentacao           Artigo 20.º, n.º 1, alínea a) do Código dos Co...   \n",
       "\n",
       "idcontrato                                                        5068023  \\\n",
       "nAnuncio                                                              NaN   \n",
       "tipoContrato                                     Aquisição de bens móveis   \n",
       "tipoprocedimento                 Ao abrigo de acordo-quadro (art.º 258.º)   \n",
       "objectoContrato                                                       AOV   \n",
       "adjudicantes            508203970 - Instituto Nacional de Medicina Leg...   \n",
       "adjudicatarios                      502167610 - Leaseplan Portugal , Lda    \n",
       "dataPublicacao                                        2018-12-26 00:00:00   \n",
       "dataCelebracaoContrato                                2014-06-25 00:00:00   \n",
       "precoContratual                                                 107599.16   \n",
       "cpv                                         34100000-8 - Veículos a motor   \n",
       "prazoExecucao                                                        1460   \n",
       "localExecucao                                  Portugal, Coimbra, Coimbra   \n",
       "fundamentacao           Artigo 20.º, n.º 1, alínea a) do Código dos Co...   \n",
       "\n",
       "idcontrato                                                        5086051  \\\n",
       "nAnuncio                                                              NaN   \n",
       "tipoContrato                                        Aquisição de serviços   \n",
       "tipoprocedimento                               Ajuste Direto Regime Geral   \n",
       "objectoContrato         Prestação de Serviços de Arquitetura e Especia...   \n",
       "adjudicantes            503993506 - Centro Paroquial e Social de S. Jorge   \n",
       "adjudicatarios                         114671931 - Manuel Soares da Silva   \n",
       "dataPublicacao                                        2019-02-01 00:00:00   \n",
       "dataCelebracaoContrato                                2014-06-13 00:00:00   \n",
       "precoContratual                                                   25500.0   \n",
       "cpv                     71240000-2 - Serviços de arquitectura, engenha...   \n",
       "prazoExecucao                                                          90   \n",
       "localExecucao               Portugal, Viana do Castelo, Arcos de Valdevez   \n",
       "fundamentacao           Artigo 20.º, n.º 1, alínea a) do Código dos Co...   \n",
       "\n",
       "idcontrato                                                        5087538  \\\n",
       "nAnuncio                                                              NaN   \n",
       "tipoContrato                                        Aquisição de serviços   \n",
       "tipoprocedimento                               Ajuste Direto Regime Geral   \n",
       "objectoContrato                                          Serviços móveis    \n",
       "adjudicantes                       503841560 - Fundação Aga Khan Portugal   \n",
       "adjudicatarios                        502604751 - NOS - Comunicações S.A.   \n",
       "dataPublicacao                                        2019-02-01 00:00:00   \n",
       "dataCelebracaoContrato                                2014-12-31 00:00:00   \n",
       "precoContratual                                                   27806.4   \n",
       "cpv                     64000000-6 - Serviços postais e de telecomunic...   \n",
       "prazoExecucao                                                         730   \n",
       "localExecucao                                    Portugal, Lisboa, Lisboa   \n",
       "fundamentacao           Artigo 20.º, n.º 1, alínea a) do Código dos Co...   \n",
       "\n",
       "idcontrato                                                        5326806  \\\n",
       "nAnuncio                                                              NaN   \n",
       "tipoContrato                                        Aquisição de serviços   \n",
       "tipoprocedimento                 Ao abrigo de acordo-quadro (art.º 258.º)   \n",
       "objectoContrato         Fornecimento de refeições aos doentes do HSEIT...   \n",
       "adjudicantes            512105030 - Hospital de Santo Espírito da Ilha...   \n",
       "adjudicatarios          500347506 - EUREST (PORTUGAL) - Sociedade Euro...   \n",
       "dataPublicacao                                        2019-08-03 00:00:00   \n",
       "dataCelebracaoContrato                                2014-01-12 00:00:00   \n",
       "precoContratual                                                  43358.97   \n",
       "cpv                     55000000-0 - Serviços de hotelaria, restauraçã...   \n",
       "prazoExecucao                                                          30   \n",
       "localExecucao           Portugal, Região Autónoma dos Açores, Angra do...   \n",
       "fundamentacao           Artigo 20.º, alínea a) do Decreto Legislativo ...   \n",
       "\n",
       "idcontrato                                                        5414071  \\\n",
       "nAnuncio                                                              NaN   \n",
       "tipoContrato                                     Aquisição de bens móveis   \n",
       "tipoprocedimento                               Ajuste Direto Regime Geral   \n",
       "objectoContrato              Aquisição de viaturaMarca Isuzo Modelo D-Max   \n",
       "adjudicantes            510839959 - União das Freguesias de São Pedro ...   \n",
       "adjudicatarios                          509008380 - Freguesia de Carvalho   \n",
       "dataPublicacao                                        2019-03-26 00:00:00   \n",
       "dataCelebracaoContrato                                2014-04-14 00:00:00   \n",
       "precoContratual                                                   14500.0   \n",
       "cpv                                             34113200-4 - Veículos 4X4   \n",
       "prazoExecucao                                                          30   \n",
       "localExecucao                                 Portugal, Coimbra, Penacova   \n",
       "fundamentacao           Artigo 20.º, n.º 1, alínea a) do Código dos Co...   \n",
       "\n",
       "idcontrato                                                        5490660  \\\n",
       "nAnuncio                                                              NaN   \n",
       "tipoContrato                                        Aquisição de serviços   \n",
       "tipoprocedimento                               Ajuste Direto Regime Geral   \n",
       "objectoContrato         Serviço de transporte escolar regular para o a...   \n",
       "adjudicantes            512048746 - Associação de Desenvolvimento da I...   \n",
       "adjudicatarios                     512001812 - Rumo à Natureza Unipessoal   \n",
       "dataPublicacao                                        2019-04-15 00:00:00   \n",
       "dataCelebracaoContrato                                2014-03-11 00:00:00   \n",
       "precoContratual                                                   92594.8   \n",
       "cpv                     60000000-8 - Serviços de transporte (excl. tra...   \n",
       "prazoExecucao                                                         350   \n",
       "localExecucao           Portugal, Região Autónoma dos Açores, Calheta ...   \n",
       "fundamentacao           Artigo 24.º, n.º 1, alínea e) do Código dos Co...   \n",
       "\n",
       "idcontrato                                                        5609840  \\\n",
       "nAnuncio                                                              NaN   \n",
       "tipoContrato                                        Aquisição de serviços   \n",
       "tipoprocedimento                               Ajuste Direto Regime Geral   \n",
       "objectoContrato         AQUISIÇÃO DE SERVIÇOS DE SERVIÇOS DE ASSISTÊNC...   \n",
       "adjudicantes            600084264 - Agrupamento de Escolas Abade de Ba...   \n",
       "adjudicatarios                             506345564 - Solemp-Informática   \n",
       "dataPublicacao                                        2019-03-06 00:00:00   \n",
       "dataCelebracaoContrato                                2014-01-31 00:00:00   \n",
       "precoContratual                                                    4020.0   \n",
       "cpv                     72200000-7 - Serviços de consultoria e de prog...   \n",
       "prazoExecucao                                                         365   \n",
       "localExecucao                                Portugal, Braganca, Bragança   \n",
       "fundamentacao           Artigo 20.º, n.º 1, alínea a) do Código dos Co...   \n",
       "\n",
       "idcontrato                                                        5642823  \n",
       "nAnuncio                                                              NaN  \n",
       "tipoContrato                                        Aquisição de serviços  \n",
       "tipoprocedimento                               Ajuste Direto Regime Geral  \n",
       "objectoContrato         Prestação de serviços de fornecimento de energ...  \n",
       "adjudicantes                         500745749 - Cruz Vermelha Portuguesa  \n",
       "adjudicatarios                              503504564 - EDP Comercial, SA  \n",
       "dataPublicacao                                        2019-06-18 00:00:00  \n",
       "dataCelebracaoContrato                                2014-11-17 00:00:00  \n",
       "precoContratual                                                   8770.18  \n",
       "cpv                     65300000-6 - Serviços de distribuição de elect...  \n",
       "prazoExecucao                                                         365  \n",
       "localExecucao                          Portugal, Coimbra, Figueira da Foz  \n",
       "fundamentacao           Artigo 20.º, n.º 1, alínea a) do Código dos Co...  \n",
       "\n",
       "[13 rows x 249747 columns]"
      ]
     },
     "execution_count": 11,
     "metadata": {},
     "output_type": "execute_result"
    }
   ],
   "source": [
    "data.T"
   ]
  },
  {
   "cell_type": "code",
   "execution_count": 12,
   "metadata": {},
   "outputs": [],
   "source": [
    "# creating aditional rows with the count of entities on the cpf, adjudicantes and adjuticarios fields\n",
    "# to count those entities, we are going to utilize the count of ‘|’ + 1:\n",
    "\n",
    "data['count_cpv'] = data['cpv'].str.count('\\\\|') + 1\n",
    "data['count_adjudicantes'] = data['adjudicantes'].str.count('\\\\|') + 1\n",
    "data['count_adjudicatarios'] = data['adjudicatarios'].str.count('\\\\|') + 1"
   ]
  },
  {
   "cell_type": "code",
   "execution_count": 11,
   "metadata": {},
   "outputs": [
    {
     "data": {
      "text/plain": [
       "3348"
      ]
     },
     "execution_count": 11,
     "metadata": {},
     "output_type": "execute_result"
    }
   ],
   "source": [
    "# registers with more than one entity on the CPV field:\n",
    "data[data['count_cpv'] > 1].shape[0]"
   ]
  },
  {
   "cell_type": "code",
   "execution_count": 12,
   "metadata": {
    "scrolled": true
   },
   "outputs": [
    {
     "data": {
      "text/plain": [
       "952"
      ]
     },
     "execution_count": 12,
     "metadata": {},
     "output_type": "execute_result"
    }
   ],
   "source": [
    "# registers with more than one entity on the Adjuticantes field:\n",
    "data[data['count_adjudicantes'] > 1].shape[0]"
   ]
  },
  {
   "cell_type": "code",
   "execution_count": 13,
   "metadata": {},
   "outputs": [
    {
     "data": {
      "text/plain": [
       "3085"
      ]
     },
     "execution_count": 13,
     "metadata": {},
     "output_type": "execute_result"
    }
   ],
   "source": [
    "# registers with more than one entity on the Adjudicatarios field:\n",
    "data[data['count_adjudicatarios'] > 1].shape[0]"
   ]
  },
  {
   "cell_type": "code",
   "execution_count": 14,
   "metadata": {},
   "outputs": [
    {
     "data": {
      "text/plain": [
       "242462"
      ]
     },
     "execution_count": 14,
     "metadata": {},
     "output_type": "execute_result"
    }
   ],
   "source": [
    "# total registers with more than one entity on the CPV, Adjuticantes and Adjudicatarios field\n",
    "# in case those registers with multiple entities are dropped, those are the left over registers:\n",
    "\n",
    "data[(data['count_cpv'] == 1 ) & (data['count_adjudicantes'] == 1) & (data['count_adjudicatarios'] == 1)].shape[0]"
   ]
  },
  {
   "cell_type": "markdown",
   "metadata": {},
   "source": [
    "3. Let's deal with multiple records. For each feature `cpv`, `adjudicantes` (issuers) and `adjudicatarios` (suppliers) you have three options:\n",
    "    * A) Drop procurement where you have more than 1 `cpv` or `adjudicantes` or `adjudicatarios`\n",
    "    * B) Pick the first one for each procurement (e.g.: [111, 222, 333] -> 111)\n",
    "    * C) Create a row for each different value (explode) in `cpv`, `adjudicantes`, `adjudicatarios` (e.g.: [111, 222, 333] would create 3 rows, 111, 222, and 333). If you choose this option, divide the proc value `precoContratual` by the number of rows for that procurement\n",
    "    \n",
    "__Note: This is a subjective choice and as such you should justify your decision.__"
   ]
  },
  {
   "cell_type": "markdown",
   "metadata": {},
   "source": [
    "3.1. Break the field `cpv` into two columns named `cpvID` and `cpvDesc`.<br>\n",
    "   * The field `cpvID` should retain the CPV id, while the `cpvDesc` its Description <br>\n",
    "   * Example: _\"72416000-9, Fornecedores de aplicações\"_ should lead to a `cpvID` equal to \"72416000-9\" and a `cpvDesc` equal to \"Fornecedores de aplicações\" <br>"
   ]
  },
  {
   "cell_type": "code",
   "execution_count": 13,
   "metadata": {},
   "outputs": [],
   "source": [
    "# option C:  create a new register with different values of CPF and etc. (explode):\n",
    "# 1) split the columns CPF, adjudicantes and adjudicatários with the .split() method into lists:\n",
    "\n",
    "\n",
    "data['cpv'] = data['cpv'].str.split('|')\n",
    "data['adjudicantes'] = data['adjudicantes'].str.split('|')\n",
    "data['adjudicatarios'] = data['adjudicatarios'].str.split('|')\n",
    "\n",
    "# 2) split list of the cpv, adjudicantes e adjuticarios, duplicatiing those registries:\n",
    "data = data.explode('cpv')\n",
    "data = data.explode('adjudicantes')\n",
    "data = data.explode('adjudicatarios')\n",
    "\n",
    "# 3) dropping the indexes:\n",
    "data.reset_index(inplace = True)\n",
    "\n",
    "#4) creating and auxiliary dataframe to calculate the value of the precoContratual of each registry\n",
    "#(precoContratual / number of registries)\n",
    "\n",
    "media = data.pivot_table(index = ['idcontrato'], aggfunc='size').to_frame('count')\n",
    "media = pd.merge(data[['idcontrato','precoContratual']].groupby(['idcontrato'], as_index = False).mean(), \n",
    "                 media,\n",
    "                 on = 'idcontrato')\n",
    "media['precoContratualMedio'] = media['precoContratual']/media['count']\n",
    "\n",
    "# 5) final dataframe:\n",
    "data = pd.merge(data, media[['idcontrato', 'precoContratualMedio']], \n",
    "                      on = 'idcontrato',\n",
    "                      how =  'left')\n",
    "data.drop('precoContratual', axis='columns', inplace=True)\n",
    "data.rename({'precoContratualMedio':'precoContratual'}, axis = 1, inplace = True)\n",
    "\n",
    "# 6) dividing the columns cpf in new columns (cpvID e cpvDesc):\n",
    "\n",
    "data['cpv'] = data['cpv'].str.strip()\n",
    "data[['cpvID','cpvDesc']] = data['cpv'].str.split(\" - \",expand=True)\n",
    "\n"
   ]
  },
  {
   "cell_type": "markdown",
   "metadata": {},
   "source": [
    "3.2. In the fields `adjudicantes` (issuers) and `adjudicatarios` (suppliers) you should have noticed that it includes both the name and the fiscal numbers (NIF) of the participating institutions. For each field, split each record into two new fields: \n",
    "   * `adjudicantes`: `issuerNIF` and `issuerName`\n",
    "   * `adjudicatarios`: `supplierNIF` and `supplierName`\n",
    "   * example: _\"506579425 - Município de Faro\"_ should have a NIF = 506579425 and Name = Município de Faro"
   ]
  },
  {
   "cell_type": "code",
   "execution_count": 14,
   "metadata": {},
   "outputs": [],
   "source": [
    "# the .str.strip() method cleans the string, removing the spaces at the beginning and end of the register\n",
    "# the split() method will separate the registry into two columns by the expand = True parameter, and the \"int 1\" means that\n",
    "# the split will happens only after the first occurrence of the separator (' - ').\n",
    "\n",
    "data['adjudicantes'] = data['adjudicantes'].str.strip()\n",
    "data['adjudicatarios'] = data['adjudicatarios'].str.strip()\n",
    "data[['issuerNIF','issuerName']] = data['adjudicantes'].str.split(\" - \", 1, expand=True)\n",
    "data[['supplierNIF','supplierName']] = data['adjudicatarios'].str.split(\" - \", 1, expand=True)\n"
   ]
  },
  {
   "cell_type": "markdown",
   "metadata": {},
   "source": [
    "4. Display an example for a single row, showing that you have now the issuer and the supplier splitted into `issuerNIF`, `issuerName`, `supplierNIF`, and `supplierName`"
   ]
  },
  {
   "cell_type": "code",
   "execution_count": 15,
   "metadata": {},
   "outputs": [
    {
     "data": {
      "text/html": [
       "<div>\n",
       "<style scoped>\n",
       "    .dataframe tbody tr th:only-of-type {\n",
       "        vertical-align: middle;\n",
       "    }\n",
       "\n",
       "    .dataframe tbody tr th {\n",
       "        vertical-align: top;\n",
       "    }\n",
       "\n",
       "    .dataframe thead th {\n",
       "        text-align: right;\n",
       "    }\n",
       "</style>\n",
       "<table border=\"1\" class=\"dataframe\">\n",
       "  <thead>\n",
       "    <tr style=\"text-align: right;\">\n",
       "      <th></th>\n",
       "      <th>0</th>\n",
       "    </tr>\n",
       "  </thead>\n",
       "  <tbody>\n",
       "    <tr>\n",
       "      <th>idcontrato</th>\n",
       "      <td>85378</td>\n",
       "    </tr>\n",
       "    <tr>\n",
       "      <th>nAnuncio</th>\n",
       "      <td>4227/2009</td>\n",
       "    </tr>\n",
       "    <tr>\n",
       "      <th>tipoContrato</th>\n",
       "      <td>Aquisição de serviços</td>\n",
       "    </tr>\n",
       "    <tr>\n",
       "      <th>tipoprocedimento</th>\n",
       "      <td>Concurso público</td>\n",
       "    </tr>\n",
       "    <tr>\n",
       "      <th>objectoContrato</th>\n",
       "      <td>Prestação de Serviços para Elaboração do Plano...</td>\n",
       "    </tr>\n",
       "    <tr>\n",
       "      <th>adjudicantes</th>\n",
       "      <td>506579425 - Município de Faro</td>\n",
       "    </tr>\n",
       "    <tr>\n",
       "      <th>adjudicatarios</th>\n",
       "      <td>507358830 - Land Design -Paisagismo e Ambiente...</td>\n",
       "    </tr>\n",
       "    <tr>\n",
       "      <th>dataPublicacao</th>\n",
       "      <td>2012-02-21 00:00:00</td>\n",
       "    </tr>\n",
       "    <tr>\n",
       "      <th>dataCelebracaoContrato</th>\n",
       "      <td>2012-02-13 00:00:00</td>\n",
       "    </tr>\n",
       "    <tr>\n",
       "      <th>cpv</th>\n",
       "      <td>79421200-3 - Serviços de concepção de projecto...</td>\n",
       "    </tr>\n",
       "    <tr>\n",
       "      <th>prazoExecucao</th>\n",
       "      <td>550</td>\n",
       "    </tr>\n",
       "    <tr>\n",
       "      <th>localExecucao</th>\n",
       "      <td>Portugal, Faro, Faro</td>\n",
       "    </tr>\n",
       "    <tr>\n",
       "      <th>fundamentacao</th>\n",
       "      <td>Artigo 20.º, n.º 1, alínea b) do Código dos Co...</td>\n",
       "    </tr>\n",
       "    <tr>\n",
       "      <th>count_cpv</th>\n",
       "      <td>1.0</td>\n",
       "    </tr>\n",
       "    <tr>\n",
       "      <th>count_adjudicantes</th>\n",
       "      <td>1</td>\n",
       "    </tr>\n",
       "    <tr>\n",
       "      <th>count_adjudicatarios</th>\n",
       "      <td>2.0</td>\n",
       "    </tr>\n",
       "    <tr>\n",
       "      <th>precoContratual</th>\n",
       "      <td>51500.0</td>\n",
       "    </tr>\n",
       "    <tr>\n",
       "      <th>cpvID</th>\n",
       "      <td>79421200-3</td>\n",
       "    </tr>\n",
       "    <tr>\n",
       "      <th>cpvDesc</th>\n",
       "      <td>Serviços de concepção de projectos, excepto pr...</td>\n",
       "    </tr>\n",
       "    <tr>\n",
       "      <th>issuerNIF</th>\n",
       "      <td>506579425</td>\n",
       "    </tr>\n",
       "    <tr>\n",
       "      <th>issuerName</th>\n",
       "      <td>Município de Faro</td>\n",
       "    </tr>\n",
       "    <tr>\n",
       "      <th>supplierNIF</th>\n",
       "      <td>507358830</td>\n",
       "    </tr>\n",
       "    <tr>\n",
       "      <th>supplierName</th>\n",
       "      <td>Land Design -Paisagismo e Ambiente Ldª.</td>\n",
       "    </tr>\n",
       "  </tbody>\n",
       "</table>\n",
       "</div>"
      ],
      "text/plain": [
       "                                                                        0\n",
       "idcontrato                                                          85378\n",
       "nAnuncio                                                        4227/2009\n",
       "tipoContrato                                        Aquisição de serviços\n",
       "tipoprocedimento                                         Concurso público\n",
       "objectoContrato         Prestação de Serviços para Elaboração do Plano...\n",
       "adjudicantes                                506579425 - Município de Faro\n",
       "adjudicatarios          507358830 - Land Design -Paisagismo e Ambiente...\n",
       "dataPublicacao                                        2012-02-21 00:00:00\n",
       "dataCelebracaoContrato                                2012-02-13 00:00:00\n",
       "cpv                     79421200-3 - Serviços de concepção de projecto...\n",
       "prazoExecucao                                                         550\n",
       "localExecucao                                        Portugal, Faro, Faro\n",
       "fundamentacao           Artigo 20.º, n.º 1, alínea b) do Código dos Co...\n",
       "count_cpv                                                             1.0\n",
       "count_adjudicantes                                                      1\n",
       "count_adjudicatarios                                                  2.0\n",
       "precoContratual                                                   51500.0\n",
       "cpvID                                                          79421200-3\n",
       "cpvDesc                 Serviços de concepção de projectos, excepto pr...\n",
       "issuerNIF                                                       506579425\n",
       "issuerName                                              Município de Faro\n",
       "supplierNIF                                                     507358830\n",
       "supplierName                      Land Design -Paisagismo e Ambiente Ldª."
      ]
     },
     "execution_count": 15,
     "metadata": {},
     "output_type": "execute_result"
    }
   ],
   "source": [
    "# selecting the first regiter of the final dataframe. The contract number #85378 has thow different suppliers.\n",
    "# Land Design -Paisagismo and Ambiente Ldª e Site Plan - Consultores em Planeamento e Urbanismo:\n",
    "\n",
    "data.loc[[0]].T"
   ]
  },
  {
   "cell_type": "code",
   "execution_count": 16,
   "metadata": {},
   "outputs": [
    {
     "data": {
      "text/html": [
       "<div>\n",
       "<style scoped>\n",
       "    .dataframe tbody tr th:only-of-type {\n",
       "        vertical-align: middle;\n",
       "    }\n",
       "\n",
       "    .dataframe tbody tr th {\n",
       "        vertical-align: top;\n",
       "    }\n",
       "\n",
       "    .dataframe thead th {\n",
       "        text-align: right;\n",
       "    }\n",
       "</style>\n",
       "<table border=\"1\" class=\"dataframe\">\n",
       "  <thead>\n",
       "    <tr style=\"text-align: right;\">\n",
       "      <th></th>\n",
       "      <th>1</th>\n",
       "    </tr>\n",
       "  </thead>\n",
       "  <tbody>\n",
       "    <tr>\n",
       "      <th>idcontrato</th>\n",
       "      <td>85378</td>\n",
       "    </tr>\n",
       "    <tr>\n",
       "      <th>nAnuncio</th>\n",
       "      <td>4227/2009</td>\n",
       "    </tr>\n",
       "    <tr>\n",
       "      <th>tipoContrato</th>\n",
       "      <td>Aquisição de serviços</td>\n",
       "    </tr>\n",
       "    <tr>\n",
       "      <th>tipoprocedimento</th>\n",
       "      <td>Concurso público</td>\n",
       "    </tr>\n",
       "    <tr>\n",
       "      <th>objectoContrato</th>\n",
       "      <td>Prestação de Serviços para Elaboração do Plano...</td>\n",
       "    </tr>\n",
       "    <tr>\n",
       "      <th>adjudicantes</th>\n",
       "      <td>506579425 - Município de Faro</td>\n",
       "    </tr>\n",
       "    <tr>\n",
       "      <th>adjudicatarios</th>\n",
       "      <td>508371970 - Site Plan - Consultores em Planeam...</td>\n",
       "    </tr>\n",
       "    <tr>\n",
       "      <th>dataPublicacao</th>\n",
       "      <td>2012-02-21 00:00:00</td>\n",
       "    </tr>\n",
       "    <tr>\n",
       "      <th>dataCelebracaoContrato</th>\n",
       "      <td>2012-02-13 00:00:00</td>\n",
       "    </tr>\n",
       "    <tr>\n",
       "      <th>cpv</th>\n",
       "      <td>79421200-3 - Serviços de concepção de projecto...</td>\n",
       "    </tr>\n",
       "    <tr>\n",
       "      <th>prazoExecucao</th>\n",
       "      <td>550</td>\n",
       "    </tr>\n",
       "    <tr>\n",
       "      <th>localExecucao</th>\n",
       "      <td>Portugal, Faro, Faro</td>\n",
       "    </tr>\n",
       "    <tr>\n",
       "      <th>fundamentacao</th>\n",
       "      <td>Artigo 20.º, n.º 1, alínea b) do Código dos Co...</td>\n",
       "    </tr>\n",
       "    <tr>\n",
       "      <th>count_cpv</th>\n",
       "      <td>1.0</td>\n",
       "    </tr>\n",
       "    <tr>\n",
       "      <th>count_adjudicantes</th>\n",
       "      <td>1</td>\n",
       "    </tr>\n",
       "    <tr>\n",
       "      <th>count_adjudicatarios</th>\n",
       "      <td>2.0</td>\n",
       "    </tr>\n",
       "    <tr>\n",
       "      <th>precoContratual</th>\n",
       "      <td>51500.0</td>\n",
       "    </tr>\n",
       "    <tr>\n",
       "      <th>cpvID</th>\n",
       "      <td>79421200-3</td>\n",
       "    </tr>\n",
       "    <tr>\n",
       "      <th>cpvDesc</th>\n",
       "      <td>Serviços de concepção de projectos, excepto pr...</td>\n",
       "    </tr>\n",
       "    <tr>\n",
       "      <th>issuerNIF</th>\n",
       "      <td>506579425</td>\n",
       "    </tr>\n",
       "    <tr>\n",
       "      <th>issuerName</th>\n",
       "      <td>Município de Faro</td>\n",
       "    </tr>\n",
       "    <tr>\n",
       "      <th>supplierNIF</th>\n",
       "      <td>508371970</td>\n",
       "    </tr>\n",
       "    <tr>\n",
       "      <th>supplierName</th>\n",
       "      <td>Site Plan - Consultores em Planeamento e Urban...</td>\n",
       "    </tr>\n",
       "  </tbody>\n",
       "</table>\n",
       "</div>"
      ],
      "text/plain": [
       "                                                                        1\n",
       "idcontrato                                                          85378\n",
       "nAnuncio                                                        4227/2009\n",
       "tipoContrato                                        Aquisição de serviços\n",
       "tipoprocedimento                                         Concurso público\n",
       "objectoContrato         Prestação de Serviços para Elaboração do Plano...\n",
       "adjudicantes                                506579425 - Município de Faro\n",
       "adjudicatarios          508371970 - Site Plan - Consultores em Planeam...\n",
       "dataPublicacao                                        2012-02-21 00:00:00\n",
       "dataCelebracaoContrato                                2012-02-13 00:00:00\n",
       "cpv                     79421200-3 - Serviços de concepção de projecto...\n",
       "prazoExecucao                                                         550\n",
       "localExecucao                                        Portugal, Faro, Faro\n",
       "fundamentacao           Artigo 20.º, n.º 1, alínea b) do Código dos Co...\n",
       "count_cpv                                                             1.0\n",
       "count_adjudicantes                                                      1\n",
       "count_adjudicatarios                                                  2.0\n",
       "precoContratual                                                   51500.0\n",
       "cpvID                                                          79421200-3\n",
       "cpvDesc                 Serviços de concepção de projectos, excepto pr...\n",
       "issuerNIF                                                       506579425\n",
       "issuerName                                              Município de Faro\n",
       "supplierNIF                                                     508371970\n",
       "supplierName            Site Plan - Consultores em Planeamento e Urban..."
      ]
     },
     "execution_count": 16,
     "metadata": {},
     "output_type": "execute_result"
    }
   ],
   "source": [
    "data.loc[[1]].T"
   ]
  },
  {
   "cell_type": "markdown",
   "metadata": {},
   "source": [
    "Discuss you approach here, and explain the rational behind your decisions."
   ]
  },
  {
   "cell_type": "markdown",
   "metadata": {},
   "source": [
    "__Answer__ <br>\n",
    "<div class=\"alert alert-block alert-info\">\n",
    "<b>Question 1:</b> The method .to_datetime converts a string to datetime\n",
    "\n",
    "<b>Questão 2:</b> The dataframe has 3.348 registries with more than one CPV, 952 registries with more than one Adjuticante and 3.085 registtries with more than one Adjuticatário. In case all those registries were dropped, the dataframe would be left with 242.462 registries.\n",
    "    \n",
    "<b>Questão 3:</b> For this analysis, the chosen approach was the approach ‘C’, where we duplicated the contracts by the number of repeated registries, and we split the total value of the contract by the number of registries. This approach was chosen because in that way, we maintained the same information of the original dataframe (total number of different adjuticantes, adjuticatários and cpvs), and still would be able to maintain the total value of contracts. The first option was not adequate because we would lost contracts with that, and the second alternative we would lost the total number of adjudicantes and adjucatarios.\n",
    "\n",
    "    \n",
    "<b>Questão 4:</b> Using as an example the contract number #85378, witch is the first registry of the dataframe. This contract has two different suppliers, as we can see in duplicated ‘idcontrato’ in data.loc[[0]] and data.loc[[1]]. The two suppliers for this contract are Land Design -Paisagismo and Ambiente Ldª e Site Plan - Consultores em Planeamento e Urbanismo.\n",
    "</div>\n"
   ]
  },
  {
   "cell_type": "markdown",
   "metadata": {},
   "source": [
    "---"
   ]
  },
  {
   "cell_type": "markdown",
   "metadata": {},
   "source": [
    "<b>[Step 4. | 5 points ]</b><br>\n",
    "Let us do some exploratory analysis of the data. The goals is to develop some familarity with the data, which we will do by answering some simple questions. Knowing which questions to ask is an important step for any successful data science project. In that sense, write down the necessary code to answer the following questions:\n",
    "\n",
    "(Consider reporting the results using a meaningful visualization.)\n",
    "\n",
    "1. What is the total value of procurements per month? Consider the `dataCelebracaoContrato` as your reference date. "
   ]
  },
  {
   "cell_type": "code",
   "execution_count": 19,
   "metadata": {
    "scrolled": false
   },
   "outputs": [
    {
     "data": {
      "text/plain": [
       "precoContratual   -1.206680e+06\n",
       "dtype: float64"
      ]
     },
     "execution_count": 19,
     "metadata": {},
     "output_type": "execute_result"
    }
   ],
   "source": [
    "################################################### Begining of the data cleaning ###################################################\n",
    "# Previous analysis of the data_1: distribution of the contract values\n",
    "# the negative contracts sum up -1,2 MM euros\n",
    "# Those contracts may refer to reversals, and will not be analised\n",
    "\n",
    "data[['idcontrato', 'precoContratual']].loc[(data['precoContratual'] < 0)].groupby('idcontrato').sum().sum()"
   ]
  },
  {
   "cell_type": "code",
   "execution_count": 20,
   "metadata": {},
   "outputs": [
    {
     "data": {
      "text/plain": [
       "<AxesSubplot:ylabel='Frequency'>"
      ]
     },
     "execution_count": 20,
     "metadata": {},
     "output_type": "execute_result"
    },
    {
     "data": {
      "image/png": "[encoded data removed]",
      "text/plain": [
       "<Figure size 432x288 with 1 Axes>"
      ]
     },
     "metadata": {
      "needs_background": "light"
     },
     "output_type": "display_data"
    }
   ],
   "source": [
    "# distribution of the contracts with negative values:\n",
    "data[['idcontrato', 'precoContratual']].loc[(data['precoContratual'] < 0)]\\\n",
    ".groupby('idcontrato').sum().plot(kind = 'hist', bins = 10)"
   ]
  },
  {
   "cell_type": "code",
   "execution_count": 21,
   "metadata": {},
   "outputs": [],
   "source": [
    "# dropping those values:\n",
    "data = data.loc[data['precoContratual'] > 0]"
   ]
  },
  {
   "cell_type": "code",
   "execution_count": 17,
   "metadata": {},
   "outputs": [
    {
     "data": {
      "text/plain": [
       "precoContratual   -739580.193175\n",
       "dtype: float64"
      ]
     },
     "execution_count": 17,
     "metadata": {},
     "output_type": "execute_result"
    }
   ],
   "source": [
    "# Previous analysis of the data_2: distribution of the value of the contracts\n",
    "# the contracts with values less than 100 euros sum up 467.100 euros,\n",
    "# a small part of the sum of the contracts (12 trillions of Euros)\n",
    "# Those micro contracts will not be analyzed. \n",
    "\n",
    "data[['idcontrato', 'precoContratual']].loc[(data['precoContratual'] < 100)].groupby('idcontrato').sum().sum()"
   ]
  },
  {
   "cell_type": "code",
   "execution_count": 18,
   "metadata": {},
   "outputs": [
    {
     "data": {
      "text/plain": [
       "precoContratual    1.292592e+10\n",
       "dtype: float64"
      ]
     },
     "execution_count": 18,
     "metadata": {},
     "output_type": "execute_result"
    }
   ],
   "source": [
    "data[['idcontrato', 'precoContratual']].groupby('idcontrato').sum().sum()"
   ]
  },
  {
   "cell_type": "code",
   "execution_count": 24,
   "metadata": {},
   "outputs": [
    {
     "data": {
      "text/plain": [
       "<AxesSubplot:ylabel='Frequency'>"
      ]
     },
     "execution_count": 24,
     "metadata": {},
     "output_type": "execute_result"
    },
    {
     "data": {
      "image/png": "[encoded data removed]",
      "text/plain": [
       "<Figure size 432x288 with 1 Axes>"
      ]
     },
     "metadata": {
      "needs_background": "light"
     },
     "output_type": "display_data"
    }
   ],
   "source": [
    "# distribution of the contracts with values less than 100 euros.\n",
    "data[['idcontrato', 'precoContratual']].loc[(data['precoContratual'] < 100)]\\\n",
    ".groupby('idcontrato').sum().plot(kind = 'hist', bins = 10)"
   ]
  },
  {
   "cell_type": "code",
   "execution_count": 25,
   "metadata": {},
   "outputs": [],
   "source": [
    "# dropping aprox. 9.000 micro contracts with values less than 100 euros:\n",
    "data = data.loc[data['precoContratual'] > 100]"
   ]
  },
  {
   "cell_type": "code",
   "execution_count": 26,
   "metadata": {},
   "outputs": [
    {
     "data": {
      "text/plain": [
       "precoContratual    6205555.23\n",
       "dtype: float64"
      ]
     },
     "execution_count": 26,
     "metadata": {},
     "output_type": "execute_result"
    }
   ],
   "source": [
    "# Previous analysis of the data_3: distribution of the contract values with a duration less than 0:\n",
    "# 6,2 MM euros\n",
    "\n",
    "data[['idcontrato', 'precoContratual']].loc[data['prazoExecucao'] <= 0].groupby('idcontrato').sum().sum()"
   ]
  },
  {
   "cell_type": "code",
   "execution_count": 19,
   "metadata": {},
   "outputs": [
    {
     "data": {
      "text/plain": [
       "<AxesSubplot:ylabel='Frequency'>"
      ]
     },
     "execution_count": 19,
     "metadata": {},
     "output_type": "execute_result"
    },
    {
     "data": {
      "image/png": "[encoded data removed]",
      "text/plain": [
       "<Figure size 432x288 with 1 Axes>"
      ]
     },
     "metadata": {
      "needs_background": "light"
     },
     "output_type": "display_data"
    }
   ],
   "source": [
    "# distribution of contracts with duration less than 0.\n",
    "data[['idcontrato', 'precoContratual']].loc[data['prazoExecucao'] <= 0]\\\n",
    ".groupby('idcontrato').sum().plot(kind = 'hist', bins = 10)"
   ]
  },
  {
   "cell_type": "code",
   "execution_count": 20,
   "metadata": {},
   "outputs": [],
   "source": [
    "# for contracts with duration == 1, a day of execution was added.\n",
    "data.loc[data['prazoExecucao'] <= 0, 'prazoExecucao'] = 1\n",
    "\n",
    "################################################### End of Data Cleaning ###################################################"
   ]
  },
  {
   "cell_type": "markdown",
   "metadata": {},
   "source": [
    "---"
   ]
  },
  {
   "cell_type": "code",
   "execution_count": 21,
   "metadata": {},
   "outputs": [
    {
     "data": {
      "image/png": "[encoded data removed]",
      "text/plain": [
       "<Figure size 1296x360 with 1 Axes>"
      ]
     },
     "metadata": {
      "needs_background": "light"
     },
     "output_type": "display_data"
    }
   ],
   "source": [
    "# plotting the total of contracts made by month, in millions of euros: \n",
    "from matplotlib.ticker import (MultipleLocator, AutoMinorLocator, FormatStrFormatter)\n",
    "import matplotlib.dates as mdates\n",
    "plt.figure(figsize = (18, 5))\n",
    "plt.title('Total em contratos celebrados por mês (em milhões de euros)')\n",
    "\n",
    "ax = sns.lineplot(data = data[['precoContratual', 'dataCelebracaoContrato']].groupby(pd.Grouper(key = 'dataCelebracaoContrato', freq='M')).sum()/1000000)\n",
    "ax.yaxis.set_major_locator(MultipleLocator(100))\n",
    "ax.yaxis.set_minor_locator(MultipleLocator(50))\n",
    "\n",
    "major_locator = mdates.MonthLocator(interval=3)\n",
    "minor_locator = mdates.MonthLocator(interval=1)\n",
    "ax.xaxis.set_major_locator(major_locator)\n",
    "ax.xaxis.set_minor_locator(minor_locator)\n",
    "\n",
    "plt.ylim(ymin=0)\n",
    "plt.grid(which='major', linewidth=1)\n",
    "plt.grid(which='minor', linestyle='--', axis = 'y', linewidth = 0.5)\n",
    "plt.show()"
   ]
  },
  {
   "cell_type": "markdown",
   "metadata": {},
   "source": [
    "2. How many procurements do have been issied per month of each year?"
   ]
  },
  {
   "cell_type": "code",
   "execution_count": 22,
   "metadata": {},
   "outputs": [
    {
     "data": {
      "image/png": "[encoded data removed]",
      "text/plain": [
       "<Figure size 1296x360 with 1 Axes>"
      ]
     },
     "metadata": {
      "needs_background": "light"
     },
     "output_type": "display_data"
    }
   ],
   "source": [
    "# total of contrats made, by month:\n",
    "plt.figure(figsize = (18,5))\n",
    "plt.title('Quantidade de contratos celebrados por mês')\n",
    "\n",
    "ax = sns.lineplot(data = data[['idcontrato', 'dataCelebracaoContrato']].drop_duplicates().value_counts('dataCelebracaoContrato').groupby(pd.Grouper(freq='M')).sum())\n",
    "ax.yaxis.set_major_locator(MultipleLocator(2000))\n",
    "ax.yaxis.set_minor_locator(MultipleLocator(1000))\n",
    "\n",
    "major_locator = mdates.MonthLocator(interval=3)\n",
    "minor_locator = mdates.MonthLocator(interval=1)\n",
    "ax.xaxis.set_major_locator(major_locator)\n",
    "ax.xaxis.set_minor_locator(minor_locator)\n",
    "\n",
    "plt.ylim(ymin=0)\n",
    "plt.grid(which='major', linewidth=1)\n",
    "plt.grid(which='minor', linestyle='--', axis = 'y', linewidth = 0.5)\n",
    "plt.show()"
   ]
  },
  {
   "cell_type": "markdown",
   "metadata": {},
   "source": [
    "3. What is the distribution of values? In other words, what is the proportion of procurements that have value X?  Can you build a visualization to highlight the what you found more interesting and discuss it? <br>\n",
    "\n",
    "Note: Consider working with the Logarithm base 10 of values as they provide a more easy to interpret value; Consider exploring different number of bins for the X values."
   ]
  },
  {
   "cell_type": "code",
   "execution_count": 23,
   "metadata": {
    "scrolled": true
   },
   "outputs": [
    {
     "data": {
      "image/png": "[encoded data removed]",
      "text/plain": [
       "<Figure size 1296x360 with 1 Axes>"
      ]
     },
     "metadata": {
      "needs_background": "light"
     },
     "output_type": "display_data"
    }
   ],
   "source": [
    "# distribution of contrats, in log scale\n",
    "\n",
    "preco_contrato = data[['idcontrato', 'precoContratual']].groupby('idcontrato').sum().reset_index()\n",
    "\n",
    "plt.figure(figsize = (18, 5))\n",
    "plt.title('Distribuição dos preços dos contratos')\n",
    "\n",
    "ax = sns.histplot(preco_contrato, x = 'precoContratual', bins = 55)\n",
    "\n",
    "plt.grid(which='major', axis = 'y', linewidth=1)\n",
    "plt.grid(which='minor', linestyle='--', axis = 'y', linewidth = 0.5)\n",
    "plt.gca().set_yscale(\"log\")\n",
    "plt.show()"
   ]
  },
  {
   "cell_type": "markdown",
   "metadata": {},
   "source": [
    "4. In the dataset, how many issuing Institutions are there? And how many suppliers?"
   ]
  },
  {
   "cell_type": "code",
   "execution_count": 24,
   "metadata": {},
   "outputs": [
    {
     "data": {
      "text/html": [
       "<div>\n",
       "<style scoped>\n",
       "    .dataframe tbody tr th:only-of-type {\n",
       "        vertical-align: middle;\n",
       "    }\n",
       "\n",
       "    .dataframe tbody tr th {\n",
       "        vertical-align: top;\n",
       "    }\n",
       "\n",
       "    .dataframe thead th {\n",
       "        text-align: right;\n",
       "    }\n",
       "</style>\n",
       "<table border=\"1\" class=\"dataframe\">\n",
       "  <thead>\n",
       "    <tr style=\"text-align: right;\">\n",
       "      <th></th>\n",
       "      <th>issuerNIF</th>\n",
       "      <th>issuerName</th>\n",
       "    </tr>\n",
       "  </thead>\n",
       "  <tbody>\n",
       "    <tr>\n",
       "      <th>0</th>\n",
       "      <td>506579425</td>\n",
       "      <td>Município de Faro</td>\n",
       "    </tr>\n",
       "    <tr>\n",
       "      <th>2</th>\n",
       "      <td>505587815</td>\n",
       "      <td>INST GESTAO FINANC INFRA-ESTRUTURAS JUSTIÇA, IP</td>\n",
       "    </tr>\n",
       "    <tr>\n",
       "      <th>3</th>\n",
       "      <td>508160570</td>\n",
       "      <td>VRSA Sociedade de Gestão Urbana, EM, SA</td>\n",
       "    </tr>\n",
       "    <tr>\n",
       "      <th>11</th>\n",
       "      <td>509107630</td>\n",
       "      <td>AdRA - Águas da Região de Aveiro</td>\n",
       "    </tr>\n",
       "    <tr>\n",
       "      <th>12</th>\n",
       "      <td>506415082</td>\n",
       "      <td>Município de Coimbra</td>\n",
       "    </tr>\n",
       "    <tr>\n",
       "      <th>...</th>\n",
       "      <td>...</td>\n",
       "      <td>...</td>\n",
       "    </tr>\n",
       "    <tr>\n",
       "      <th>271518</th>\n",
       "      <td>503017728</td>\n",
       "      <td>Orsifor - Centro Formação Profissiona da Moita...</td>\n",
       "    </tr>\n",
       "    <tr>\n",
       "      <th>271528</th>\n",
       "      <td>507033647</td>\n",
       "      <td>Freguesia de Braga (São Vítor)</td>\n",
       "    </tr>\n",
       "    <tr>\n",
       "      <th>271530</th>\n",
       "      <td>504341111</td>\n",
       "      <td>Magensinus - Empresa Promotora de Serviçiços d...</td>\n",
       "    </tr>\n",
       "    <tr>\n",
       "      <th>271551</th>\n",
       "      <td>600080196</td>\n",
       "      <td>Agrupamento de Escolas Lousada Este (SNCP)</td>\n",
       "    </tr>\n",
       "    <tr>\n",
       "      <th>271565</th>\n",
       "      <td>510839959</td>\n",
       "      <td>União das Freguesias de São Pedro de Alva e Sã...</td>\n",
       "    </tr>\n",
       "  </tbody>\n",
       "</table>\n",
       "<p>5875 rows × 2 columns</p>\n",
       "</div>"
      ],
      "text/plain": [
       "        issuerNIF                                         issuerName\n",
       "0       506579425                                  Município de Faro\n",
       "2       505587815    INST GESTAO FINANC INFRA-ESTRUTURAS JUSTIÇA, IP\n",
       "3       508160570            VRSA Sociedade de Gestão Urbana, EM, SA\n",
       "11      509107630                   AdRA - Águas da Região de Aveiro\n",
       "12      506415082                               Município de Coimbra\n",
       "...           ...                                                ...\n",
       "271518  503017728  Orsifor - Centro Formação Profissiona da Moita...\n",
       "271528  507033647                     Freguesia de Braga (São Vítor)\n",
       "271530  504341111  Magensinus - Empresa Promotora de Serviçiços d...\n",
       "271551  600080196         Agrupamento de Escolas Lousada Este (SNCP)\n",
       "271565  510839959  União das Freguesias de São Pedro de Alva e Sã...\n",
       "\n",
       "[5875 rows x 2 columns]"
      ]
     },
     "execution_count": 24,
     "metadata": {},
     "output_type": "execute_result"
    }
   ],
   "source": [
    "data[['issuerNIF', 'issuerName']].drop_duplicates()"
   ]
  },
  {
   "cell_type": "code",
   "execution_count": 25,
   "metadata": {},
   "outputs": [
    {
     "data": {
      "text/html": [
       "<div>\n",
       "<style scoped>\n",
       "    .dataframe tbody tr th:only-of-type {\n",
       "        vertical-align: middle;\n",
       "    }\n",
       "\n",
       "    .dataframe tbody tr th {\n",
       "        vertical-align: top;\n",
       "    }\n",
       "\n",
       "    .dataframe thead th {\n",
       "        text-align: right;\n",
       "    }\n",
       "</style>\n",
       "<table border=\"1\" class=\"dataframe\">\n",
       "  <thead>\n",
       "    <tr style=\"text-align: right;\">\n",
       "      <th></th>\n",
       "      <th>supplierNIF</th>\n",
       "      <th>supplierName</th>\n",
       "    </tr>\n",
       "  </thead>\n",
       "  <tbody>\n",
       "    <tr>\n",
       "      <th>0</th>\n",
       "      <td>507358830</td>\n",
       "      <td>Land Design -Paisagismo e Ambiente Ldª.</td>\n",
       "    </tr>\n",
       "    <tr>\n",
       "      <th>1</th>\n",
       "      <td>508371970</td>\n",
       "      <td>Site Plan - Consultores em Planeamento e Urban...</td>\n",
       "    </tr>\n",
       "    <tr>\n",
       "      <th>2</th>\n",
       "      <td>508195985</td>\n",
       "      <td>Ferreira Edinorte - Sul, ACE</td>\n",
       "    </tr>\n",
       "    <tr>\n",
       "      <th>3</th>\n",
       "      <td>505107929</td>\n",
       "      <td>FTD, Consultores de Engenharia, Lda.</td>\n",
       "    </tr>\n",
       "    <tr>\n",
       "      <th>4</th>\n",
       "      <td>501453989</td>\n",
       "      <td>Ecoserviços - Gestão de Sistemas Ecológicos, Lda</td>\n",
       "    </tr>\n",
       "    <tr>\n",
       "      <th>...</th>\n",
       "      <td>...</td>\n",
       "      <td>...</td>\n",
       "    </tr>\n",
       "    <tr>\n",
       "      <th>271553</th>\n",
       "      <td>510842500</td>\n",
       "      <td>Padaria Tia Olimpia - Proveitotimo, Lda</td>\n",
       "    </tr>\n",
       "    <tr>\n",
       "      <th>271560</th>\n",
       "      <td>504502425</td>\n",
       "      <td>Irmãos Beleza - Comércio de Combustível e Cons...</td>\n",
       "    </tr>\n",
       "    <tr>\n",
       "      <th>271562</th>\n",
       "      <td>114671931</td>\n",
       "      <td>Manuel Soares da Silva</td>\n",
       "    </tr>\n",
       "    <tr>\n",
       "      <th>271565</th>\n",
       "      <td>509008380</td>\n",
       "      <td>Freguesia de Carvalho</td>\n",
       "    </tr>\n",
       "    <tr>\n",
       "      <th>271567</th>\n",
       "      <td>506345564</td>\n",
       "      <td>Solemp-Informática</td>\n",
       "    </tr>\n",
       "  </tbody>\n",
       "</table>\n",
       "<p>43584 rows × 2 columns</p>\n",
       "</div>"
      ],
      "text/plain": [
       "       supplierNIF                                       supplierName\n",
       "0        507358830            Land Design -Paisagismo e Ambiente Ldª.\n",
       "1        508371970  Site Plan - Consultores em Planeamento e Urban...\n",
       "2        508195985                       Ferreira Edinorte - Sul, ACE\n",
       "3        505107929               FTD, Consultores de Engenharia, Lda.\n",
       "4        501453989   Ecoserviços - Gestão de Sistemas Ecológicos, Lda\n",
       "...            ...                                                ...\n",
       "271553   510842500            Padaria Tia Olimpia - Proveitotimo, Lda\n",
       "271560   504502425  Irmãos Beleza - Comércio de Combustível e Cons...\n",
       "271562   114671931                             Manuel Soares da Silva\n",
       "271565   509008380                              Freguesia de Carvalho\n",
       "271567   506345564                                 Solemp-Informática\n",
       "\n",
       "[43584 rows x 2 columns]"
      ]
     },
     "execution_count": 25,
     "metadata": {},
     "output_type": "execute_result"
    }
   ],
   "source": [
    "# There is 4.3071 different issuers\n",
    "data[['supplierNIF', 'supplierName']].drop_duplicates()"
   ]
  },
  {
   "cell_type": "markdown",
   "metadata": {},
   "source": [
    "5. What services has ISEGI-Inst Superior de Estatistica e Gestão de Informação da UNL (NIF: 502322152) supplied? And who are the top three issuers/beneficiaries of such services?"
   ]
  },
  {
   "cell_type": "code",
   "execution_count": 26,
   "metadata": {},
   "outputs": [
    {
     "data": {
      "text/html": [
       "<div>\n",
       "<style scoped>\n",
       "    .dataframe tbody tr th:only-of-type {\n",
       "        vertical-align: middle;\n",
       "    }\n",
       "\n",
       "    .dataframe tbody tr th {\n",
       "        vertical-align: top;\n",
       "    }\n",
       "\n",
       "    .dataframe thead th {\n",
       "        text-align: right;\n",
       "    }\n",
       "</style>\n",
       "<table border=\"1\" class=\"dataframe\">\n",
       "  <thead>\n",
       "    <tr style=\"text-align: right;\">\n",
       "      <th></th>\n",
       "      <th>objectoContrato</th>\n",
       "    </tr>\n",
       "  </thead>\n",
       "  <tbody>\n",
       "    <tr>\n",
       "      <th>36540</th>\n",
       "      <td>Estudo de avaliação da qualidade dos serviços ...</td>\n",
       "    </tr>\n",
       "    <tr>\n",
       "      <th>63873</th>\n",
       "      <td>Manutenção do SIPACE referente ao 2º semestre ...</td>\n",
       "    </tr>\n",
       "    <tr>\n",
       "      <th>102833</th>\n",
       "      <td>AVALIAÇÃO DE SATISFAÇÃO DOS CLIENTES IPQ REFER...</td>\n",
       "    </tr>\n",
       "    <tr>\n",
       "      <th>113334</th>\n",
       "      <td>Aquisição de um curso de Pós-Graduação em gest...</td>\n",
       "    </tr>\n",
       "    <tr>\n",
       "      <th>127466</th>\n",
       "      <td>Aquisição de serviços para a realização de um ...</td>\n",
       "    </tr>\n",
       "    <tr>\n",
       "      <th>137398</th>\n",
       "      <td>Serviços de Manutenção, Consolidação e  evoluç...</td>\n",
       "    </tr>\n",
       "    <tr>\n",
       "      <th>150800</th>\n",
       "      <td>Avaliação da Satisfação dos Clientes do IPQ re...</td>\n",
       "    </tr>\n",
       "    <tr>\n",
       "      <th>161863</th>\n",
       "      <td>Aquisição de Serviços de Elaboração da Revisão...</td>\n",
       "    </tr>\n",
       "    <tr>\n",
       "      <th>193104</th>\n",
       "      <td>Contratação de serviço de manutenção do SIPACE</td>\n",
       "    </tr>\n",
       "    <tr>\n",
       "      <th>193112</th>\n",
       "      <td>Desenvolvimento da aplicação SIPACE</td>\n",
       "    </tr>\n",
       "    <tr>\n",
       "      <th>195103</th>\n",
       "      <td>Formação de um curso de pós-graduação em gestã...</td>\n",
       "    </tr>\n",
       "    <tr>\n",
       "      <th>206782</th>\n",
       "      <td>serviços para a realização de um Estudo de Ava...</td>\n",
       "    </tr>\n",
       "    <tr>\n",
       "      <th>211558</th>\n",
       "      <td>Aquisição de Serviços para Manutenção, Consoli...</td>\n",
       "    </tr>\n",
       "  </tbody>\n",
       "</table>\n",
       "</div>"
      ],
      "text/plain": [
       "                                          objectoContrato\n",
       "36540   Estudo de avaliação da qualidade dos serviços ...\n",
       "63873   Manutenção do SIPACE referente ao 2º semestre ...\n",
       "102833  AVALIAÇÃO DE SATISFAÇÃO DOS CLIENTES IPQ REFER...\n",
       "113334  Aquisição de um curso de Pós-Graduação em gest...\n",
       "127466  Aquisição de serviços para a realização de um ...\n",
       "137398  Serviços de Manutenção, Consolidação e  evoluç...\n",
       "150800  Avaliação da Satisfação dos Clientes do IPQ re...\n",
       "161863  Aquisição de Serviços de Elaboração da Revisão...\n",
       "193104     Contratação de serviço de manutenção do SIPACE\n",
       "193112                Desenvolvimento da aplicação SIPACE\n",
       "195103  Formação de um curso de pós-graduação em gestã...\n",
       "206782  serviços para a realização de um Estudo de Ava...\n",
       "211558  Aquisição de Serviços para Manutenção, Consoli..."
      ]
     },
     "execution_count": 26,
     "metadata": {},
     "output_type": "execute_result"
    }
   ],
   "source": [
    "# the services provided by ISEGI-Inst Superior de Estatistica e Gestão de Informação da UNL was:\n",
    "data[['objectoContrato']].loc[data['supplierNIF'] == '502322152']"
   ]
  },
  {
   "cell_type": "code",
   "execution_count": 27,
   "metadata": {
    "scrolled": true
   },
   "outputs": [
    {
     "data": {
      "text/html": [
       "<div>\n",
       "<style scoped>\n",
       "    .dataframe tbody tr th:only-of-type {\n",
       "        vertical-align: middle;\n",
       "    }\n",
       "\n",
       "    .dataframe tbody tr th {\n",
       "        vertical-align: top;\n",
       "    }\n",
       "\n",
       "    .dataframe thead th {\n",
       "        text-align: right;\n",
       "    }\n",
       "</style>\n",
       "<table border=\"1\" class=\"dataframe\">\n",
       "  <thead>\n",
       "    <tr style=\"text-align: right;\">\n",
       "      <th></th>\n",
       "      <th>precoContratual</th>\n",
       "    </tr>\n",
       "    <tr>\n",
       "      <th>issuerName</th>\n",
       "      <th></th>\n",
       "    </tr>\n",
       "  </thead>\n",
       "  <tbody>\n",
       "    <tr>\n",
       "      <th>Instituto da Mobilidade e dos Transportes, I. P.</th>\n",
       "      <td>216134.000000</td>\n",
       "    </tr>\n",
       "    <tr>\n",
       "      <th>ARH - Administração da Região Hidrográfica do Algarve, I.P.</th>\n",
       "      <td>91566.666667</td>\n",
       "    </tr>\n",
       "    <tr>\n",
       "      <th>Administração Central do Sistema de Saúde, I. P.</th>\n",
       "      <td>74250.000000</td>\n",
       "    </tr>\n",
       "  </tbody>\n",
       "</table>\n",
       "</div>"
      ],
      "text/plain": [
       "                                                    precoContratual\n",
       "issuerName                                                         \n",
       "Instituto da Mobilidade e dos Transportes, I. P.      216134.000000\n",
       "ARH - Administração da Região Hidrográfica do A...     91566.666667\n",
       "Administração Central do Sistema de Saúde, I. P.       74250.000000"
      ]
     },
     "execution_count": 27,
     "metadata": {},
     "output_type": "execute_result"
    }
   ],
   "source": [
    "# The biggest contractors of SEGI-Inst Superior de Estatistica e Gestão de Informação da UNL:\n",
    "data[['issuerName', 'precoContratual']].loc[data['supplierNIF'] == '502322152']\\\n",
    ".groupby('issuerName').sum().sort_values(by='precoContratual',ascending=False).head(3)"
   ]
  },
  {
   "cell_type": "markdown",
   "metadata": {},
   "source": [
    "6. What are the top 10 supplied services (CPV) contracted by Hospital de Santa Maria Maior (NIF: 506361381)?"
   ]
  },
  {
   "cell_type": "code",
   "execution_count": 28,
   "metadata": {
    "scrolled": true
   },
   "outputs": [
    {
     "data": {
      "text/html": [
       "<div>\n",
       "<style scoped>\n",
       "    .dataframe tbody tr th:only-of-type {\n",
       "        vertical-align: middle;\n",
       "    }\n",
       "\n",
       "    .dataframe tbody tr th {\n",
       "        vertical-align: top;\n",
       "    }\n",
       "\n",
       "    .dataframe thead th {\n",
       "        text-align: right;\n",
       "    }\n",
       "</style>\n",
       "<table border=\"1\" class=\"dataframe\">\n",
       "  <thead>\n",
       "    <tr style=\"text-align: right;\">\n",
       "      <th></th>\n",
       "      <th>precoContratual</th>\n",
       "    </tr>\n",
       "    <tr>\n",
       "      <th>cpvDesc</th>\n",
       "      <th></th>\n",
       "    </tr>\n",
       "  </thead>\n",
       "  <tbody>\n",
       "    <tr>\n",
       "      <th>Electricidade</th>\n",
       "      <td>511658.692281</td>\n",
       "    </tr>\n",
       "    <tr>\n",
       "      <th>Medicamentos vários</th>\n",
       "      <td>188839.715000</td>\n",
       "    </tr>\n",
       "    <tr>\n",
       "      <th>Reagentes de laboratório</th>\n",
       "      <td>94468.890000</td>\n",
       "    </tr>\n",
       "    <tr>\n",
       "      <th>Equipamento médico, medicamentos e produtos para cuidados pessoais</th>\n",
       "      <td>76867.200000</td>\n",
       "    </tr>\n",
       "    <tr>\n",
       "      <th>Equipamento médico</th>\n",
       "      <td>73950.380000</td>\n",
       "    </tr>\n",
       "    <tr>\n",
       "      <th>Serviços de segurança</th>\n",
       "      <td>55776.000000</td>\n",
       "    </tr>\n",
       "    <tr>\n",
       "      <th>Medicamentos para o sangue e para os órgãos hematopoiéticos</th>\n",
       "      <td>55247.260000</td>\n",
       "    </tr>\n",
       "    <tr>\n",
       "      <th>Antineoplásicos e imunomoduladores</th>\n",
       "      <td>54176.200000</td>\n",
       "    </tr>\n",
       "    <tr>\n",
       "      <th>Serviços de limpeza</th>\n",
       "      <td>51908.520000</td>\n",
       "    </tr>\n",
       "    <tr>\n",
       "      <th>Papel para fotocópia</th>\n",
       "      <td>29451.543333</td>\n",
       "    </tr>\n",
       "  </tbody>\n",
       "</table>\n",
       "</div>"
      ],
      "text/plain": [
       "                                                    precoContratual\n",
       "cpvDesc                                                            \n",
       "Electricidade                                         511658.692281\n",
       "Medicamentos vários                                   188839.715000\n",
       "Reagentes de laboratório                               94468.890000\n",
       "Equipamento médico, medicamentos e produtos par...     76867.200000\n",
       "Equipamento médico                                     73950.380000\n",
       "Serviços de segurança                                  55776.000000\n",
       "Medicamentos para o sangue e para os órgãos hem...     55247.260000\n",
       "Antineoplásicos e imunomoduladores                     54176.200000\n",
       "Serviços de limpeza                                    51908.520000\n",
       "Papel para fotocópia                                   29451.543333"
      ]
     },
     "execution_count": 28,
     "metadata": {},
     "output_type": "execute_result"
    }
   ],
   "source": [
    "# The 10 top suppliers of Hospital de Santa Maria Maio was:\n",
    "data[['cpvDesc', 'precoContratual']].loc[data['issuerNIF'] == '506361381']\\\n",
    ".groupby('cpvDesc').sum().sort_values(by='precoContratual',ascending=False).head(10)"
   ]
  },
  {
   "cell_type": "markdown",
   "metadata": {},
   "source": [
    "7. What services (CPV) has Novo Banco, S.A. (NIF: 513204016) supplied? Agregate the output by CPV and sort by descing order of total value."
   ]
  },
  {
   "cell_type": "code",
   "execution_count": 29,
   "metadata": {},
   "outputs": [
    {
     "data": {
      "text/html": [
       "<div>\n",
       "<style scoped>\n",
       "    .dataframe tbody tr th:only-of-type {\n",
       "        vertical-align: middle;\n",
       "    }\n",
       "\n",
       "    .dataframe tbody tr th {\n",
       "        vertical-align: top;\n",
       "    }\n",
       "\n",
       "    .dataframe thead th {\n",
       "        text-align: right;\n",
       "    }\n",
       "</style>\n",
       "<table border=\"1\" class=\"dataframe\">\n",
       "  <thead>\n",
       "    <tr style=\"text-align: right;\">\n",
       "      <th></th>\n",
       "      <th>precoContratual</th>\n",
       "    </tr>\n",
       "    <tr>\n",
       "      <th>cpvDesc</th>\n",
       "      <th></th>\n",
       "    </tr>\n",
       "  </thead>\n",
       "  <tbody>\n",
       "    <tr>\n",
       "      <th>Serviços de banca</th>\n",
       "      <td>1750800.0</td>\n",
       "    </tr>\n",
       "    <tr>\n",
       "      <th>Automóveis de passageiros</th>\n",
       "      <td>19918.7</td>\n",
       "    </tr>\n",
       "    <tr>\n",
       "      <th>Serviços das agências de cobrança</th>\n",
       "      <td>16372.8</td>\n",
       "    </tr>\n",
       "  </tbody>\n",
       "</table>\n",
       "</div>"
      ],
      "text/plain": [
       "                                   precoContratual\n",
       "cpvDesc                                           \n",
       "Serviços de banca                        1750800.0\n",
       "Automóveis de passageiros                  19918.7\n",
       "Serviços das agências de cobrança          16372.8"
      ]
     },
     "execution_count": 29,
     "metadata": {},
     "output_type": "execute_result"
    }
   ],
   "source": [
    "# The Novo Banco, S.A. provided the following services. The main service was Serviços de banca.\n",
    "data[['cpvDesc', 'precoContratual']].loc[data['supplierNIF'] == '513204016']\\\n",
    ".groupby('cpvDesc').sum().sort_values(by='precoContratual',ascending=False)"
   ]
  },
  {
   "cell_type": "markdown",
   "metadata": {},
   "source": [
    "8. Can you measure the correlation between the length/duration of contract `prazoExecucao` and the final value `precoContratual`? Are longer contracts more costly? <br>\n",
    "\n",
    "Note: Consider doing the log transform of both variables to obtain more meaningful results."
   ]
  },
  {
   "cell_type": "code",
   "execution_count": 30,
   "metadata": {},
   "outputs": [
    {
     "data": {
      "image/png": "[encoded data removed]",
      "text/plain": [
       "<Figure size 1296x360 with 1 Axes>"
      ]
     },
     "metadata": {
      "needs_background": "light"
     },
     "output_type": "display_data"
    }
   ],
   "source": [
    "# Scatterplot showing the correlationg between duration and price of the contract.\n",
    "# despite the big dispersion of data, we can see that the duration of the contract isn’t a good predictor for contracts longer than 150 days\n",
    "# from 150 days forward, the duration of the contract seems to influence positively on the price of the contract, despite keeping and high dispersion of data\n",
    "\n",
    "plot = data[['idcontrato','prazoExecucao', 'precoContratual']].groupby('idcontrato').sum()\n",
    "plot['prazoLog'] = plot['prazoExecucao'].apply(np.log10)\n",
    "plot['precoLog'] = plot['precoContratual'].apply(np.log10)\n",
    "\n",
    "\n",
    "plt.figure(figsize = (18, 5))\n",
    "sns.scatterplot(data = plot,\n",
    "               x = 'prazoLog',\n",
    "               y = 'precoLog')\n",
    "plt.show()"
   ]
  },
  {
   "cell_type": "markdown",
   "metadata": {},
   "source": [
    "Do a short discussion summarizing the main findings you obtained from exploring the data through the above questions."
   ]
  },
  {
   "cell_type": "markdown",
   "metadata": {},
   "source": [
    "__Answer:__ <br>\n",
    "<div class=\"alert alert-block alert-info\">\n",
    "    \n",
    "Before the begining of the analysis, a brief data cleaning step was executed:\n",
    "<ul>\n",
    "    <li>Dropping duplicates\n",
    "    <li>Dropping contracts with irrelevant or negative values\n",
    "    <li> Adjusting the duration of contracts with time of execution from ==0 to == 1\n",
    "It was assumed that the dropped values didn’t impact on the overall analysis and introduce less noise in the projections made on the next steps\n",
    "The full detail of the impact can be evaluated on the seps above.  \n",
    "<br>\n",
    "<b>Question 1:</b> A brief temporal analysis of the total (in euros) of contracts made shows that 2013, the Monthly total was between 300 and 400 millions euros. In 2014 foward, this total grew up to something between 400 and 500 millions euros.\n",
    "<br>\n",
    "<b>Question 2:</b> In a similar analysis, we can see that the total contracts made by month grew in the same period that the total value of contracts grew, in about 2.000 contracts per month.\n",
    "<br>\n",
    "<b>Question 3:</b> As seen in the histogram of contract values, we can notice that most of them are concentrated in values up until 400 million euros. Two super contracts draw attention with values above 1.000 MM euros, witch are the contracts 848753 and contract 1396275.\n",
    "<br>\n",
    "<b>Question 4 to 7:</b> They were answered in the respective codes above. Refer to the respective piece of code to more details.\n",
    "<br>\n",
    "<b>Question 8:</b> For contracts less than 150 days, it seems to have low correlation between the duration and total value of the contract, perhaps because they are specific types of short term contracts. For contracts above 150 days in duration, we can see a positive correlation between duration and total value of the contract. \n",
    "</div>\n"
   ]
  },
  {
   "cell_type": "markdown",
   "metadata": {},
   "source": [
    "---"
   ]
  },
  {
   "cell_type": "markdown",
   "metadata": {},
   "source": [
    "<b>[Step 5. | 5 points ]</b> You probably have noticed that our dataset includes procurements isseued by municipalities (Câmara Municipal or Município). Interesting hein? Next, we will explore municipality procurement data a bit more in detail. To that end, we will need to process our procurement dataset, in order to obtain the procurements of each municipality, aggregate the data and obtain the relevant metrics.\n",
    "\n",
    "However, the data is not uniform as some typos lead to the same municipality having different names. Moreover, there are municipal companies that have a different fiscal code than the municipalities. To make it simple, let us ignore municipal companies. Moreover, we have prepared beforehand a .csv file that lists all the NIF ids associated wit each municipality.\n",
    "\n",
    "1. Download the file MunicipiosNIF.csv from Moodle and load it into a dataframe;"
   ]
  },
  {
   "cell_type": "code",
   "execution_count": 32,
   "metadata": {},
   "outputs": [
    {
     "name": "stdout",
     "output_type": "stream",
     "text": [
      "<class 'pandas.core.frame.DataFrame'>\n",
      "RangeIndex: 308 entries, 0 to 307\n",
      "Data columns (total 2 columns):\n",
      " #   Column        Non-Null Count  Dtype \n",
      "---  ------        --------------  ----- \n",
      " 0   NIF           308 non-null    int64 \n",
      " 1   Municipality  308 non-null    object\n",
      "dtypes: int64(1), object(1)\n",
      "memory usage: 4.9+ KB\n"
     ]
    }
   ],
   "source": [
    "# importing the MunicipiosNIF dataset. \n",
    "mun_nif = pd.read_csv(r'.\\DATA\\MunicipiosNIF.csv', delimiter = ';')\n",
    "mun_nif.info()"
   ]
  },
  {
   "cell_type": "markdown",
   "metadata": {},
   "source": [
    "2. Create a new dataframe that contains only the procurements issued by municipalities. Use the dataframe created in the <b>previous point (Question 1 of Step 5)</b> to aid your filtering."
   ]
  },
  {
   "cell_type": "code",
   "execution_count": 33,
   "metadata": {},
   "outputs": [
    {
     "data": {
      "text/html": [
       "<div>\n",
       "<style scoped>\n",
       "    .dataframe tbody tr th:only-of-type {\n",
       "        vertical-align: middle;\n",
       "    }\n",
       "\n",
       "    .dataframe tbody tr th {\n",
       "        vertical-align: top;\n",
       "    }\n",
       "\n",
       "    .dataframe thead th {\n",
       "        text-align: right;\n",
       "    }\n",
       "</style>\n",
       "<table border=\"1\" class=\"dataframe\">\n",
       "  <thead>\n",
       "    <tr style=\"text-align: right;\">\n",
       "      <th></th>\n",
       "      <th>0</th>\n",
       "      <th>1</th>\n",
       "      <th>2</th>\n",
       "      <th>3</th>\n",
       "      <th>4</th>\n",
       "    </tr>\n",
       "  </thead>\n",
       "  <tbody>\n",
       "    <tr>\n",
       "      <th>idcontrato</th>\n",
       "      <td>85378</td>\n",
       "      <td>85378</td>\n",
       "      <td>306651</td>\n",
       "      <td>339619</td>\n",
       "      <td>339620</td>\n",
       "    </tr>\n",
       "    <tr>\n",
       "      <th>nAnuncio</th>\n",
       "      <td>4227/2009</td>\n",
       "      <td>4227/2009</td>\n",
       "      <td>2063/2011</td>\n",
       "      <td>3183/2011</td>\n",
       "      <td>3183/2011</td>\n",
       "    </tr>\n",
       "    <tr>\n",
       "      <th>tipoContrato</th>\n",
       "      <td>Aquisição de serviços</td>\n",
       "      <td>Aquisição de serviços</td>\n",
       "      <td>Concessão de serviços públicos</td>\n",
       "      <td>Outros</td>\n",
       "      <td>Outros</td>\n",
       "    </tr>\n",
       "    <tr>\n",
       "      <th>tipoprocedimento</th>\n",
       "      <td>Concurso público</td>\n",
       "      <td>Concurso público</td>\n",
       "      <td>Concurso público</td>\n",
       "      <td>Concurso público</td>\n",
       "      <td>Concurso público</td>\n",
       "    </tr>\n",
       "    <tr>\n",
       "      <th>objectoContrato</th>\n",
       "      <td>Prestação de Serviços para Elaboração do Plano...</td>\n",
       "      <td>Prestação de Serviços para Elaboração do Plano...</td>\n",
       "      <td>Concessão de exploração de estacionamento nas ...</td>\n",
       "      <td>Fornecimento contínuo de produtos químicos par...</td>\n",
       "      <td>Fornecimento contínuo de produtos químicos par...</td>\n",
       "    </tr>\n",
       "    <tr>\n",
       "      <th>adjudicantes</th>\n",
       "      <td>506579425 - Município de Faro</td>\n",
       "      <td>506579425 - Município de Faro</td>\n",
       "      <td>506579425 - Município de Faro</td>\n",
       "      <td>506579425 - Município de Faro</td>\n",
       "      <td>506579425 - Município de Faro</td>\n",
       "    </tr>\n",
       "    <tr>\n",
       "      <th>adjudicatarios</th>\n",
       "      <td>507358830 - Land Design -Paisagismo e Ambiente...</td>\n",
       "      <td>508371970 - Site Plan - Consultores em Planeam...</td>\n",
       "      <td>503496553 - Masitrave, Lda</td>\n",
       "      <td>504486799 - Sagilab-Laboratório de Análise Téc...</td>\n",
       "      <td>506565165 - Prodyalca - Comércio de Produtos Q...</td>\n",
       "    </tr>\n",
       "    <tr>\n",
       "      <th>dataPublicacao</th>\n",
       "      <td>2012-02-21 00:00:00</td>\n",
       "      <td>2012-02-21 00:00:00</td>\n",
       "      <td>2012-02-16 00:00:00</td>\n",
       "      <td>2012-03-16 00:00:00</td>\n",
       "      <td>2012-03-16 00:00:00</td>\n",
       "    </tr>\n",
       "    <tr>\n",
       "      <th>dataCelebracaoContrato</th>\n",
       "      <td>2012-02-13 00:00:00</td>\n",
       "      <td>2012-02-13 00:00:00</td>\n",
       "      <td>2012-01-02 00:00:00</td>\n",
       "      <td>2012-08-02 00:00:00</td>\n",
       "      <td>2012-02-20 00:00:00</td>\n",
       "    </tr>\n",
       "    <tr>\n",
       "      <th>cpv</th>\n",
       "      <td>79421200-3 - Serviços de concepção de projecto...</td>\n",
       "      <td>79421200-3 - Serviços de concepção de projecto...</td>\n",
       "      <td>63712400-7 - Serviços de estacionamento</td>\n",
       "      <td>98300000-6 - Serviços diversos</td>\n",
       "      <td>39830000-9 - Produtos de limpeza</td>\n",
       "    </tr>\n",
       "    <tr>\n",
       "      <th>prazoExecucao</th>\n",
       "      <td>550</td>\n",
       "      <td>550</td>\n",
       "      <td>2610</td>\n",
       "      <td>730</td>\n",
       "      <td>730</td>\n",
       "    </tr>\n",
       "    <tr>\n",
       "      <th>localExecucao</th>\n",
       "      <td>Portugal, Faro, Faro</td>\n",
       "      <td>Portugal, Faro, Faro</td>\n",
       "      <td>Portugal, Faro, Faro</td>\n",
       "      <td>Portugal, Faro, Faro</td>\n",
       "      <td>Portugal, Faro, Faro</td>\n",
       "    </tr>\n",
       "    <tr>\n",
       "      <th>fundamentacao</th>\n",
       "      <td>Artigo 20.º, n.º 1, alínea b) do Código dos Co...</td>\n",
       "      <td>Artigo 20.º, n.º 1, alínea b) do Código dos Co...</td>\n",
       "      <td>Artigo 31.º, n.º 1 do Código dos Contratos Púb...</td>\n",
       "      <td>Artigo 20.º, n.º 1, alínea b) do Código dos Co...</td>\n",
       "      <td>Artigo 20.º, n.º 1, alínea b) do Código dos Co...</td>\n",
       "    </tr>\n",
       "    <tr>\n",
       "      <th>count_cpv</th>\n",
       "      <td>1.0</td>\n",
       "      <td>1.0</td>\n",
       "      <td>1.0</td>\n",
       "      <td>1.0</td>\n",
       "      <td>1.0</td>\n",
       "    </tr>\n",
       "    <tr>\n",
       "      <th>count_adjudicantes</th>\n",
       "      <td>1</td>\n",
       "      <td>1</td>\n",
       "      <td>1</td>\n",
       "      <td>1</td>\n",
       "      <td>1</td>\n",
       "    </tr>\n",
       "    <tr>\n",
       "      <th>count_adjudicatarios</th>\n",
       "      <td>2.0</td>\n",
       "      <td>2.0</td>\n",
       "      <td>1.0</td>\n",
       "      <td>1.0</td>\n",
       "      <td>1.0</td>\n",
       "    </tr>\n",
       "    <tr>\n",
       "      <th>precoContratual</th>\n",
       "      <td>51500.0</td>\n",
       "      <td>51500.0</td>\n",
       "      <td>0.0</td>\n",
       "      <td>27208.0</td>\n",
       "      <td>20733.3</td>\n",
       "    </tr>\n",
       "    <tr>\n",
       "      <th>cpvID</th>\n",
       "      <td>79421200-3</td>\n",
       "      <td>79421200-3</td>\n",
       "      <td>63712400-7</td>\n",
       "      <td>98300000-6</td>\n",
       "      <td>39830000-9</td>\n",
       "    </tr>\n",
       "    <tr>\n",
       "      <th>cpvDesc</th>\n",
       "      <td>Serviços de concepção de projectos, excepto pr...</td>\n",
       "      <td>Serviços de concepção de projectos, excepto pr...</td>\n",
       "      <td>Serviços de estacionamento</td>\n",
       "      <td>Serviços diversos</td>\n",
       "      <td>Produtos de limpeza</td>\n",
       "    </tr>\n",
       "    <tr>\n",
       "      <th>issuerNIF</th>\n",
       "      <td>506579425</td>\n",
       "      <td>506579425</td>\n",
       "      <td>506579425</td>\n",
       "      <td>506579425</td>\n",
       "      <td>506579425</td>\n",
       "    </tr>\n",
       "    <tr>\n",
       "      <th>issuerName</th>\n",
       "      <td>Município de Faro</td>\n",
       "      <td>Município de Faro</td>\n",
       "      <td>Município de Faro</td>\n",
       "      <td>Município de Faro</td>\n",
       "      <td>Município de Faro</td>\n",
       "    </tr>\n",
       "    <tr>\n",
       "      <th>supplierNIF</th>\n",
       "      <td>507358830</td>\n",
       "      <td>508371970</td>\n",
       "      <td>503496553</td>\n",
       "      <td>504486799</td>\n",
       "      <td>506565165</td>\n",
       "    </tr>\n",
       "    <tr>\n",
       "      <th>supplierName</th>\n",
       "      <td>Land Design -Paisagismo e Ambiente Ldª.</td>\n",
       "      <td>Site Plan - Consultores em Planeamento e Urban...</td>\n",
       "      <td>Masitrave, Lda</td>\n",
       "      <td>Sagilab-Laboratório de Análise Técnicas,SA</td>\n",
       "      <td>Prodyalca - Comércio de Produtos Químicos, Ldª</td>\n",
       "    </tr>\n",
       "    <tr>\n",
       "      <th>Municipality</th>\n",
       "      <td>Município de Faro</td>\n",
       "      <td>Município de Faro</td>\n",
       "      <td>Município de Faro</td>\n",
       "      <td>Município de Faro</td>\n",
       "      <td>Município de Faro</td>\n",
       "    </tr>\n",
       "  </tbody>\n",
       "</table>\n",
       "</div>"
      ],
      "text/plain": [
       "                                                                        0  \\\n",
       "idcontrato                                                          85378   \n",
       "nAnuncio                                                        4227/2009   \n",
       "tipoContrato                                        Aquisição de serviços   \n",
       "tipoprocedimento                                         Concurso público   \n",
       "objectoContrato         Prestação de Serviços para Elaboração do Plano...   \n",
       "adjudicantes                                506579425 - Município de Faro   \n",
       "adjudicatarios          507358830 - Land Design -Paisagismo e Ambiente...   \n",
       "dataPublicacao                                        2012-02-21 00:00:00   \n",
       "dataCelebracaoContrato                                2012-02-13 00:00:00   \n",
       "cpv                     79421200-3 - Serviços de concepção de projecto...   \n",
       "prazoExecucao                                                         550   \n",
       "localExecucao                                        Portugal, Faro, Faro   \n",
       "fundamentacao           Artigo 20.º, n.º 1, alínea b) do Código dos Co...   \n",
       "count_cpv                                                             1.0   \n",
       "count_adjudicantes                                                      1   \n",
       "count_adjudicatarios                                                  2.0   \n",
       "precoContratual                                                   51500.0   \n",
       "cpvID                                                          79421200-3   \n",
       "cpvDesc                 Serviços de concepção de projectos, excepto pr...   \n",
       "issuerNIF                                                       506579425   \n",
       "issuerName                                              Município de Faro   \n",
       "supplierNIF                                                     507358830   \n",
       "supplierName                      Land Design -Paisagismo e Ambiente Ldª.   \n",
       "Municipality                                            Município de Faro   \n",
       "\n",
       "                                                                        1  \\\n",
       "idcontrato                                                          85378   \n",
       "nAnuncio                                                        4227/2009   \n",
       "tipoContrato                                        Aquisição de serviços   \n",
       "tipoprocedimento                                         Concurso público   \n",
       "objectoContrato         Prestação de Serviços para Elaboração do Plano...   \n",
       "adjudicantes                                506579425 - Município de Faro   \n",
       "adjudicatarios          508371970 - Site Plan - Consultores em Planeam...   \n",
       "dataPublicacao                                        2012-02-21 00:00:00   \n",
       "dataCelebracaoContrato                                2012-02-13 00:00:00   \n",
       "cpv                     79421200-3 - Serviços de concepção de projecto...   \n",
       "prazoExecucao                                                         550   \n",
       "localExecucao                                        Portugal, Faro, Faro   \n",
       "fundamentacao           Artigo 20.º, n.º 1, alínea b) do Código dos Co...   \n",
       "count_cpv                                                             1.0   \n",
       "count_adjudicantes                                                      1   \n",
       "count_adjudicatarios                                                  2.0   \n",
       "precoContratual                                                   51500.0   \n",
       "cpvID                                                          79421200-3   \n",
       "cpvDesc                 Serviços de concepção de projectos, excepto pr...   \n",
       "issuerNIF                                                       506579425   \n",
       "issuerName                                              Município de Faro   \n",
       "supplierNIF                                                     508371970   \n",
       "supplierName            Site Plan - Consultores em Planeamento e Urban...   \n",
       "Municipality                                            Município de Faro   \n",
       "\n",
       "                                                                        2  \\\n",
       "idcontrato                                                         306651   \n",
       "nAnuncio                                                        2063/2011   \n",
       "tipoContrato                               Concessão de serviços públicos   \n",
       "tipoprocedimento                                         Concurso público   \n",
       "objectoContrato         Concessão de exploração de estacionamento nas ...   \n",
       "adjudicantes                                506579425 - Município de Faro   \n",
       "adjudicatarios                                 503496553 - Masitrave, Lda   \n",
       "dataPublicacao                                        2012-02-16 00:00:00   \n",
       "dataCelebracaoContrato                                2012-01-02 00:00:00   \n",
       "cpv                               63712400-7 - Serviços de estacionamento   \n",
       "prazoExecucao                                                        2610   \n",
       "localExecucao                                        Portugal, Faro, Faro   \n",
       "fundamentacao           Artigo 31.º, n.º 1 do Código dos Contratos Púb...   \n",
       "count_cpv                                                             1.0   \n",
       "count_adjudicantes                                                      1   \n",
       "count_adjudicatarios                                                  1.0   \n",
       "precoContratual                                                       0.0   \n",
       "cpvID                                                          63712400-7   \n",
       "cpvDesc                                        Serviços de estacionamento   \n",
       "issuerNIF                                                       506579425   \n",
       "issuerName                                              Município de Faro   \n",
       "supplierNIF                                                     503496553   \n",
       "supplierName                                               Masitrave, Lda   \n",
       "Municipality                                            Município de Faro   \n",
       "\n",
       "                                                                        3  \\\n",
       "idcontrato                                                         339619   \n",
       "nAnuncio                                                        3183/2011   \n",
       "tipoContrato                                                       Outros   \n",
       "tipoprocedimento                                         Concurso público   \n",
       "objectoContrato         Fornecimento contínuo de produtos químicos par...   \n",
       "adjudicantes                                506579425 - Município de Faro   \n",
       "adjudicatarios          504486799 - Sagilab-Laboratório de Análise Téc...   \n",
       "dataPublicacao                                        2012-03-16 00:00:00   \n",
       "dataCelebracaoContrato                                2012-08-02 00:00:00   \n",
       "cpv                                        98300000-6 - Serviços diversos   \n",
       "prazoExecucao                                                         730   \n",
       "localExecucao                                        Portugal, Faro, Faro   \n",
       "fundamentacao           Artigo 20.º, n.º 1, alínea b) do Código dos Co...   \n",
       "count_cpv                                                             1.0   \n",
       "count_adjudicantes                                                      1   \n",
       "count_adjudicatarios                                                  1.0   \n",
       "precoContratual                                                   27208.0   \n",
       "cpvID                                                          98300000-6   \n",
       "cpvDesc                                                 Serviços diversos   \n",
       "issuerNIF                                                       506579425   \n",
       "issuerName                                              Município de Faro   \n",
       "supplierNIF                                                     504486799   \n",
       "supplierName                   Sagilab-Laboratório de Análise Técnicas,SA   \n",
       "Municipality                                            Município de Faro   \n",
       "\n",
       "                                                                        4  \n",
       "idcontrato                                                         339620  \n",
       "nAnuncio                                                        3183/2011  \n",
       "tipoContrato                                                       Outros  \n",
       "tipoprocedimento                                         Concurso público  \n",
       "objectoContrato         Fornecimento contínuo de produtos químicos par...  \n",
       "adjudicantes                                506579425 - Município de Faro  \n",
       "adjudicatarios          506565165 - Prodyalca - Comércio de Produtos Q...  \n",
       "dataPublicacao                                        2012-03-16 00:00:00  \n",
       "dataCelebracaoContrato                                2012-02-20 00:00:00  \n",
       "cpv                                      39830000-9 - Produtos de limpeza  \n",
       "prazoExecucao                                                         730  \n",
       "localExecucao                                        Portugal, Faro, Faro  \n",
       "fundamentacao           Artigo 20.º, n.º 1, alínea b) do Código dos Co...  \n",
       "count_cpv                                                             1.0  \n",
       "count_adjudicantes                                                      1  \n",
       "count_adjudicatarios                                                  1.0  \n",
       "precoContratual                                                   20733.3  \n",
       "cpvID                                                          39830000-9  \n",
       "cpvDesc                                               Produtos de limpeza  \n",
       "issuerNIF                                                       506579425  \n",
       "issuerName                                              Município de Faro  \n",
       "supplierNIF                                                     506565165  \n",
       "supplierName               Prodyalca - Comércio de Produtos Químicos, Ldª  \n",
       "Municipality                                            Município de Faro  "
      ]
     },
     "execution_count": 33,
     "metadata": {},
     "output_type": "execute_result"
    }
   ],
   "source": [
    "# merge works well for joining those two datasets:\n",
    "mun_nif.rename({'NIF':'issuerNIF'}, axis = 1, inplace = True)\n",
    "mun_nif['issuerNIF'] = mun_nif['issuerNIF'].apply(str)\n",
    "data_mun = pd.merge(data, mun_nif,\n",
    "                   on = 'issuerNIF')\n",
    "data_mun.head(5).T"
   ]
  },
  {
   "cell_type": "markdown",
   "metadata": {},
   "source": [
    "2. What are the top 10 suppliers in terms of value of the municipality of Lisbon?"
   ]
  },
  {
   "cell_type": "code",
   "execution_count": 35,
   "metadata": {},
   "outputs": [
    {
     "data": {
      "text/html": [
       "<div>\n",
       "<style scoped>\n",
       "    .dataframe tbody tr th:only-of-type {\n",
       "        vertical-align: middle;\n",
       "    }\n",
       "\n",
       "    .dataframe tbody tr th {\n",
       "        vertical-align: top;\n",
       "    }\n",
       "\n",
       "    .dataframe thead th {\n",
       "        text-align: right;\n",
       "    }\n",
       "</style>\n",
       "<table border=\"1\" class=\"dataframe\">\n",
       "  <thead>\n",
       "    <tr style=\"text-align: right;\">\n",
       "      <th></th>\n",
       "      <th>precoContratual</th>\n",
       "    </tr>\n",
       "    <tr>\n",
       "      <th>supplierName</th>\n",
       "      <th></th>\n",
       "    </tr>\n",
       "  </thead>\n",
       "  <tbody>\n",
       "    <tr>\n",
       "      <th>Securitas - Serviços e Tecnologia de Segurança, S.A.</th>\n",
       "      <td>7073688.480</td>\n",
       "    </tr>\n",
       "    <tr>\n",
       "      <th>Habitamega Construções, S.A.</th>\n",
       "      <td>7043241.580</td>\n",
       "    </tr>\n",
       "    <tr>\n",
       "      <th>Euromex, Lda.</th>\n",
       "      <td>6323077.340</td>\n",
       "    </tr>\n",
       "    <tr>\n",
       "      <th>EDP Comercial, SA</th>\n",
       "      <td>5823386.230</td>\n",
       "    </tr>\n",
       "    <tr>\n",
       "      <th>CONSTRUTORA UDRA, LDA.</th>\n",
       "      <td>5055108.885</td>\n",
       "    </tr>\n",
       "    <tr>\n",
       "      <th>LUIS FRAZÃO - CONSTRUÇÃO CIVIL E OBRAS PÚBLICAS, S.A.</th>\n",
       "      <td>5035111.590</td>\n",
       "    </tr>\n",
       "    <tr>\n",
       "      <th>Controp-Congevia,SA</th>\n",
       "      <td>5032353.510</td>\n",
       "    </tr>\n",
       "    <tr>\n",
       "      <th>HCI - CONSTRUÇÕES, SA</th>\n",
       "      <td>4761027.330</td>\n",
       "    </tr>\n",
       "    <tr>\n",
       "      <th>Teixera, Pinto &amp;amp; Soares, S.A.</th>\n",
       "      <td>4446533.160</td>\n",
       "    </tr>\n",
       "    <tr>\n",
       "      <th>Uniself Sociedade de Restaurantes Públicos e Privados SA</th>\n",
       "      <td>4408763.640</td>\n",
       "    </tr>\n",
       "  </tbody>\n",
       "</table>\n",
       "</div>"
      ],
      "text/plain": [
       "                                                    precoContratual\n",
       "supplierName                                                       \n",
       "Securitas - Serviços e Tecnologia de Segurança,...      7073688.480\n",
       "Habitamega Construções, S.A.                            7043241.580\n",
       "Euromex, Lda.                                           6323077.340\n",
       "EDP Comercial, SA                                       5823386.230\n",
       "CONSTRUTORA UDRA, LDA.                                  5055108.885\n",
       "LUIS FRAZÃO - CONSTRUÇÃO CIVIL E OBRAS PÚBLICAS...      5035111.590\n",
       "Controp-Congevia,SA                                     5032353.510\n",
       "HCI - CONSTRUÇÕES, SA                                   4761027.330\n",
       "Teixera, Pinto &amp; Soares, S.A.                       4446533.160\n",
       "Uniself Sociedade de Restaurantes Públicos e Pr...      4408763.640"
      ]
     },
     "execution_count": 35,
     "metadata": {},
     "output_type": "execute_result"
    }
   ],
   "source": [
    "# Lisboa's NIF: 500051070\n",
    "data_mun[['supplierName', 'precoContratual']].loc[data_mun['issuerNIF'] == '500051070']\\\n",
    ".groupby('supplierName').sum().sort_values('precoContratual',ascending=False).head(10)"
   ]
  },
  {
   "cell_type": "markdown",
   "metadata": {},
   "source": [
    "3. What are the top ten services in terms of value supplied to Lisbon?"
   ]
  },
  {
   "cell_type": "code",
   "execution_count": 42,
   "metadata": {},
   "outputs": [
    {
     "data": {
      "text/html": [
       "<div>\n",
       "<style scoped>\n",
       "    .dataframe tbody tr th:only-of-type {\n",
       "        vertical-align: middle;\n",
       "    }\n",
       "\n",
       "    .dataframe tbody tr th {\n",
       "        vertical-align: top;\n",
       "    }\n",
       "\n",
       "    .dataframe thead th {\n",
       "        text-align: right;\n",
       "    }\n",
       "</style>\n",
       "<table border=\"1\" class=\"dataframe\">\n",
       "  <thead>\n",
       "    <tr style=\"text-align: right;\">\n",
       "      <th></th>\n",
       "      <th>precoContratual</th>\n",
       "    </tr>\n",
       "    <tr>\n",
       "      <th>cpvDesc</th>\n",
       "      <th></th>\n",
       "    </tr>\n",
       "  </thead>\n",
       "  <tbody>\n",
       "    <tr>\n",
       "      <th>Construção de edifícios destinados à educação ou à investigação</th>\n",
       "      <td>17961497.84</td>\n",
       "    </tr>\n",
       "    <tr>\n",
       "      <th>Outros serviços</th>\n",
       "      <td>13960549.01</td>\n",
       "    </tr>\n",
       "    <tr>\n",
       "      <th>Trabalhos de paisagismo</th>\n",
       "      <td>10813002.25</td>\n",
       "    </tr>\n",
       "    <tr>\n",
       "      <th>Construção</th>\n",
       "      <td>10531445.24</td>\n",
       "    </tr>\n",
       "    <tr>\n",
       "      <th>Serviços de limpeza</th>\n",
       "      <td>10471798.04</td>\n",
       "    </tr>\n",
       "    <tr>\n",
       "      <th>Obras de recuperação</th>\n",
       "      <td>8148441.68</td>\n",
       "    </tr>\n",
       "    <tr>\n",
       "      <th>Serviços de vigilância</th>\n",
       "      <td>8109278.67</td>\n",
       "    </tr>\n",
       "    <tr>\n",
       "      <th>Construção de infantário</th>\n",
       "      <td>7849312.67</td>\n",
       "    </tr>\n",
       "    <tr>\n",
       "      <th>Construção de edifícios multifuncionais</th>\n",
       "      <td>6578226.59</td>\n",
       "    </tr>\n",
       "    <tr>\n",
       "      <th>Construção de instalações para ocupação de tempos livres</th>\n",
       "      <td>5530271.15</td>\n",
       "    </tr>\n",
       "  </tbody>\n",
       "</table>\n",
       "</div>"
      ],
      "text/plain": [
       "                                                    precoContratual\n",
       "cpvDesc                                                            \n",
       "Construção de edifícios destinados à educação o...      17961497.84\n",
       "Outros serviços                                         13960549.01\n",
       "Trabalhos de paisagismo                                 10813002.25\n",
       "Construção                                              10531445.24\n",
       "Serviços de limpeza                                     10471798.04\n",
       "Obras de recuperação                                     8148441.68\n",
       "Serviços de vigilância                                   8109278.67\n",
       "Construção de infantário                                 7849312.67\n",
       "Construção de edifícios multifuncionais                  6578226.59\n",
       "Construção de instalações para ocupação de temp...       5530271.15"
      ]
     },
     "execution_count": 42,
     "metadata": {},
     "output_type": "execute_result"
    }
   ],
   "source": [
    "data_mun[['cpvDesc', 'precoContratual']].loc[data_mun['issuerNIF'] == '500051070']\\\n",
    ".groupby('cpvDesc').sum().sort_values('precoContratual',ascending=False).head(10)"
   ]
  },
  {
   "cell_type": "markdown",
   "metadata": {},
   "source": [
    "4. <br>\n",
    "* 4.1. What is the most common `tipoprocedimento` of procurements issued by municipalities? <br>\n",
    "* 4.2 Create ranges for the procurement values. For each interval, estimate the most popular `tipoprocedimento`. What did you discover? <br>\n",
    "    __Remember to justify your intervals: Did you create intervals of equal observation frequency or intervals of equal range values?__"
   ]
  },
  {
   "cell_type": "code",
   "execution_count": 43,
   "metadata": {},
   "outputs": [
    {
     "data": {
      "text/html": [
       "<div>\n",
       "<style scoped>\n",
       "    .dataframe tbody tr th:only-of-type {\n",
       "        vertical-align: middle;\n",
       "    }\n",
       "\n",
       "    .dataframe tbody tr th {\n",
       "        vertical-align: top;\n",
       "    }\n",
       "\n",
       "    .dataframe thead th {\n",
       "        text-align: right;\n",
       "    }\n",
       "</style>\n",
       "<table border=\"1\" class=\"dataframe\">\n",
       "  <thead>\n",
       "    <tr style=\"text-align: right;\">\n",
       "      <th></th>\n",
       "      <th>idcontrato</th>\n",
       "    </tr>\n",
       "    <tr>\n",
       "      <th>tipoprocedimento</th>\n",
       "      <th></th>\n",
       "    </tr>\n",
       "  </thead>\n",
       "  <tbody>\n",
       "    <tr>\n",
       "      <th>Ajuste Direto Regime Geral</th>\n",
       "      <td>54883</td>\n",
       "    </tr>\n",
       "    <tr>\n",
       "      <th>Concurso público</th>\n",
       "      <td>5562</td>\n",
       "    </tr>\n",
       "    <tr>\n",
       "      <th>Ao abrigo de acordo-quadro (art.º 258.º)</th>\n",
       "      <td>381</td>\n",
       "    </tr>\n",
       "    <tr>\n",
       "      <th>Ao abrigo de acordo-quadro (art.º 259.º)</th>\n",
       "      <td>288</td>\n",
       "    </tr>\n",
       "    <tr>\n",
       "      <th>Concurso limitado por prévia qualificação</th>\n",
       "      <td>51</td>\n",
       "    </tr>\n",
       "  </tbody>\n",
       "</table>\n",
       "</div>"
      ],
      "text/plain": [
       "                                           idcontrato\n",
       "tipoprocedimento                                     \n",
       "Ajuste Direto Regime Geral                      54883\n",
       "Concurso público                                 5562\n",
       "Ao abrigo de acordo-quadro (art.º 258.º)          381\n",
       "Ao abrigo de acordo-quadro (art.º 259.º)          288\n",
       "Concurso limitado por prévia qualificação          51"
      ]
     },
     "execution_count": 43,
     "metadata": {},
     "output_type": "execute_result"
    }
   ],
   "source": [
    "# 4.1 most common type of procedure:\n",
    "data_mun[['idcontrato', 'tipoprocedimento']].drop_duplicates()\\\n",
    ".groupby('tipoprocedimento').count().sort_values('idcontrato', ascending = False)"
   ]
  },
  {
   "cell_type": "code",
   "execution_count": 44,
   "metadata": {},
   "outputs": [
    {
     "data": {
      "text/html": [
       "<div>\n",
       "<style scoped>\n",
       "    .dataframe tbody tr th:only-of-type {\n",
       "        vertical-align: middle;\n",
       "    }\n",
       "\n",
       "    .dataframe tbody tr th {\n",
       "        vertical-align: top;\n",
       "    }\n",
       "\n",
       "    .dataframe thead th {\n",
       "        text-align: right;\n",
       "    }\n",
       "</style>\n",
       "<table border=\"1\" class=\"dataframe\">\n",
       "  <thead>\n",
       "    <tr style=\"text-align: right;\">\n",
       "      <th></th>\n",
       "      <th>precoContratual</th>\n",
       "    </tr>\n",
       "    <tr>\n",
       "      <th>tipoprocedimento</th>\n",
       "      <th></th>\n",
       "    </tr>\n",
       "  </thead>\n",
       "  <tbody>\n",
       "    <tr>\n",
       "      <th>Concurso público</th>\n",
       "      <td>1.695855e+09</td>\n",
       "    </tr>\n",
       "    <tr>\n",
       "      <th>Ajuste Direto Regime Geral</th>\n",
       "      <td>1.573006e+09</td>\n",
       "    </tr>\n",
       "    <tr>\n",
       "      <th>Ao abrigo de acordo-quadro (art.º 258.º)</th>\n",
       "      <td>6.359086e+07</td>\n",
       "    </tr>\n",
       "    <tr>\n",
       "      <th>Ao abrigo de acordo-quadro (art.º 259.º)</th>\n",
       "      <td>5.322314e+07</td>\n",
       "    </tr>\n",
       "    <tr>\n",
       "      <th>Concurso limitado por prévia qualificação</th>\n",
       "      <td>4.770656e+07</td>\n",
       "    </tr>\n",
       "  </tbody>\n",
       "</table>\n",
       "</div>"
      ],
      "text/plain": [
       "                                           precoContratual\n",
       "tipoprocedimento                                          \n",
       "Concurso público                              1.695855e+09\n",
       "Ajuste Direto Regime Geral                    1.573006e+09\n",
       "Ao abrigo de acordo-quadro (art.º 258.º)      6.359086e+07\n",
       "Ao abrigo de acordo-quadro (art.º 259.º)      5.322314e+07\n",
       "Concurso limitado por prévia qualificação     4.770656e+07"
      ]
     },
     "execution_count": 44,
     "metadata": {},
     "output_type": "execute_result"
    }
   ],
   "source": [
    "# we see that the most frequent type of contract is not the one that represents the largest volume of expenditure \n",
    "# by municipalities\n",
    "# This indication is that the average value of the Concurso Público type contract must be greater than the average value of the\n",
    "# Ajuste Direito Regime Geral type\n",
    "\n",
    "data_mun[['precoContratual', 'tipoprocedimento']]\\\n",
    ".groupby('tipoprocedimento').sum().sort_values('precoContratual', ascending = False)"
   ]
  },
  {
   "cell_type": "code",
   "execution_count": 45,
   "metadata": {},
   "outputs": [
    {
     "data": {
      "text/html": [
       "<div>\n",
       "<style scoped>\n",
       "    .dataframe tbody tr th:only-of-type {\n",
       "        vertical-align: middle;\n",
       "    }\n",
       "\n",
       "    .dataframe tbody tr th {\n",
       "        vertical-align: top;\n",
       "    }\n",
       "\n",
       "    .dataframe thead th {\n",
       "        text-align: right;\n",
       "    }\n",
       "</style>\n",
       "<table border=\"1\" class=\"dataframe\">\n",
       "  <thead>\n",
       "    <tr style=\"text-align: right;\">\n",
       "      <th></th>\n",
       "      <th>tipoprocedimento</th>\n",
       "      <th>precoContratual</th>\n",
       "    </tr>\n",
       "    <tr>\n",
       "      <th>idcontrato</th>\n",
       "      <th></th>\n",
       "      <th></th>\n",
       "    </tr>\n",
       "  </thead>\n",
       "  <tbody>\n",
       "    <tr>\n",
       "      <th>170263</th>\n",
       "      <td>Ajuste Direto Regime Geral</td>\n",
       "      <td>149351.24</td>\n",
       "    </tr>\n",
       "    <tr>\n",
       "      <th>202781</th>\n",
       "      <td>Ajuste Direto Regime Geral</td>\n",
       "      <td>120629.30</td>\n",
       "    </tr>\n",
       "    <tr>\n",
       "      <th>204089</th>\n",
       "      <td>Ajuste Direto Regime Geral</td>\n",
       "      <td>12345.65</td>\n",
       "    </tr>\n",
       "    <tr>\n",
       "      <th>251273</th>\n",
       "      <td>Ajuste Direto Regime Geral</td>\n",
       "      <td>21640.87</td>\n",
       "    </tr>\n",
       "    <tr>\n",
       "      <th>297286</th>\n",
       "      <td>Ajuste Direto Regime Geral</td>\n",
       "      <td>46890.80</td>\n",
       "    </tr>\n",
       "    <tr>\n",
       "      <th>...</th>\n",
       "      <td>...</td>\n",
       "      <td>...</td>\n",
       "    </tr>\n",
       "    <tr>\n",
       "      <th>4976992</th>\n",
       "      <td>Concurso público</td>\n",
       "      <td>228413.39</td>\n",
       "    </tr>\n",
       "    <tr>\n",
       "      <th>5036432</th>\n",
       "      <td>Concurso público</td>\n",
       "      <td>167000.00</td>\n",
       "    </tr>\n",
       "    <tr>\n",
       "      <th>5040451</th>\n",
       "      <td>Concurso público</td>\n",
       "      <td>143712.66</td>\n",
       "    </tr>\n",
       "    <tr>\n",
       "      <th>5235186</th>\n",
       "      <td>Concurso público</td>\n",
       "      <td>3395000.00</td>\n",
       "    </tr>\n",
       "    <tr>\n",
       "      <th>5337660</th>\n",
       "      <td>Concurso público</td>\n",
       "      <td>77346.70</td>\n",
       "    </tr>\n",
       "  </tbody>\n",
       "</table>\n",
       "<p>61165 rows × 2 columns</p>\n",
       "</div>"
      ],
      "text/plain": [
       "                      tipoprocedimento  precoContratual\n",
       "idcontrato                                             \n",
       "170263      Ajuste Direto Regime Geral        149351.24\n",
       "202781      Ajuste Direto Regime Geral        120629.30\n",
       "204089      Ajuste Direto Regime Geral         12345.65\n",
       "251273      Ajuste Direto Regime Geral         21640.87\n",
       "297286      Ajuste Direto Regime Geral         46890.80\n",
       "...                                ...              ...\n",
       "4976992               Concurso público        228413.39\n",
       "5036432               Concurso público        167000.00\n",
       "5040451               Concurso público        143712.66\n",
       "5235186               Concurso público       3395000.00\n",
       "5337660               Concurso público         77346.70\n",
       "\n",
       "[61165 rows x 2 columns]"
      ]
     },
     "execution_count": 45,
     "metadata": {},
     "output_type": "execute_result"
    }
   ],
   "source": [
    "#4.2 Distribution of Procedure Types by Contract Values\n",
    "plot = data_mun[['idcontrato','precoContratual', 'tipoprocedimento']]\\\n",
    ".groupby(['tipoprocedimento','idcontrato'], as_index = False).sum().set_index('idcontrato')\n",
    "plot"
   ]
  },
  {
   "cell_type": "code",
   "execution_count": 46,
   "metadata": {},
   "outputs": [
    {
     "data": {
      "image/png": "[encoded data removed]",
      "text/plain": [
       "<Figure size 1296x720 with 2 Axes>"
      ]
     },
     "metadata": {
      "needs_background": "light"
     },
     "output_type": "display_data"
    }
   ],
   "source": [
    "fig, ax = plt.subplots(2, figsize = (18,10), sharey = True)\n",
    "\n",
    "sns.histplot(ax = ax[0], data = plot.loc[plot['tipoprocedimento'] == 'Ajuste Direto Regime Geral'], bins = 100)\n",
    "sns.histplot(ax = ax[1], data = plot.loc[plot['tipoprocedimento'] == 'Concurso público'], bins = 100)\n",
    "#sns.histplot(ax = ax[1,0], data = plot.loc[plot['tipoprocedimento'] == 'Ao abrigo de acordo-quadro (art.º 258.º)'], bins = 100)\n",
    "#sns.histplot(ax = ax[1,1], data = plot.loc[plot['tipoprocedimento'] == 'Ao abrigo de acordo-quadro (art.º 259.º)'], bins = 100)\n",
    "#sns.histplot(ax = ax[2,0], data = plot.loc[plot['tipoprocedimento'] == 'Concurso limitado por prévia qualificação'], bins = 100)\n",
    "\n",
    "xmin, xmax = ax[1].get_xlim()\n",
    "ax[0].set_xlim(xmin, xmax)\n",
    "\n",
    "\n",
    "plt.gca().set_yscale(\"log\")"
   ]
  },
  {
   "cell_type": "code",
   "execution_count": 47,
   "metadata": {},
   "outputs": [
    {
     "data": {
      "image/png": "[encoded data removed]",
      "text/plain": [
       "<Figure size 1296x1080 with 3 Axes>"
      ]
     },
     "metadata": {
      "needs_background": "light"
     },
     "output_type": "display_data"
    }
   ],
   "source": [
    "fig, ax = plt.subplots(3, figsize = (18,15), sharey = True)\n",
    "\n",
    "#sns.histplot(ax = ax[0], data = plot.loc[plot['tipoprocedimento'] == 'Ajuste Direto Regime Geral'], bins = 100)\n",
    "#sns.histplot(ax = ax[1], data = plot.loc[plot['tipoprocedimento'] == 'Concurso público'], bins = 100)\n",
    "sns.histplot(ax = ax[0], data = plot.loc[plot['tipoprocedimento'] == 'Ao abrigo de acordo-quadro (art.º 258.º)'], bins = 100)\n",
    "sns.histplot(ax = ax[1], data = plot.loc[plot['tipoprocedimento'] == 'Ao abrigo de acordo-quadro (art.º 259.º)'], bins = 100)\n",
    "sns.histplot(ax = ax[2], data = plot.loc[plot['tipoprocedimento'] == 'Concurso limitado por prévia qualificação'], bins = 100)\n",
    "\n",
    "xmin, xmax = ax[2].get_xlim()\n",
    "ax[0].set_xlim(xmin, xmax)\n",
    "ax[1].set_xlim(xmin, xmax)\n",
    "\n",
    "plt.gca().set_yscale(\"log\")"
   ]
  },
  {
   "cell_type": "markdown",
   "metadata": {},
   "source": [
    "__Answers:__ <br>\n",
    "<div class=\"alert alert-block alert-info\">\n",
    "<b>Question 1 a 3:</b> They were answered in the respective codes above. Refer to the outputs of the respective codes for further details.\n",
    "<br>\n",
    "<br>\n",
    "<b>Question 4:</b> The types of procedure most requested by municipalities are as follows:\n",
    "<ul>\n",
    "    <li>Ajuste Direto Regime Geral: 54.883 times\n",
    "    <li>Concurso público: 5562 times\n",
    "    <li>Ao abrigo de acordo-quadro (art.º 258.º): 381 times\n",
    "    <li>Ao abrigo de acordo-quadro (art.º 259.º): 288 times\n",
    "    <li>Concurso limitado por prévia qualificação: 51 times\n",
    "<br>\n",
    " To analyze the distribution of contract prices, we chose to use a histogram chart from the seaborn library. Although using the .cut() function it was possible to perform the same analysis, plotting by seaborn is the fastest and most visual way to analyze the data. Seaborn automatically distributes the bins over ranges of constant values, and using the same scale of values on the x and y axis, the comparison between the distributions becomes fair.       \n",
    "We note that the first two types of contract have the largest range of values (up to 5 million euros), while the others have lower average values (except for outliers, up to 1 million euros). Although contracts of the Ajuste Direto Regime Geral contract type are approximately 10x more frequent, by distributing the contract values we see that most of them are concentrated in contracts of lower value. The distribution of contracts of the Concurso Público type is 'wider', showing that the average value of contracts is actually higher than that of the Direct Adjustment General Regime type contracts.\n",
    "When we look at the other types of contracts (Ao abrigo de acordo-quadro (art.º 258.º), Ao abrigo de acordo-quadro (art.º 259.º) e Concurso limitado por prévia qualificação) we see a similar distribution between them , indicating contracts with average prices very close to each other. It is also evident that the contract of the type Concurso limitado por prévia qualificação is much less frequent than the others\n",
    "</div>"
   ]
  },
  {
   "cell_type": "markdown",
   "metadata": {},
   "source": [
    "---"
   ]
  },
  {
   "cell_type": "markdown",
   "metadata": {},
   "source": [
    "<b>[Step 6. | 4 points ]</b> <br>\n",
    "Next, and in the spirit of a vast scientific literature on Urban Scaling Laws (https://tinyurl.com/y8ohmzx7), let us investigate the relationship between the number and value of procurements issued by municipalities and their population size.\n",
    "\n",
    "To that end we will need to download and load an additional data file that includes the population size of each municipality. You can find the population data for download on Moodle. This dataset was obtained from the portal pordata. As is the case in many data science projects we don't have a perfect matching key between the population data and the procurement data we have been working so far. \n",
    "\n",
    "1. Download the file `popsize.csv` from Moodle and load it to a dataframe. Explore the dataframe and explain how can you link this data to the municipalities procurement data."
   ]
  },
  {
   "cell_type": "code",
   "execution_count": 37,
   "metadata": {},
   "outputs": [],
   "source": [
    "# importing popsize dataset, and converting the field \"population\" to a numeric value\n",
    "popsize = pd.read_csv(r'.\\DATA\\popsize.csv', delimiter = ';')\n",
    "popsize['Population'] = popsize['Population'].str.replace(\" \",\"\").astype(float)"
   ]
  },
  {
   "cell_type": "code",
   "execution_count": 38,
   "metadata": {},
   "outputs": [
    {
     "name": "stdout",
     "output_type": "stream",
     "text": [
      "<class 'pandas.core.frame.DataFrame'>\n",
      "RangeIndex: 308 entries, 0 to 307\n",
      "Data columns (total 2 columns):\n",
      " #   Column      Non-Null Count  Dtype  \n",
      "---  ------      --------------  -----  \n",
      " 0   Location    308 non-null    object \n",
      " 1   Population  308 non-null    float64\n",
      "dtypes: float64(1), object(1)\n",
      "memory usage: 4.9+ KB\n"
     ]
    }
   ],
   "source": [
    "popsize.info()"
   ]
  },
  {
   "cell_type": "code",
   "execution_count": 39,
   "metadata": {},
   "outputs": [],
   "source": [
    "# Clearing the Municipality column, to use it as a key to add population values to the dataset\n",
    "# Renaming the Location field in the popsize dataframe to use it as a key\n",
    "\n",
    "data_mun['Municipality'] = data_mun['Municipality'].str[13:].str.strip()\n",
    "popsize.rename({'Location':'Municipality'}, axis = 1, inplace = True)"
   ]
  },
  {
   "cell_type": "code",
   "execution_count": 40,
   "metadata": {},
   "outputs": [
    {
     "data": {
      "text/plain": [
       "Coruche – Câmara Municipal    268\n",
       "Vila Velha de Rádío           215\n",
       "Lagoa - Açores                116\n",
       "Calheta                        77\n",
       "Praia da Vitória               45\n",
       "Castanheira de Pera            30\n",
       "Calheta São Jorge               9\n",
       "Name: Municipality, dtype: int64"
      ]
     },
     "execution_count": 40,
     "metadata": {},
     "output_type": "execute_result"
    }
   ],
   "source": [
    "# Using how = 'left', we guarantee that we will not lose any records in the source dataset\n",
    "# The fields where data_mun['Population'].isna() == True, are the municipalities not found in popsize\n",
    "\n",
    "data_mun = pd.merge(data_mun, popsize, on = 'Municipality', how = 'left')\n",
    "data_mun['Municipality'].loc[data_mun['Population'].isna()].value_counts()"
   ]
  },
  {
   "cell_type": "code",
   "execution_count": 41,
   "metadata": {},
   "outputs": [
    {
     "data": {
      "text/plain": [
       "Calheta [R.A.M.]            1\n",
       "Vila da Praia da Vitória    1\n",
       "Coruche                     1\n",
       "Calheta [R.A.A.]            1\n",
       "Vila Velha de Ródão         1\n",
       "Lagoa [R.A.A.]              1\n",
       "Castanheira de Pêra         1\n",
       "Name: Municipality, dtype: int64"
      ]
     },
     "execution_count": 41,
     "metadata": {},
     "output_type": "execute_result"
    }
   ],
   "source": [
    "# In the opposite way, we check which counties are in popsize but not in data_mun:\n",
    "\n",
    "popsize = pd.merge(popsize, data_mun[['Municipality', 'idcontrato']], on = 'Municipality', how = 'left')\n",
    "popsize['Municipality'].loc[popsize['idcontrato'].isna()].value_counts()"
   ]
  },
  {
   "cell_type": "code",
   "execution_count": 42,
   "metadata": {},
   "outputs": [],
   "source": [
    "# Note that there is an equivalence between the values not found.\n",
    "# Renaming the values to popsize and trying the merge again:\n",
    "\n",
    "popsize[\"Municipality\"].replace({'Calheta [R.A.M.]':'Calheta', \n",
    "                                 'Castanheira de Pêra':'Castanheira de Pera', \n",
    "                                 'Calheta [R.A.A.]':'Calheta São Jorge', \n",
    "                                 'Vila da Praia da Vitória':'Praia da Vitória', \n",
    "                                 'Vila Velha de Ródão':'Vila Velha de Rádío', \n",
    "                                 'Coruche':'Coruche – Câmara Municipal', \n",
    "                                 'Lagoa [R.A.A.]':'Lagoa - Açores'\n",
    "                                }, inplace=True)\n",
    "popsize.drop(['idcontrato'], axis = 1, inplace = True)\n",
    "popsize.drop_duplicates(inplace = True)"
   ]
  },
  {
   "cell_type": "code",
   "execution_count": 43,
   "metadata": {
    "scrolled": true
   },
   "outputs": [
    {
     "data": {
      "text/plain": [
       "Series([], Name: Municipality, dtype: int64)"
      ]
     },
     "execution_count": 43,
     "metadata": {},
     "output_type": "execute_result"
    }
   ],
   "source": [
    "# trying merge again, now all counties have popsize.\n",
    "\n",
    "data_mun.drop('Population', axis = 1, inplace = True)\n",
    "data_mun = pd.merge(data_mun, popsize, on = 'Municipality', how = 'left')\n",
    "data_mun['Municipality'].loc[data_mun['Population'].isna()].value_counts()\n"
   ]
  },
  {
   "cell_type": "markdown",
   "metadata": {},
   "source": [
    "Discussion:"
   ]
  },
  {
   "cell_type": "markdown",
   "metadata": {},
   "source": [
    "2. Create a new dataframe in which contracts are aggregated by municipality. You should have a dataframe in which the columns correspond to: NIF; Municipality Name; Population Size; Number of Issued Procurements; Total Value of Issued Procurements. Note you will have to merge at least two dataframes, and apply several aggregations."
   ]
  },
  {
   "cell_type": "code",
   "execution_count": 44,
   "metadata": {
    "scrolled": true
   },
   "outputs": [],
   "source": [
    "# the code below confirms that the NIF and Municipality ratio is 1:1:\n",
    "data_mun[['Municipality', 'issuerNIF']].drop_duplicates()\n",
    "\n",
    "#table where the information will be added:\n",
    "data_new = data_mun[['issuerNIF', 'Municipality', 'Population']].drop_duplicates()\n",
    "\n",
    "# # of contracts issued, aggregated by NIF:\n",
    "qtd_contrato = data_mun[['issuerNIF', 'idcontrato']].groupby('issuerNIF', as_index = False).count()\n",
    "\n",
    "# $ of issued contracts, aggregated by NIF:\n",
    "total_contrato = data_mun[['issuerNIF', 'precoContratual']].groupby('issuerNIF', as_index = False).sum()\n",
    "\n",
    "# combining all information:\n",
    "data_new = pd.merge(data_new, qtd_contrato, on = 'issuerNIF')\n",
    "data_new = pd.merge(data_new, total_contrato, on = 'issuerNIF')\n"
   ]
  },
  {
   "cell_type": "code",
   "execution_count": 45,
   "metadata": {},
   "outputs": [
    {
     "data": {
      "text/html": [
       "<div>\n",
       "<style scoped>\n",
       "    .dataframe tbody tr th:only-of-type {\n",
       "        vertical-align: middle;\n",
       "    }\n",
       "\n",
       "    .dataframe tbody tr th {\n",
       "        vertical-align: top;\n",
       "    }\n",
       "\n",
       "    .dataframe thead th {\n",
       "        text-align: right;\n",
       "    }\n",
       "</style>\n",
       "<table border=\"1\" class=\"dataframe\">\n",
       "  <thead>\n",
       "    <tr style=\"text-align: right;\">\n",
       "      <th></th>\n",
       "      <th>0</th>\n",
       "      <th>1</th>\n",
       "      <th>2</th>\n",
       "      <th>3</th>\n",
       "      <th>4</th>\n",
       "      <th>5</th>\n",
       "      <th>6</th>\n",
       "      <th>7</th>\n",
       "      <th>8</th>\n",
       "      <th>9</th>\n",
       "      <th>...</th>\n",
       "      <th>298</th>\n",
       "      <th>299</th>\n",
       "      <th>300</th>\n",
       "      <th>301</th>\n",
       "      <th>302</th>\n",
       "      <th>303</th>\n",
       "      <th>304</th>\n",
       "      <th>305</th>\n",
       "      <th>306</th>\n",
       "      <th>307</th>\n",
       "    </tr>\n",
       "  </thead>\n",
       "  <tbody>\n",
       "    <tr>\n",
       "      <th>issuerNIF</th>\n",
       "      <td>506579425</td>\n",
       "      <td>506415082</td>\n",
       "      <td>506187543</td>\n",
       "      <td>506215695</td>\n",
       "      <td>505181266</td>\n",
       "      <td>501272976</td>\n",
       "      <td>500051070</td>\n",
       "      <td>501143718</td>\n",
       "      <td>501170162</td>\n",
       "      <td>506810267</td>\n",
       "      <td>...</td>\n",
       "      <td>512079110</td>\n",
       "      <td>506849635</td>\n",
       "      <td>504828576</td>\n",
       "      <td>506796035</td>\n",
       "      <td>511240112</td>\n",
       "      <td>511235461</td>\n",
       "      <td>501305564</td>\n",
       "      <td>506884937</td>\n",
       "      <td>505371600</td>\n",
       "      <td>512065047</td>\n",
       "    </tr>\n",
       "    <tr>\n",
       "      <th>Municipality</th>\n",
       "      <td>Faro</td>\n",
       "      <td>Coimbra</td>\n",
       "      <td>Palmela</td>\n",
       "      <td>Fundão</td>\n",
       "      <td>Leiria</td>\n",
       "      <td>Montemor-o-Velho</td>\n",
       "      <td>Lisboa</td>\n",
       "      <td>Portalegre</td>\n",
       "      <td>Marvão</td>\n",
       "      <td>Vila Pouca de Aguiar</td>\n",
       "      <td>...</td>\n",
       "      <td>Santa Cruz das Flores</td>\n",
       "      <td>Celorico da Beira</td>\n",
       "      <td>Évora</td>\n",
       "      <td>Castelo de Vide</td>\n",
       "      <td>São Vicente</td>\n",
       "      <td>Ponta do Sol</td>\n",
       "      <td>Chamusca</td>\n",
       "      <td>Freixo de Espada à Cinta</td>\n",
       "      <td>Vila Nova de Poiares</td>\n",
       "      <td>Povoação</td>\n",
       "    </tr>\n",
       "    <tr>\n",
       "      <th>Population</th>\n",
       "      <td>62015.0</td>\n",
       "      <td>138058.0</td>\n",
       "      <td>63723.0</td>\n",
       "      <td>28380.0</td>\n",
       "      <td>126163.0</td>\n",
       "      <td>25980.0</td>\n",
       "      <td>520549.0</td>\n",
       "      <td>24073.0</td>\n",
       "      <td>3402.0</td>\n",
       "      <td>12819.0</td>\n",
       "      <td>...</td>\n",
       "      <td>2248.0</td>\n",
       "      <td>7458.0</td>\n",
       "      <td>55339.0</td>\n",
       "      <td>3273.0</td>\n",
       "      <td>5467.0</td>\n",
       "      <td>8793.0</td>\n",
       "      <td>9924.0</td>\n",
       "      <td>3650.0</td>\n",
       "      <td>7174.0</td>\n",
       "      <td>6227.0</td>\n",
       "    </tr>\n",
       "    <tr>\n",
       "      <th>idcontrato</th>\n",
       "      <td>177</td>\n",
       "      <td>575</td>\n",
       "      <td>270</td>\n",
       "      <td>200</td>\n",
       "      <td>399</td>\n",
       "      <td>171</td>\n",
       "      <td>2944</td>\n",
       "      <td>81</td>\n",
       "      <td>117</td>\n",
       "      <td>232</td>\n",
       "      <td>...</td>\n",
       "      <td>28</td>\n",
       "      <td>39</td>\n",
       "      <td>120</td>\n",
       "      <td>84</td>\n",
       "      <td>18</td>\n",
       "      <td>58</td>\n",
       "      <td>44</td>\n",
       "      <td>37</td>\n",
       "      <td>25</td>\n",
       "      <td>9</td>\n",
       "    </tr>\n",
       "    <tr>\n",
       "      <th>precoContratual</th>\n",
       "      <td>6844588.9408</td>\n",
       "      <td>33819725.85</td>\n",
       "      <td>14178133.21</td>\n",
       "      <td>15356062.84</td>\n",
       "      <td>29399018.4</td>\n",
       "      <td>10986753.33</td>\n",
       "      <td>224829036.586999</td>\n",
       "      <td>3550364.11</td>\n",
       "      <td>4188900.76</td>\n",
       "      <td>18289195.71</td>\n",
       "      <td>...</td>\n",
       "      <td>3630503.21</td>\n",
       "      <td>2744207.21</td>\n",
       "      <td>5340115.03</td>\n",
       "      <td>3824827.54</td>\n",
       "      <td>385482.85</td>\n",
       "      <td>1616352.84</td>\n",
       "      <td>3261138.4</td>\n",
       "      <td>1682017.252423</td>\n",
       "      <td>1148986.004286</td>\n",
       "      <td>1373981.43</td>\n",
       "    </tr>\n",
       "  </tbody>\n",
       "</table>\n",
       "<p>5 rows × 308 columns</p>\n",
       "</div>"
      ],
      "text/plain": [
       "                          0            1            2            3    \\\n",
       "issuerNIF           506579425    506415082    506187543    506215695   \n",
       "Municipality             Faro      Coimbra      Palmela       Fundão   \n",
       "Population            62015.0     138058.0      63723.0      28380.0   \n",
       "idcontrato                177          575          270          200   \n",
       "precoContratual  6844588.9408  33819725.85  14178133.21  15356062.84   \n",
       "\n",
       "                        4                 5                 6           7    \\\n",
       "issuerNIF         505181266         501272976         500051070   501143718   \n",
       "Municipality         Leiria  Montemor-o-Velho            Lisboa  Portalegre   \n",
       "Population         126163.0           25980.0          520549.0     24073.0   \n",
       "idcontrato              399               171              2944          81   \n",
       "precoContratual  29399018.4       10986753.33  224829036.586999  3550364.11   \n",
       "\n",
       "                        8                     9    ...                    298  \\\n",
       "issuerNIF         501170162             506810267  ...              512079110   \n",
       "Municipality         Marvão  Vila Pouca de Aguiar  ...  Santa Cruz das Flores   \n",
       "Population           3402.0               12819.0  ...                 2248.0   \n",
       "idcontrato              117                   232  ...                     28   \n",
       "precoContratual  4188900.76           18289195.71  ...             3630503.21   \n",
       "\n",
       "                               299         300              301          302  \\\n",
       "issuerNIF                506849635   504828576        506796035    511240112   \n",
       "Municipality     Celorico da Beira       Évora  Castelo de Vide  São Vicente   \n",
       "Population                  7458.0     55339.0           3273.0       5467.0   \n",
       "idcontrato                      39         120               84           18   \n",
       "precoContratual         2744207.21  5340115.03       3824827.54    385482.85   \n",
       "\n",
       "                          303        304                       305  \\\n",
       "issuerNIF           511235461  501305564                 506884937   \n",
       "Municipality     Ponta do Sol   Chamusca  Freixo de Espada à Cinta   \n",
       "Population             8793.0     9924.0                    3650.0   \n",
       "idcontrato                 58         44                        37   \n",
       "precoContratual    1616352.84  3261138.4            1682017.252423   \n",
       "\n",
       "                                  306         307  \n",
       "issuerNIF                   505371600   512065047  \n",
       "Municipality     Vila Nova de Poiares    Povoação  \n",
       "Population                     7174.0      6227.0  \n",
       "idcontrato                         25           9  \n",
       "precoContratual        1148986.004286  1373981.43  \n",
       "\n",
       "[5 rows x 308 columns]"
      ]
     },
     "execution_count": 45,
     "metadata": {},
     "output_type": "execute_result"
    }
   ],
   "source": [
    "data_new.T"
   ]
  },
  {
   "cell_type": "markdown",
   "metadata": {},
   "source": [
    "3. It is common to compare not the absolute values of the different dimensions but their Logarithm. In that sense, create three new columns in your dataframe that correspond to the Logarithm base 10 of the Total Value of Issued Procurements; Number of Issued Procurements; and Population Size."
   ]
  },
  {
   "cell_type": "code",
   "execution_count": 46,
   "metadata": {},
   "outputs": [],
   "source": [
    "data_new['precoContratual_log'] = data_new['precoContratual'].apply(np.log10)\n",
    "data_new['idcontrato_log'] = data_new['idcontrato'].apply(np.log10)\n",
    "data_new['Population_log'] = data_new['Population'].apply(np.log10)"
   ]
  },
  {
   "cell_type": "markdown",
   "metadata": {},
   "source": [
    "4. Compute the pearson correlation between the municipalities Log of the Population Size with \n",
    "* i) the Log of Total Number of Issued Procurements and \n",
    "* ii) the Log of the Total Value of Issued Procurements. Use the columns you pre computed in the previous question. Make a scatteer plot for each relationship to assess the identified relationship."
   ]
  },
  {
   "cell_type": "code",
   "execution_count": 58,
   "metadata": {
    "scrolled": true
   },
   "outputs": [
    {
     "data": {
      "text/html": [
       "<div>\n",
       "<style scoped>\n",
       "    .dataframe tbody tr th:only-of-type {\n",
       "        vertical-align: middle;\n",
       "    }\n",
       "\n",
       "    .dataframe tbody tr th {\n",
       "        vertical-align: top;\n",
       "    }\n",
       "\n",
       "    .dataframe thead th {\n",
       "        text-align: right;\n",
       "    }\n",
       "</style>\n",
       "<table border=\"1\" class=\"dataframe\">\n",
       "  <thead>\n",
       "    <tr style=\"text-align: right;\">\n",
       "      <th></th>\n",
       "      <th>Population_log</th>\n",
       "      <th>idcontrato_log</th>\n",
       "    </tr>\n",
       "  </thead>\n",
       "  <tbody>\n",
       "    <tr>\n",
       "      <th>Population_log</th>\n",
       "      <td>1.000000</td>\n",
       "      <td>0.699587</td>\n",
       "    </tr>\n",
       "    <tr>\n",
       "      <th>idcontrato_log</th>\n",
       "      <td>0.699587</td>\n",
       "      <td>1.000000</td>\n",
       "    </tr>\n",
       "  </tbody>\n",
       "</table>\n",
       "</div>"
      ],
      "text/plain": [
       "                Population_log  idcontrato_log\n",
       "Population_log        1.000000        0.699587\n",
       "idcontrato_log        0.699587        1.000000"
      ]
     },
     "execution_count": 58,
     "metadata": {},
     "output_type": "execute_result"
    }
   ],
   "source": [
    "# the Population variable and qty id contract are strongly correlated (coefficient 0.7)\n",
    "\n",
    "data_new[['Population_log','idcontrato_log']].corr(method='pearson', )"
   ]
  },
  {
   "cell_type": "code",
   "execution_count": 59,
   "metadata": {},
   "outputs": [
    {
     "data": {
      "text/plain": [
       "<AxesSubplot:xlabel='Population_log', ylabel='idcontrato_log'>"
      ]
     },
     "execution_count": 59,
     "metadata": {},
     "output_type": "execute_result"
    },
    {
     "data": {
      "image/png": "[encoded data removed]",
      "text/plain": [
       "<Figure size 432x288 with 1 Axes>"
      ]
     },
     "metadata": {
      "needs_background": "light"
     },
     "output_type": "display_data"
    }
   ],
   "source": [
    "# scatterplot of the two variables:\n",
    "sns.scatterplot(data = data_new[['Population_log','idcontrato_log']], x = 'Population_log', y = 'idcontrato_log')"
   ]
  },
  {
   "cell_type": "code",
   "execution_count": 60,
   "metadata": {},
   "outputs": [
    {
     "data": {
      "text/html": [
       "<div>\n",
       "<style scoped>\n",
       "    .dataframe tbody tr th:only-of-type {\n",
       "        vertical-align: middle;\n",
       "    }\n",
       "\n",
       "    .dataframe tbody tr th {\n",
       "        vertical-align: top;\n",
       "    }\n",
       "\n",
       "    .dataframe thead th {\n",
       "        text-align: right;\n",
       "    }\n",
       "</style>\n",
       "<table border=\"1\" class=\"dataframe\">\n",
       "  <thead>\n",
       "    <tr style=\"text-align: right;\">\n",
       "      <th></th>\n",
       "      <th>Population_log</th>\n",
       "      <th>precoContratual_log</th>\n",
       "    </tr>\n",
       "  </thead>\n",
       "  <tbody>\n",
       "    <tr>\n",
       "      <th>Population_log</th>\n",
       "      <td>1.000000</td>\n",
       "      <td>0.770234</td>\n",
       "    </tr>\n",
       "    <tr>\n",
       "      <th>precoContratual_log</th>\n",
       "      <td>0.770234</td>\n",
       "      <td>1.000000</td>\n",
       "    </tr>\n",
       "  </tbody>\n",
       "</table>\n",
       "</div>"
      ],
      "text/plain": [
       "                     Population_log  precoContratual_log\n",
       "Population_log             1.000000             0.770234\n",
       "precoContratual_log        0.770234             1.000000"
      ]
     },
     "execution_count": 60,
     "metadata": {},
     "output_type": "execute_result"
    }
   ],
   "source": [
    "# population and contract price are also strongly correlated (coefficient of 0.77)\n",
    "data_new[['Population_log', 'precoContratual_log']].corr(method='pearson', )"
   ]
  },
  {
   "cell_type": "code",
   "execution_count": 61,
   "metadata": {},
   "outputs": [
    {
     "data": {
      "text/plain": [
       "<AxesSubplot:xlabel='Population_log', ylabel='precoContratual_log'>"
      ]
     },
     "execution_count": 61,
     "metadata": {},
     "output_type": "execute_result"
    },
    {
     "data": {
      "image/png": "[encoded data removed]",
      "text/plain": [
       "<Figure size 432x288 with 1 Axes>"
      ]
     },
     "metadata": {
      "needs_background": "light"
     },
     "output_type": "display_data"
    }
   ],
   "source": [
    "# scatterplot of the two variables\n",
    "sns.scatterplot(data = data_new[['Population_log','precoContratual_log']], x = 'Population_log', y = 'precoContratual_log')"
   ]
  },
  {
   "cell_type": "markdown",
   "metadata": {},
   "source": [
    "5. Can you build a linear model using the library Statsmodel that regresses the logarithm of the Total Value of issued procurements as a funcion of the logarithm of the population size? What is the coefficient that you find?"
   ]
  },
  {
   "cell_type": "code",
   "execution_count": 62,
   "metadata": {},
   "outputs": [
    {
     "name": "stdout",
     "output_type": "stream",
     "text": [
      "                             OLS Regression Results                            \n",
      "===============================================================================\n",
      "Dep. Variable:     precoContratual_log   R-squared:                       0.593\n",
      "Model:                             OLS   Adj. R-squared:                  0.592\n",
      "Method:                  Least Squares   F-statistic:                     446.3\n",
      "Date:                 Sun, 30 May 2021   Prob (F-statistic):           9.92e-62\n",
      "Time:                         16:34:17   Log-Likelihood:                -37.256\n",
      "No. Observations:                  308   AIC:                             78.51\n",
      "Df Residuals:                      306   BIC:                             85.97\n",
      "Df Model:                            1                                         \n",
      "Covariance Type:             nonrobust                                         \n",
      "==================================================================================\n",
      "                     coef    std err          t      P>|t|      [0.025      0.975]\n",
      "----------------------------------------------------------------------------------\n",
      "Intercept          4.0340      0.133     30.258      0.000       3.772       4.296\n",
      "Population_log     0.6631      0.031     21.126      0.000       0.601       0.725\n",
      "==============================================================================\n",
      "Omnibus:                       32.561   Durbin-Watson:                   2.005\n",
      "Prob(Omnibus):                  0.000   Jarque-Bera (JB):               46.518\n",
      "Skew:                          -0.703   Prob(JB):                     7.92e-11\n",
      "Kurtosis:                       4.284   Cond. No.                         38.3\n",
      "==============================================================================\n",
      "\n",
      "Notes:\n",
      "[1] Standard Errors assume that the covariance matrix of the errors is correctly specified.\n"
     ]
    }
   ],
   "source": [
    "# linear regression model using the least squares method.\n",
    "# Main parameters:\n",
    "# straight line slope: 0.6631\n",
    "# intercept: 4.0340\n",
    "# R-square: 0.593\n",
    "\n",
    "\n",
    "import statsmodels.formula.api as smf\n",
    "formula = 'precoContratual_log ~ Population_log'\n",
    "mod = smf.ols(formula = formula, data = data_new)\n",
    "res = mod.fit()\n",
    "print(res.summary())"
   ]
  },
  {
   "cell_type": "code",
   "execution_count": 63,
   "metadata": {},
   "outputs": [
    {
     "data": {
      "text/plain": [
       "<AxesSubplot:>"
      ]
     },
     "execution_count": 63,
     "metadata": {},
     "output_type": "execute_result"
    },
    {
     "data": {
      "image/png": "[encoded data removed]",
      "text/plain": [
       "<Figure size 432x288 with 1 Axes>"
      ]
     },
     "metadata": {
      "needs_background": "light"
     },
     "output_type": "display_data"
    }
   ],
   "source": [
    "# scatterplot of the residual errors shows that they are reasonably well divided around the zero value, indicating a\n",
    "# normal distribution\n",
    "# the linear regression model seems to work well\n",
    "\n",
    "sns.scatterplot(data = res.resid)"
   ]
  },
  {
   "cell_type": "markdown",
   "metadata": {},
   "source": [
    "---"
   ]
  },
  {
   "cell_type": "markdown",
   "metadata": {},
   "source": [
    "<b>[Step 7. | 2 point ]</b> Open Question. <br>\n",
    "Given the dataset you have been exploring, and the analysis conducted over the municipalities procurement dataset with the population data. Can you think about a question that you consider interesting to explore? Does it require obtain additional from, for instace, pordata?\n",
    "\n",
    "On this final step you have full control. Be creative and show us your ability to raise a question, identify which data you require to explore it, and report the results. Be as objective and clear as possible with your answer.\n",
    "\n",
    "Use as many cells as necessary."
   ]
  },
  {
   "cell_type": "code",
   "execution_count": 50,
   "metadata": {},
   "outputs": [],
   "source": [
    "##### creation of data_edu, expenses with construction of school buildings in the period, per month\n",
    "### according to the documentation, cpvID starting with 45214 is related to construction of buildings intended for education\n",
    "\n",
    "data_edu = data_mun[['Municipality','precoContratual', 'dataCelebracaoContrato']]\\\n",
    ".loc[data_mun['cpvID'].str.slice(start = 0, stop = 5) == '45214']\\\n",
    ".groupby(['dataCelebracaoContrato','Municipality'], as_index = False).sum()"
   ]
  },
  {
   "cell_type": "code",
   "execution_count": 51,
   "metadata": {},
   "outputs": [],
   "source": [
    "#### import student data from pordata. Rename municipalities to dataset default\n",
    "#### the data were previously processed in excel, and are available in .\\DATA\\\n",
    "#### sup: students enrolled in higher education\n",
    "#### pre_bas_sec: students enrolled in pre-school, primary and secondary education\n",
    "\n",
    "sup = pd.read_excel('.\\DATA\\sup.xlsx')\n",
    "pre_bas_sec = pd.read_excel('.\\DATA\\pre_bas_sec.xlsx')\n",
    "est = sup.append(pre_bas_sec).groupby('Municipality').sum()\n",
    "est = est.stack().to_frame().reset_index()\n",
    "est.rename(columns = {'level_1':'Year', 0:'studentsTotal'}, inplace = True)\n",
    "est['Year'] = pd.to_datetime(est['Year'], format = '%Y')\n",
    "est[\"Municipality\"].replace({'Calheta [R.A.M.]':'Calheta', \n",
    "                                 'Castanheira de Pêra':'Castanheira de Pera', \n",
    "                                 'Calheta [R.A.A.]':'Calheta São Jorge', \n",
    "                                 'Vila da Praia da Vitória':'Praia da Vitória', \n",
    "                                 'Vila Velha de Ródão':'Vila Velha de Rádío', \n",
    "                                 'Coruche':'Coruche – Câmara Municipal', \n",
    "                                 'Lagoa [R.A.A.]':'Lagoa - Açores'\n",
    "                                }, inplace=True)"
   ]
  },
  {
   "cell_type": "code",
   "execution_count": 52,
   "metadata": {
    "scrolled": false
   },
   "outputs": [
    {
     "data": {
      "text/plain": [
       "<AxesSubplot:label='25047dbf-e18c-45f7-a840-f81a7f3de8b3', xlabel='dataCelebracaoContrato'>"
      ]
     },
     "execution_count": 52,
     "metadata": {},
     "output_type": "execute_result"
    },
    {
     "data": {
      "image/png": "[encoded data removed]",
      "text/plain": [
       "<Figure size 1296x360 with 2 Axes>"
      ]
     },
     "metadata": {
      "needs_background": "light"
     },
     "output_type": "display_data"
    }
   ],
   "source": [
    "# we see a downward trend in spending on the construction of new school buildings, which is consistent with\n",
    "# the drop in the number of students enrolled. However, is the cost per student constant in all municipalities?\n",
    "\n",
    "plt.figure(figsize = (18, 5))\n",
    "sns.lineplot(data = est[['Year', 'studentsTotal']].groupby('Year', as_index = False).sum().loc[est['Year'] <= '2015-01-01' ], x = 'Year', y = 'studentsTotal')\n",
    "ax2 = plt.twinx()\n",
    "sns.lineplot(data = data_edu.groupby(pd.Grouper(key = 'dataCelebracaoContrato', freq='M')).sum(), ax = ax2)"
   ]
  },
  {
   "cell_type": "code",
   "execution_count": 57,
   "metadata": {},
   "outputs": [],
   "source": [
    "### assemble a dataset with the annual investment, by municipality\n",
    "\n",
    "data_edu_year = data_edu.groupby([pd.Grouper(key = 'dataCelebracaoContrato', freq='Y'), 'Municipality']).sum().reset_index().copy()\n",
    "data_edu_year['Year'] = pd.DatetimeIndex(data_edu_year['dataCelebracaoContrato']).year\n",
    "data_edu_year = data_edu_year.drop('dataCelebracaoContrato', axis = 1).groupby(['Municipality', 'Year']).sum().reset_index().sort_values('precoContratual', ascending = False)"
   ]
  },
  {
   "cell_type": "code",
   "execution_count": 58,
   "metadata": {},
   "outputs": [
    {
     "data": {
      "text/html": [
       "<div>\n",
       "<style scoped>\n",
       "    .dataframe tbody tr th:only-of-type {\n",
       "        vertical-align: middle;\n",
       "    }\n",
       "\n",
       "    .dataframe tbody tr th {\n",
       "        vertical-align: top;\n",
       "    }\n",
       "\n",
       "    .dataframe thead th {\n",
       "        text-align: right;\n",
       "    }\n",
       "</style>\n",
       "<table border=\"1\" class=\"dataframe\">\n",
       "  <thead>\n",
       "    <tr style=\"text-align: right;\">\n",
       "      <th></th>\n",
       "      <th>Municipality</th>\n",
       "      <th>Year</th>\n",
       "      <th>precoContratual</th>\n",
       "    </tr>\n",
       "  </thead>\n",
       "  <tbody>\n",
       "    <tr>\n",
       "      <th>34</th>\n",
       "      <td>Braga</td>\n",
       "      <td>2012</td>\n",
       "      <td>14220691.97</td>\n",
       "    </tr>\n",
       "    <tr>\n",
       "      <th>62</th>\n",
       "      <td>Lisboa</td>\n",
       "      <td>2013</td>\n",
       "      <td>13382420.21</td>\n",
       "    </tr>\n",
       "    <tr>\n",
       "      <th>48</th>\n",
       "      <td>Espinho</td>\n",
       "      <td>2012</td>\n",
       "      <td>9424979.41</td>\n",
       "    </tr>\n",
       "    <tr>\n",
       "      <th>125</th>\n",
       "      <td>Sintra</td>\n",
       "      <td>2012</td>\n",
       "      <td>6000000.00</td>\n",
       "    </tr>\n",
       "    <tr>\n",
       "      <th>156</th>\n",
       "      <td>Óbidos</td>\n",
       "      <td>2012</td>\n",
       "      <td>5936000.00</td>\n",
       "    </tr>\n",
       "    <tr>\n",
       "      <th>...</th>\n",
       "      <td>...</td>\n",
       "      <td>...</td>\n",
       "      <td>...</td>\n",
       "    </tr>\n",
       "    <tr>\n",
       "      <th>108</th>\n",
       "      <td>Portalegre</td>\n",
       "      <td>2014</td>\n",
       "      <td>9886.66</td>\n",
       "    </tr>\n",
       "    <tr>\n",
       "      <th>74</th>\n",
       "      <td>Marinha Grande</td>\n",
       "      <td>2013</td>\n",
       "      <td>9620.00</td>\n",
       "    </tr>\n",
       "    <tr>\n",
       "      <th>3</th>\n",
       "      <td>Aguiar da Beira</td>\n",
       "      <td>2014</td>\n",
       "      <td>7500.00</td>\n",
       "    </tr>\n",
       "    <tr>\n",
       "      <th>109</th>\n",
       "      <td>Porto de Mós</td>\n",
       "      <td>2013</td>\n",
       "      <td>3948.50</td>\n",
       "    </tr>\n",
       "    <tr>\n",
       "      <th>73</th>\n",
       "      <td>Marinha Grande</td>\n",
       "      <td>2012</td>\n",
       "      <td>3516.50</td>\n",
       "    </tr>\n",
       "  </tbody>\n",
       "</table>\n",
       "<p>157 rows × 3 columns</p>\n",
       "</div>"
      ],
      "text/plain": [
       "        Municipality  Year  precoContratual\n",
       "34             Braga  2012      14220691.97\n",
       "62            Lisboa  2013      13382420.21\n",
       "48           Espinho  2012       9424979.41\n",
       "125           Sintra  2012       6000000.00\n",
       "156           Óbidos  2012       5936000.00\n",
       "..               ...   ...              ...\n",
       "108       Portalegre  2014          9886.66\n",
       "74    Marinha Grande  2013          9620.00\n",
       "3    Aguiar da Beira  2014          7500.00\n",
       "109     Porto de Mós  2013          3948.50\n",
       "73    Marinha Grande  2012          3516.50\n",
       "\n",
       "[157 rows x 3 columns]"
      ]
     },
     "execution_count": 58,
     "metadata": {},
     "output_type": "execute_result"
    }
   ],
   "source": [
    "data_edu_year"
   ]
  },
  {
   "cell_type": "code",
   "execution_count": 59,
   "metadata": {},
   "outputs": [],
   "source": [
    "# dataframe adjustments est\n",
    "\n",
    "est['Year1'] = pd.DatetimeIndex(est['Year']).year\n",
    "est.drop('Year', axis = 1, inplace = True)\n",
    "est.rename({'Year1':'Year'}, axis = 1, inplace = True)"
   ]
  },
  {
   "cell_type": "code",
   "execution_count": 60,
   "metadata": {},
   "outputs": [
    {
     "data": {
      "text/html": [
       "<div>\n",
       "<style scoped>\n",
       "    .dataframe tbody tr th:only-of-type {\n",
       "        vertical-align: middle;\n",
       "    }\n",
       "\n",
       "    .dataframe tbody tr th {\n",
       "        vertical-align: top;\n",
       "    }\n",
       "\n",
       "    .dataframe thead th {\n",
       "        text-align: right;\n",
       "    }\n",
       "</style>\n",
       "<table border=\"1\" class=\"dataframe\">\n",
       "  <thead>\n",
       "    <tr style=\"text-align: right;\">\n",
       "      <th></th>\n",
       "      <th>Municipality</th>\n",
       "      <th>studentsTotal</th>\n",
       "      <th>Year</th>\n",
       "    </tr>\n",
       "  </thead>\n",
       "  <tbody>\n",
       "    <tr>\n",
       "      <th>0</th>\n",
       "      <td>Abrantes</td>\n",
       "      <td>6063</td>\n",
       "      <td>2012</td>\n",
       "    </tr>\n",
       "    <tr>\n",
       "      <th>1</th>\n",
       "      <td>Abrantes</td>\n",
       "      <td>5882</td>\n",
       "      <td>2013</td>\n",
       "    </tr>\n",
       "    <tr>\n",
       "      <th>2</th>\n",
       "      <td>Abrantes</td>\n",
       "      <td>5709</td>\n",
       "      <td>2014</td>\n",
       "    </tr>\n",
       "    <tr>\n",
       "      <th>3</th>\n",
       "      <td>Abrantes</td>\n",
       "      <td>5600</td>\n",
       "      <td>2015</td>\n",
       "    </tr>\n",
       "    <tr>\n",
       "      <th>4</th>\n",
       "      <td>Abrantes</td>\n",
       "      <td>5292</td>\n",
       "      <td>2016</td>\n",
       "    </tr>\n",
       "    <tr>\n",
       "      <th>...</th>\n",
       "      <td>...</td>\n",
       "      <td>...</td>\n",
       "      <td>...</td>\n",
       "    </tr>\n",
       "    <tr>\n",
       "      <th>2459</th>\n",
       "      <td>Óbidos</td>\n",
       "      <td>1551</td>\n",
       "      <td>2015</td>\n",
       "    </tr>\n",
       "    <tr>\n",
       "      <th>2460</th>\n",
       "      <td>Óbidos</td>\n",
       "      <td>1586</td>\n",
       "      <td>2016</td>\n",
       "    </tr>\n",
       "    <tr>\n",
       "      <th>2461</th>\n",
       "      <td>Óbidos</td>\n",
       "      <td>1550</td>\n",
       "      <td>2017</td>\n",
       "    </tr>\n",
       "    <tr>\n",
       "      <th>2462</th>\n",
       "      <td>Óbidos</td>\n",
       "      <td>1474</td>\n",
       "      <td>2018</td>\n",
       "    </tr>\n",
       "    <tr>\n",
       "      <th>2463</th>\n",
       "      <td>Óbidos</td>\n",
       "      <td>1473</td>\n",
       "      <td>2019</td>\n",
       "    </tr>\n",
       "  </tbody>\n",
       "</table>\n",
       "<p>2464 rows × 3 columns</p>\n",
       "</div>"
      ],
      "text/plain": [
       "     Municipality  studentsTotal  Year\n",
       "0        Abrantes           6063  2012\n",
       "1        Abrantes           5882  2013\n",
       "2        Abrantes           5709  2014\n",
       "3        Abrantes           5600  2015\n",
       "4        Abrantes           5292  2016\n",
       "...           ...            ...   ...\n",
       "2459       Óbidos           1551  2015\n",
       "2460       Óbidos           1586  2016\n",
       "2461       Óbidos           1550  2017\n",
       "2462       Óbidos           1474  2018\n",
       "2463       Óbidos           1473  2019\n",
       "\n",
       "[2464 rows x 3 columns]"
      ]
     },
     "execution_count": 60,
     "metadata": {},
     "output_type": "execute_result"
    }
   ],
   "source": [
    "est"
   ]
  },
  {
   "cell_type": "code",
   "execution_count": 61,
   "metadata": {},
   "outputs": [],
   "source": [
    "# merge of the two dataframes, with the creation of the additional InvestEst field (investment per student), dropping the fields\n",
    "# that are no longer needed\n",
    "\n",
    "data_est_final = pd.merge(est, data_edu_year, on=['Municipality', 'Year'])\n",
    "data_est_final['InvestEst'] = data_est_final['precoContratual']/data_est_final['studentsTotal']\n",
    "data_est_final.drop(columns = ['studentsTotal', 'precoContratual'], inplace = True)\n"
   ]
  },
  {
   "cell_type": "code",
   "execution_count": 62,
   "metadata": {},
   "outputs": [
    {
     "data": {
      "text/html": [
       "<div>\n",
       "<style scoped>\n",
       "    .dataframe tbody tr th:only-of-type {\n",
       "        vertical-align: middle;\n",
       "    }\n",
       "\n",
       "    .dataframe tbody tr th {\n",
       "        vertical-align: top;\n",
       "    }\n",
       "\n",
       "    .dataframe thead th {\n",
       "        text-align: right;\n",
       "    }\n",
       "</style>\n",
       "<table border=\"1\" class=\"dataframe\">\n",
       "  <thead>\n",
       "    <tr style=\"text-align: right;\">\n",
       "      <th></th>\n",
       "      <th>Municipality</th>\n",
       "      <th>Year</th>\n",
       "      <th>InvestEst</th>\n",
       "    </tr>\n",
       "  </thead>\n",
       "  <tbody>\n",
       "    <tr>\n",
       "      <th>0</th>\n",
       "      <td>Abrantes</td>\n",
       "      <td>2012</td>\n",
       "      <td>25.521273</td>\n",
       "    </tr>\n",
       "    <tr>\n",
       "      <th>1</th>\n",
       "      <td>Aguiar da Beira</td>\n",
       "      <td>2012</td>\n",
       "      <td>153.326652</td>\n",
       "    </tr>\n",
       "    <tr>\n",
       "      <th>2</th>\n",
       "      <td>Aguiar da Beira</td>\n",
       "      <td>2013</td>\n",
       "      <td>34.451386</td>\n",
       "    </tr>\n",
       "    <tr>\n",
       "      <th>3</th>\n",
       "      <td>Aguiar da Beira</td>\n",
       "      <td>2014</td>\n",
       "      <td>11.867089</td>\n",
       "    </tr>\n",
       "    <tr>\n",
       "      <th>4</th>\n",
       "      <td>Alandroal</td>\n",
       "      <td>2013</td>\n",
       "      <td>513.087482</td>\n",
       "    </tr>\n",
       "    <tr>\n",
       "      <th>...</th>\n",
       "      <td>...</td>\n",
       "      <td>...</td>\n",
       "      <td>...</td>\n",
       "    </tr>\n",
       "    <tr>\n",
       "      <th>152</th>\n",
       "      <td>Águeda</td>\n",
       "      <td>2012</td>\n",
       "      <td>481.239046</td>\n",
       "    </tr>\n",
       "    <tr>\n",
       "      <th>153</th>\n",
       "      <td>Águeda</td>\n",
       "      <td>2013</td>\n",
       "      <td>489.883042</td>\n",
       "    </tr>\n",
       "    <tr>\n",
       "      <th>154</th>\n",
       "      <td>Águeda</td>\n",
       "      <td>2014</td>\n",
       "      <td>246.998321</td>\n",
       "    </tr>\n",
       "    <tr>\n",
       "      <th>155</th>\n",
       "      <td>Évora</td>\n",
       "      <td>2013</td>\n",
       "      <td>185.345479</td>\n",
       "    </tr>\n",
       "    <tr>\n",
       "      <th>156</th>\n",
       "      <td>Óbidos</td>\n",
       "      <td>2012</td>\n",
       "      <td>3573.750753</td>\n",
       "    </tr>\n",
       "  </tbody>\n",
       "</table>\n",
       "<p>157 rows × 3 columns</p>\n",
       "</div>"
      ],
      "text/plain": [
       "        Municipality  Year    InvestEst\n",
       "0           Abrantes  2012    25.521273\n",
       "1    Aguiar da Beira  2012   153.326652\n",
       "2    Aguiar da Beira  2013    34.451386\n",
       "3    Aguiar da Beira  2014    11.867089\n",
       "4          Alandroal  2013   513.087482\n",
       "..               ...   ...          ...\n",
       "152           Águeda  2012   481.239046\n",
       "153           Águeda  2013   489.883042\n",
       "154           Águeda  2014   246.998321\n",
       "155            Évora  2013   185.345479\n",
       "156           Óbidos  2012  3573.750753\n",
       "\n",
       "[157 rows x 3 columns]"
      ]
     },
     "execution_count": 62,
     "metadata": {},
     "output_type": "execute_result"
    }
   ],
   "source": [
    "data_est_final"
   ]
  },
  {
   "cell_type": "code",
   "execution_count": 63,
   "metadata": {},
   "outputs": [],
   "source": [
    "# not all municipalities received investments in the 3 years of analysis. We will only select the\n",
    "# municipalities that received investment throughout the period:\n",
    "\n",
    "data_est_final = data_est_final.set_index(['Municipality', 'Year']).unstack()"
   ]
  },
  {
   "cell_type": "code",
   "execution_count": 64,
   "metadata": {},
   "outputs": [
    {
     "data": {
      "text/html": [
       "<div>\n",
       "<style scoped>\n",
       "    .dataframe tbody tr th:only-of-type {\n",
       "        vertical-align: middle;\n",
       "    }\n",
       "\n",
       "    .dataframe tbody tr th {\n",
       "        vertical-align: top;\n",
       "    }\n",
       "\n",
       "    .dataframe thead tr th {\n",
       "        text-align: left;\n",
       "    }\n",
       "\n",
       "    .dataframe thead tr:last-of-type th {\n",
       "        text-align: right;\n",
       "    }\n",
       "</style>\n",
       "<table border=\"1\" class=\"dataframe\">\n",
       "  <thead>\n",
       "    <tr>\n",
       "      <th></th>\n",
       "      <th colspan=\"3\" halign=\"left\">InvestEst</th>\n",
       "    </tr>\n",
       "    <tr>\n",
       "      <th>Year</th>\n",
       "      <th>2012</th>\n",
       "      <th>2013</th>\n",
       "      <th>2014</th>\n",
       "    </tr>\n",
       "    <tr>\n",
       "      <th>Municipality</th>\n",
       "      <th></th>\n",
       "      <th></th>\n",
       "      <th></th>\n",
       "    </tr>\n",
       "  </thead>\n",
       "  <tbody>\n",
       "    <tr>\n",
       "      <th>Aguiar da Beira</th>\n",
       "      <td>153.326652</td>\n",
       "      <td>34.451386</td>\n",
       "      <td>11.867089</td>\n",
       "    </tr>\n",
       "    <tr>\n",
       "      <th>Amares</th>\n",
       "      <td>23.389311</td>\n",
       "      <td>20.301324</td>\n",
       "      <td>31.542593</td>\n",
       "    </tr>\n",
       "    <tr>\n",
       "      <th>Figueira da Foz</th>\n",
       "      <td>10.336730</td>\n",
       "      <td>10.311103</td>\n",
       "      <td>7.256732</td>\n",
       "    </tr>\n",
       "    <tr>\n",
       "      <th>Lisboa</th>\n",
       "      <td>8.504974</td>\n",
       "      <td>57.954382</td>\n",
       "      <td>23.881646</td>\n",
       "    </tr>\n",
       "    <tr>\n",
       "      <th>Marinha Grande</th>\n",
       "      <td>0.480856</td>\n",
       "      <td>1.426876</td>\n",
       "      <td>42.833765</td>\n",
       "    </tr>\n",
       "    <tr>\n",
       "      <th>Matosinhos</th>\n",
       "      <td>5.327760</td>\n",
       "      <td>68.298514</td>\n",
       "      <td>65.469914</td>\n",
       "    </tr>\n",
       "    <tr>\n",
       "      <th>Paredes</th>\n",
       "      <td>101.074431</td>\n",
       "      <td>1.460465</td>\n",
       "      <td>7.713325</td>\n",
       "    </tr>\n",
       "    <tr>\n",
       "      <th>Pombal</th>\n",
       "      <td>8.540497</td>\n",
       "      <td>110.138587</td>\n",
       "      <td>141.509208</td>\n",
       "    </tr>\n",
       "    <tr>\n",
       "      <th>Santo Tirso</th>\n",
       "      <td>65.586073</td>\n",
       "      <td>4.136601</td>\n",
       "      <td>3.829365</td>\n",
       "    </tr>\n",
       "    <tr>\n",
       "      <th>Vila Nova de Famalicão</th>\n",
       "      <td>19.124076</td>\n",
       "      <td>78.987881</td>\n",
       "      <td>66.273570</td>\n",
       "    </tr>\n",
       "    <tr>\n",
       "      <th>Viseu</th>\n",
       "      <td>5.013971</td>\n",
       "      <td>7.452955</td>\n",
       "      <td>95.997449</td>\n",
       "    </tr>\n",
       "    <tr>\n",
       "      <th>Águeda</th>\n",
       "      <td>481.239046</td>\n",
       "      <td>489.883042</td>\n",
       "      <td>246.998321</td>\n",
       "    </tr>\n",
       "  </tbody>\n",
       "</table>\n",
       "</div>"
      ],
      "text/plain": [
       "                         InvestEst                        \n",
       "Year                          2012        2013        2014\n",
       "Municipality                                              \n",
       "Aguiar da Beira         153.326652   34.451386   11.867089\n",
       "Amares                   23.389311   20.301324   31.542593\n",
       "Figueira da Foz          10.336730   10.311103    7.256732\n",
       "Lisboa                    8.504974   57.954382   23.881646\n",
       "Marinha Grande            0.480856    1.426876   42.833765\n",
       "Matosinhos                5.327760   68.298514   65.469914\n",
       "Paredes                 101.074431    1.460465    7.713325\n",
       "Pombal                    8.540497  110.138587  141.509208\n",
       "Santo Tirso              65.586073    4.136601    3.829365\n",
       "Vila Nova de Famalicão   19.124076   78.987881   66.273570\n",
       "Viseu                     5.013971    7.452955   95.997449\n",
       "Águeda                  481.239046  489.883042  246.998321"
      ]
     },
     "execution_count": 64,
     "metadata": {},
     "output_type": "execute_result"
    }
   ],
   "source": [
    "data_est_final.loc[(data_est_final['InvestEst'][2012].notna()) & \n",
    "                                       (data_est_final['InvestEst'][2013].notna()) &\n",
    "                                       (data_est_final['InvestEst'][2014].notna())]"
   ]
  },
  {
   "cell_type": "markdown",
   "metadata": {},
   "source": [
    "__Answers:__ <br>\n",
    "<div class=\"alert alert-block alert-info\">\n",
    " \n",
    "<b>Conclusions:</b> We observe that, due to demographic characteristics in Portugal, the number of students enrolled year after year has been falling, as well as the investment in the construction of buildings for educational purposes. We also conclude that not all municipalities receive the same investments in proportion to the number of students. Observing only the universe of municipalities that received investments in the 3 years of analysis of this work, a certain pattern can be seen: municipalities go through one or two years of high investment, returning to the pattern of previous investments.\n",
    "    \n",
    "A curious case was found in the municipality of Águeda, which has a total investment per student that is much higher than in the other municipalities studied. A possible conclusion is that, since the beginning of the millennium, Águeda has lost many industrial units to its neighbors such as Tondela and Oliveira de Frades, which have become the main hubs of the metalworking industry in the region. The high investment is perhaps explained by the attempt to recover its importance at this level, with the creation of technical schools and universities.\n",
    "    \n",
    "Possible continuations of this analysis would be to analyze the suppliers of these contracts and identify any pattern or check the other municipalities and find other deviations similar to Águeda. It is also interesting to look at a longer period to understand whether normalization in investment really follows the observed pattern.7\n",
    "</div>"
   ]
  },
  {
   "cell_type": "markdown",
   "metadata": {},
   "source": [
    "## End\n",
    "\n",
    "Use the corresponding Moodle activity to submit your answers.\n",
    "The submission should contain this notebook along with a PDF/HTML version of it archived as a single .zip file."
   ]
  }
 ],
 "metadata": {
  "kernelspec": {
   "display_name": "Python 3",
   "language": "python",
   "name": "python3"
  },
  "language_info": {
   "codemirror_mode": {
    "name": "ipython",
    "version": 3
   },
   "file_extension": ".py",
   "mimetype": "text/x-python",
   "name": "python",
   "nbconvert_exporter": "python",
   "pygments_lexer": "ipython3",
   "version": "3.8.5"
  }
 },
 "nbformat": 4,
 "nbformat_minor": 2
}
